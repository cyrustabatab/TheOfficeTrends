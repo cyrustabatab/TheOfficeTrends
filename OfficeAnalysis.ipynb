{
 "cells": [
  {
   "cell_type": "code",
   "execution_count": 218,
   "id": "helpful-diagnosis",
   "metadata": {},
   "outputs": [],
   "source": [
    "import pandas as pd\n",
    "import numpy as np\n",
    "import matplotlib.pyplot as plt\n",
    "import plotly.express as px\n",
    "import seaborn as sns\n",
    "%matplotlib inline"
   ]
  },
  {
   "cell_type": "markdown",
   "id": "interesting-porter",
   "metadata": {},
   "source": [
    "# Investigate Quality and Popularity of Office Episodes Over Time"
   ]
  },
  {
   "cell_type": "code",
   "execution_count": 2,
   "id": "suspected-expense",
   "metadata": {},
   "outputs": [],
   "source": [
    "office = pd.read_csv(\"office_episodes.csv\")"
   ]
  },
  {
   "cell_type": "code",
   "execution_count": 3,
   "id": "piano-density",
   "metadata": {},
   "outputs": [
    {
     "data": {
      "text/html": [
       "<div>\n",
       "<style scoped>\n",
       "    .dataframe tbody tr th:only-of-type {\n",
       "        vertical-align: middle;\n",
       "    }\n",
       "\n",
       "    .dataframe tbody tr th {\n",
       "        vertical-align: top;\n",
       "    }\n",
       "\n",
       "    .dataframe thead th {\n",
       "        text-align: right;\n",
       "    }\n",
       "</style>\n",
       "<table border=\"1\" class=\"dataframe\">\n",
       "  <thead>\n",
       "    <tr style=\"text-align: right;\">\n",
       "      <th></th>\n",
       "      <th>episode_number</th>\n",
       "      <th>season</th>\n",
       "      <th>episode_title</th>\n",
       "      <th>description</th>\n",
       "      <th>ratings</th>\n",
       "      <th>votes</th>\n",
       "      <th>viewership_mil</th>\n",
       "      <th>duration</th>\n",
       "      <th>release_date</th>\n",
       "      <th>guest_stars</th>\n",
       "      <th>director</th>\n",
       "      <th>writers</th>\n",
       "      <th>has_guests</th>\n",
       "      <th>scaled_ratings</th>\n",
       "    </tr>\n",
       "  </thead>\n",
       "  <tbody>\n",
       "    <tr>\n",
       "      <th>0</th>\n",
       "      <td>0</td>\n",
       "      <td>1</td>\n",
       "      <td>Pilot</td>\n",
       "      <td>The premiere episode introduces the boss and s...</td>\n",
       "      <td>7.5</td>\n",
       "      <td>4936</td>\n",
       "      <td>11.2</td>\n",
       "      <td>23</td>\n",
       "      <td>2005-03-24</td>\n",
       "      <td>NaN</td>\n",
       "      <td>Ken Kwapis</td>\n",
       "      <td>Ricky Gervais |Stephen Merchant and Greg Daniels</td>\n",
       "      <td>False</td>\n",
       "      <td>0.28125</td>\n",
       "    </tr>\n",
       "    <tr>\n",
       "      <th>1</th>\n",
       "      <td>1</td>\n",
       "      <td>1</td>\n",
       "      <td>Diversity Day</td>\n",
       "      <td>Michael's off color remark puts a sensitivity ...</td>\n",
       "      <td>8.3</td>\n",
       "      <td>4801</td>\n",
       "      <td>6.0</td>\n",
       "      <td>23</td>\n",
       "      <td>2005-03-29</td>\n",
       "      <td>NaN</td>\n",
       "      <td>Ken Kwapis</td>\n",
       "      <td>B. J. Novak</td>\n",
       "      <td>False</td>\n",
       "      <td>0.53125</td>\n",
       "    </tr>\n",
       "    <tr>\n",
       "      <th>2</th>\n",
       "      <td>2</td>\n",
       "      <td>1</td>\n",
       "      <td>Health Care</td>\n",
       "      <td>Michael leaves Dwight in charge of picking the...</td>\n",
       "      <td>7.8</td>\n",
       "      <td>4024</td>\n",
       "      <td>5.8</td>\n",
       "      <td>22</td>\n",
       "      <td>2005-04-05</td>\n",
       "      <td>NaN</td>\n",
       "      <td>Ken Whittingham</td>\n",
       "      <td>Paul Lieberstein</td>\n",
       "      <td>False</td>\n",
       "      <td>0.37500</td>\n",
       "    </tr>\n",
       "    <tr>\n",
       "      <th>3</th>\n",
       "      <td>3</td>\n",
       "      <td>1</td>\n",
       "      <td>The Alliance</td>\n",
       "      <td>Just for a laugh, Jim agrees to an alliance wi...</td>\n",
       "      <td>8.1</td>\n",
       "      <td>3915</td>\n",
       "      <td>5.4</td>\n",
       "      <td>23</td>\n",
       "      <td>2005-04-12</td>\n",
       "      <td>NaN</td>\n",
       "      <td>Bryan Gordon</td>\n",
       "      <td>Michael Schur</td>\n",
       "      <td>False</td>\n",
       "      <td>0.46875</td>\n",
       "    </tr>\n",
       "    <tr>\n",
       "      <th>4</th>\n",
       "      <td>4</td>\n",
       "      <td>1</td>\n",
       "      <td>Basketball</td>\n",
       "      <td>Michael and his staff challenge the warehouse ...</td>\n",
       "      <td>8.4</td>\n",
       "      <td>4294</td>\n",
       "      <td>5.0</td>\n",
       "      <td>23</td>\n",
       "      <td>2005-04-19</td>\n",
       "      <td>NaN</td>\n",
       "      <td>Greg Daniels</td>\n",
       "      <td>Greg Daniels</td>\n",
       "      <td>False</td>\n",
       "      <td>0.56250</td>\n",
       "    </tr>\n",
       "  </tbody>\n",
       "</table>\n",
       "</div>"
      ],
      "text/plain": [
       "   episode_number  season  episode_title  \\\n",
       "0               0       1          Pilot   \n",
       "1               1       1  Diversity Day   \n",
       "2               2       1    Health Care   \n",
       "3               3       1   The Alliance   \n",
       "4               4       1     Basketball   \n",
       "\n",
       "                                         description  ratings  votes  \\\n",
       "0  The premiere episode introduces the boss and s...      7.5   4936   \n",
       "1  Michael's off color remark puts a sensitivity ...      8.3   4801   \n",
       "2  Michael leaves Dwight in charge of picking the...      7.8   4024   \n",
       "3  Just for a laugh, Jim agrees to an alliance wi...      8.1   3915   \n",
       "4  Michael and his staff challenge the warehouse ...      8.4   4294   \n",
       "\n",
       "   viewership_mil  duration release_date guest_stars         director  \\\n",
       "0            11.2        23   2005-03-24         NaN       Ken Kwapis   \n",
       "1             6.0        23   2005-03-29         NaN       Ken Kwapis   \n",
       "2             5.8        22   2005-04-05         NaN  Ken Whittingham   \n",
       "3             5.4        23   2005-04-12         NaN     Bryan Gordon   \n",
       "4             5.0        23   2005-04-19         NaN     Greg Daniels   \n",
       "\n",
       "                                            writers  has_guests  \\\n",
       "0  Ricky Gervais |Stephen Merchant and Greg Daniels       False   \n",
       "1                                       B. J. Novak       False   \n",
       "2                                  Paul Lieberstein       False   \n",
       "3                                     Michael Schur       False   \n",
       "4                                      Greg Daniels       False   \n",
       "\n",
       "   scaled_ratings  \n",
       "0         0.28125  \n",
       "1         0.53125  \n",
       "2         0.37500  \n",
       "3         0.46875  \n",
       "4         0.56250  "
      ]
     },
     "execution_count": 3,
     "metadata": {},
     "output_type": "execute_result"
    }
   ],
   "source": [
    "office.head()"
   ]
  },
  {
   "cell_type": "code",
   "execution_count": 5,
   "id": "spatial-international",
   "metadata": {},
   "outputs": [
    {
     "data": {
      "text/plain": [
       "<AxesSubplot:>"
      ]
     },
     "execution_count": 5,
     "metadata": {},
     "output_type": "execute_result"
    },
    {
     "data": {
      "image/png": "[encoded data removed]",
      "text/plain": [
       "<Figure size 432x288 with 1 Axes>"
      ]
     },
     "metadata": {
      "needs_background": "light"
     },
     "output_type": "display_data"
    }
   ],
   "source": [
    "office.viewership_mil.plot()"
   ]
  },
  {
   "cell_type": "code",
   "execution_count": 8,
   "id": "extreme-invention",
   "metadata": {},
   "outputs": [
    {
     "data": {
      "text/html": [
       "<div>\n",
       "<style scoped>\n",
       "    .dataframe tbody tr th:only-of-type {\n",
       "        vertical-align: middle;\n",
       "    }\n",
       "\n",
       "    .dataframe tbody tr th {\n",
       "        vertical-align: top;\n",
       "    }\n",
       "\n",
       "    .dataframe thead th {\n",
       "        text-align: right;\n",
       "    }\n",
       "</style>\n",
       "<table border=\"1\" class=\"dataframe\">\n",
       "  <thead>\n",
       "    <tr style=\"text-align: right;\">\n",
       "      <th></th>\n",
       "      <th>episode_number</th>\n",
       "      <th>season</th>\n",
       "      <th>episode_title</th>\n",
       "      <th>description</th>\n",
       "      <th>ratings</th>\n",
       "      <th>votes</th>\n",
       "      <th>viewership_mil</th>\n",
       "      <th>duration</th>\n",
       "      <th>release_date</th>\n",
       "      <th>guest_stars</th>\n",
       "      <th>director</th>\n",
       "      <th>writers</th>\n",
       "      <th>has_guests</th>\n",
       "      <th>scaled_ratings</th>\n",
       "    </tr>\n",
       "  </thead>\n",
       "  <tbody>\n",
       "    <tr>\n",
       "      <th>77</th>\n",
       "      <td>77</td>\n",
       "      <td>5</td>\n",
       "      <td>Stress Relief</td>\n",
       "      <td>Dwight's too-realistic fire alarm gives Stanle...</td>\n",
       "      <td>9.7</td>\n",
       "      <td>8170</td>\n",
       "      <td>22.91</td>\n",
       "      <td>60</td>\n",
       "      <td>2009-02-01</td>\n",
       "      <td>Cloris Leachman, Jack Black, Jessica Alba</td>\n",
       "      <td>Jeffrey Blitz</td>\n",
       "      <td>Paul Lieberstein</td>\n",
       "      <td>True</td>\n",
       "      <td>0.96875</td>\n",
       "    </tr>\n",
       "    <tr>\n",
       "      <th>0</th>\n",
       "      <td>0</td>\n",
       "      <td>1</td>\n",
       "      <td>Pilot</td>\n",
       "      <td>The premiere episode introduces the boss and s...</td>\n",
       "      <td>7.5</td>\n",
       "      <td>4936</td>\n",
       "      <td>11.20</td>\n",
       "      <td>23</td>\n",
       "      <td>2005-03-24</td>\n",
       "      <td>NaN</td>\n",
       "      <td>Ken Kwapis</td>\n",
       "      <td>Ricky Gervais |Stephen Merchant and Greg Daniels</td>\n",
       "      <td>False</td>\n",
       "      <td>0.28125</td>\n",
       "    </tr>\n",
       "    <tr>\n",
       "      <th>17</th>\n",
       "      <td>17</td>\n",
       "      <td>2</td>\n",
       "      <td>The Injury</td>\n",
       "      <td>Michael's \"injury\" from a George Foreman Grill...</td>\n",
       "      <td>9.1</td>\n",
       "      <td>4314</td>\n",
       "      <td>10.30</td>\n",
       "      <td>22</td>\n",
       "      <td>2006-01-12</td>\n",
       "      <td>NaN</td>\n",
       "      <td>Bryan Gordon</td>\n",
       "      <td>Mindy Kaling</td>\n",
       "      <td>False</td>\n",
       "      <td>0.78125</td>\n",
       "    </tr>\n",
       "    <tr>\n",
       "      <th>40</th>\n",
       "      <td>40</td>\n",
       "      <td>3</td>\n",
       "      <td>The Return</td>\n",
       "      <td>Andy does the impossible--he makes everyone in...</td>\n",
       "      <td>8.8</td>\n",
       "      <td>3211</td>\n",
       "      <td>10.20</td>\n",
       "      <td>28</td>\n",
       "      <td>2007-01-18</td>\n",
       "      <td>NaN</td>\n",
       "      <td>Greg Daniels</td>\n",
       "      <td>Lee Eisenberg | Gene Stupnitsky | Michael Schur</td>\n",
       "      <td>False</td>\n",
       "      <td>0.68750</td>\n",
       "    </tr>\n",
       "    <tr>\n",
       "      <th>39</th>\n",
       "      <td>39</td>\n",
       "      <td>3</td>\n",
       "      <td>Traveling Salesmen</td>\n",
       "      <td>Dwight does a favor for Angela to keep her fro...</td>\n",
       "      <td>8.6</td>\n",
       "      <td>3053</td>\n",
       "      <td>10.12</td>\n",
       "      <td>22</td>\n",
       "      <td>2007-01-11</td>\n",
       "      <td>NaN</td>\n",
       "      <td>Greg Daniels</td>\n",
       "      <td>Michael Schur | Lee Eisenberg | Gene Stupnitsky</td>\n",
       "      <td>False</td>\n",
       "      <td>0.62500</td>\n",
       "    </tr>\n",
       "    <tr>\n",
       "      <th>41</th>\n",
       "      <td>41</td>\n",
       "      <td>3</td>\n",
       "      <td>Ben Franklin</td>\n",
       "      <td>Michael asks Jim to get a male stripper for Ph...</td>\n",
       "      <td>8.1</td>\n",
       "      <td>2975</td>\n",
       "      <td>10.11</td>\n",
       "      <td>21</td>\n",
       "      <td>2007-02-01</td>\n",
       "      <td>NaN</td>\n",
       "      <td>Randall Einhorn</td>\n",
       "      <td>Mindy Kaling</td>\n",
       "      <td>False</td>\n",
       "      <td>0.46875</td>\n",
       "    </tr>\n",
       "    <tr>\n",
       "      <th>60</th>\n",
       "      <td>60</td>\n",
       "      <td>4</td>\n",
       "      <td>Chair Model</td>\n",
       "      <td>Kevin and Andy team up to reclaim the stolen D...</td>\n",
       "      <td>8.0</td>\n",
       "      <td>2757</td>\n",
       "      <td>9.81</td>\n",
       "      <td>30</td>\n",
       "      <td>2008-04-17</td>\n",
       "      <td>NaN</td>\n",
       "      <td>Jeffrey Blitz</td>\n",
       "      <td>B. J. Novak</td>\n",
       "      <td>False</td>\n",
       "      <td>0.43750</td>\n",
       "    </tr>\n",
       "    <tr>\n",
       "      <th>15</th>\n",
       "      <td>15</td>\n",
       "      <td>2</td>\n",
       "      <td>Christmas Party</td>\n",
       "      <td>Seeing the party is headed for disastrous bore...</td>\n",
       "      <td>8.9</td>\n",
       "      <td>3663</td>\n",
       "      <td>9.70</td>\n",
       "      <td>22</td>\n",
       "      <td>2005-12-06</td>\n",
       "      <td>NaN</td>\n",
       "      <td>Charles McDougall</td>\n",
       "      <td>Michael Schur</td>\n",
       "      <td>False</td>\n",
       "      <td>0.71875</td>\n",
       "    </tr>\n",
       "    <tr>\n",
       "      <th>51</th>\n",
       "      <td>51</td>\n",
       "      <td>4</td>\n",
       "      <td>Fun Run</td>\n",
       "      <td>Michael accidentally runs over Meridith in the...</td>\n",
       "      <td>8.8</td>\n",
       "      <td>3635</td>\n",
       "      <td>9.70</td>\n",
       "      <td>42</td>\n",
       "      <td>2007-09-27</td>\n",
       "      <td>NaN</td>\n",
       "      <td>Greg Daniels</td>\n",
       "      <td>Greg Daniels</td>\n",
       "      <td>False</td>\n",
       "      <td>0.68750</td>\n",
       "    </tr>\n",
       "    <tr>\n",
       "      <th>94</th>\n",
       "      <td>94</td>\n",
       "      <td>6</td>\n",
       "      <td>Niagara: Part 1</td>\n",
       "      <td>The Office travels to Niagara Falls to celebra...</td>\n",
       "      <td>9.4</td>\n",
       "      <td>4560</td>\n",
       "      <td>9.42</td>\n",
       "      <td>30</td>\n",
       "      <td>2009-10-08</td>\n",
       "      <td>NaN</td>\n",
       "      <td>Paul Feig</td>\n",
       "      <td>Greg Daniels | Mindy Kaling</td>\n",
       "      <td>False</td>\n",
       "      <td>0.87500</td>\n",
       "    </tr>\n",
       "  </tbody>\n",
       "</table>\n",
       "</div>"
      ],
      "text/plain": [
       "    episode_number  season       episode_title  \\\n",
       "77              77       5       Stress Relief   \n",
       "0                0       1               Pilot   \n",
       "17              17       2          The Injury   \n",
       "40              40       3          The Return   \n",
       "39              39       3  Traveling Salesmen   \n",
       "41              41       3        Ben Franklin   \n",
       "60              60       4         Chair Model   \n",
       "15              15       2     Christmas Party   \n",
       "51              51       4             Fun Run   \n",
       "94              94       6     Niagara: Part 1   \n",
       "\n",
       "                                          description  ratings  votes  \\\n",
       "77  Dwight's too-realistic fire alarm gives Stanle...      9.7   8170   \n",
       "0   The premiere episode introduces the boss and s...      7.5   4936   \n",
       "17  Michael's \"injury\" from a George Foreman Grill...      9.1   4314   \n",
       "40  Andy does the impossible--he makes everyone in...      8.8   3211   \n",
       "39  Dwight does a favor for Angela to keep her fro...      8.6   3053   \n",
       "41  Michael asks Jim to get a male stripper for Ph...      8.1   2975   \n",
       "60  Kevin and Andy team up to reclaim the stolen D...      8.0   2757   \n",
       "15  Seeing the party is headed for disastrous bore...      8.9   3663   \n",
       "51  Michael accidentally runs over Meridith in the...      8.8   3635   \n",
       "94  The Office travels to Niagara Falls to celebra...      9.4   4560   \n",
       "\n",
       "    viewership_mil  duration release_date  \\\n",
       "77           22.91        60   2009-02-01   \n",
       "0            11.20        23   2005-03-24   \n",
       "17           10.30        22   2006-01-12   \n",
       "40           10.20        28   2007-01-18   \n",
       "39           10.12        22   2007-01-11   \n",
       "41           10.11        21   2007-02-01   \n",
       "60            9.81        30   2008-04-17   \n",
       "15            9.70        22   2005-12-06   \n",
       "51            9.70        42   2007-09-27   \n",
       "94            9.42        30   2009-10-08   \n",
       "\n",
       "                                  guest_stars           director  \\\n",
       "77  Cloris Leachman, Jack Black, Jessica Alba      Jeffrey Blitz   \n",
       "0                                         NaN         Ken Kwapis   \n",
       "17                                        NaN       Bryan Gordon   \n",
       "40                                        NaN       Greg Daniels   \n",
       "39                                        NaN       Greg Daniels   \n",
       "41                                        NaN    Randall Einhorn   \n",
       "60                                        NaN      Jeffrey Blitz   \n",
       "15                                        NaN  Charles McDougall   \n",
       "51                                        NaN       Greg Daniels   \n",
       "94                                        NaN          Paul Feig   \n",
       "\n",
       "                                             writers  has_guests  \\\n",
       "77                                  Paul Lieberstein        True   \n",
       "0   Ricky Gervais |Stephen Merchant and Greg Daniels       False   \n",
       "17                                      Mindy Kaling       False   \n",
       "40   Lee Eisenberg | Gene Stupnitsky | Michael Schur       False   \n",
       "39   Michael Schur | Lee Eisenberg | Gene Stupnitsky       False   \n",
       "41                                      Mindy Kaling       False   \n",
       "60                                       B. J. Novak       False   \n",
       "15                                     Michael Schur       False   \n",
       "51                                      Greg Daniels       False   \n",
       "94                       Greg Daniels | Mindy Kaling       False   \n",
       "\n",
       "    scaled_ratings  \n",
       "77         0.96875  \n",
       "0          0.28125  \n",
       "17         0.78125  \n",
       "40         0.68750  \n",
       "39         0.62500  \n",
       "41         0.46875  \n",
       "60         0.43750  \n",
       "15         0.71875  \n",
       "51         0.68750  \n",
       "94         0.87500  "
      ]
     },
     "execution_count": 8,
     "metadata": {},
     "output_type": "execute_result"
    }
   ],
   "source": [
    "office.nlargest(10,'viewership_mil')"
   ]
  },
  {
   "cell_type": "code",
   "execution_count": 9,
   "id": "mental-master",
   "metadata": {},
   "outputs": [
    {
     "data": {
      "text/plain": [
       "season\n",
       "1     6\n",
       "2    22\n",
       "3    23\n",
       "4    14\n",
       "5    26\n",
       "6    26\n",
       "7    24\n",
       "8    24\n",
       "9    23\n",
       "dtype: int64"
      ]
     },
     "execution_count": 9,
     "metadata": {},
     "output_type": "execute_result"
    }
   ],
   "source": [
    "office.groupby('season').size()"
   ]
  },
  {
   "cell_type": "code",
   "execution_count": 16,
   "id": "continent-oasis",
   "metadata": {},
   "outputs": [
    {
     "data": {
      "text/plain": [
       "<AxesSubplot:>"
      ]
     },
     "execution_count": 16,
     "metadata": {},
     "output_type": "execute_result"
    },
    {
     "data": {
      "image/png": "[encoded data removed]",
      "text/plain": [
       "<Figure size 432x288 with 1 Axes>"
      ]
     },
     "metadata": {
      "needs_background": "light"
     },
     "output_type": "display_data"
    }
   ],
   "source": [
    "office.director.value_counts().head(5).plot(kind='barh',color=sns.color_palette('Blues_r',5))"
   ]
  },
  {
   "cell_type": "code",
   "execution_count": 17,
   "id": "prime-pound",
   "metadata": {},
   "outputs": [
    {
     "data": {
      "text/html": [
       "<div>\n",
       "<style scoped>\n",
       "    .dataframe tbody tr th:only-of-type {\n",
       "        vertical-align: middle;\n",
       "    }\n",
       "\n",
       "    .dataframe tbody tr th {\n",
       "        vertical-align: top;\n",
       "    }\n",
       "\n",
       "    .dataframe thead th {\n",
       "        text-align: right;\n",
       "    }\n",
       "</style>\n",
       "<table border=\"1\" class=\"dataframe\">\n",
       "  <thead>\n",
       "    <tr style=\"text-align: right;\">\n",
       "      <th></th>\n",
       "      <th>episode_number</th>\n",
       "      <th>season</th>\n",
       "      <th>episode_title</th>\n",
       "      <th>description</th>\n",
       "      <th>ratings</th>\n",
       "      <th>votes</th>\n",
       "      <th>viewership_mil</th>\n",
       "      <th>duration</th>\n",
       "      <th>release_date</th>\n",
       "      <th>guest_stars</th>\n",
       "      <th>director</th>\n",
       "      <th>writers</th>\n",
       "      <th>has_guests</th>\n",
       "      <th>scaled_ratings</th>\n",
       "    </tr>\n",
       "  </thead>\n",
       "  <tbody>\n",
       "    <tr>\n",
       "      <th>0</th>\n",
       "      <td>0</td>\n",
       "      <td>1</td>\n",
       "      <td>Pilot</td>\n",
       "      <td>The premiere episode introduces the boss and s...</td>\n",
       "      <td>7.5</td>\n",
       "      <td>4936</td>\n",
       "      <td>11.2</td>\n",
       "      <td>23</td>\n",
       "      <td>2005-03-24</td>\n",
       "      <td>NaN</td>\n",
       "      <td>Ken Kwapis</td>\n",
       "      <td>Ricky Gervais |Stephen Merchant and Greg Daniels</td>\n",
       "      <td>False</td>\n",
       "      <td>0.28125</td>\n",
       "    </tr>\n",
       "    <tr>\n",
       "      <th>1</th>\n",
       "      <td>1</td>\n",
       "      <td>1</td>\n",
       "      <td>Diversity Day</td>\n",
       "      <td>Michael's off color remark puts a sensitivity ...</td>\n",
       "      <td>8.3</td>\n",
       "      <td>4801</td>\n",
       "      <td>6.0</td>\n",
       "      <td>23</td>\n",
       "      <td>2005-03-29</td>\n",
       "      <td>NaN</td>\n",
       "      <td>Ken Kwapis</td>\n",
       "      <td>B. J. Novak</td>\n",
       "      <td>False</td>\n",
       "      <td>0.53125</td>\n",
       "    </tr>\n",
       "    <tr>\n",
       "      <th>2</th>\n",
       "      <td>2</td>\n",
       "      <td>1</td>\n",
       "      <td>Health Care</td>\n",
       "      <td>Michael leaves Dwight in charge of picking the...</td>\n",
       "      <td>7.8</td>\n",
       "      <td>4024</td>\n",
       "      <td>5.8</td>\n",
       "      <td>22</td>\n",
       "      <td>2005-04-05</td>\n",
       "      <td>NaN</td>\n",
       "      <td>Ken Whittingham</td>\n",
       "      <td>Paul Lieberstein</td>\n",
       "      <td>False</td>\n",
       "      <td>0.37500</td>\n",
       "    </tr>\n",
       "    <tr>\n",
       "      <th>3</th>\n",
       "      <td>3</td>\n",
       "      <td>1</td>\n",
       "      <td>The Alliance</td>\n",
       "      <td>Just for a laugh, Jim agrees to an alliance wi...</td>\n",
       "      <td>8.1</td>\n",
       "      <td>3915</td>\n",
       "      <td>5.4</td>\n",
       "      <td>23</td>\n",
       "      <td>2005-04-12</td>\n",
       "      <td>NaN</td>\n",
       "      <td>Bryan Gordon</td>\n",
       "      <td>Michael Schur</td>\n",
       "      <td>False</td>\n",
       "      <td>0.46875</td>\n",
       "    </tr>\n",
       "    <tr>\n",
       "      <th>4</th>\n",
       "      <td>4</td>\n",
       "      <td>1</td>\n",
       "      <td>Basketball</td>\n",
       "      <td>Michael and his staff challenge the warehouse ...</td>\n",
       "      <td>8.4</td>\n",
       "      <td>4294</td>\n",
       "      <td>5.0</td>\n",
       "      <td>23</td>\n",
       "      <td>2005-04-19</td>\n",
       "      <td>NaN</td>\n",
       "      <td>Greg Daniels</td>\n",
       "      <td>Greg Daniels</td>\n",
       "      <td>False</td>\n",
       "      <td>0.56250</td>\n",
       "    </tr>\n",
       "  </tbody>\n",
       "</table>\n",
       "</div>"
      ],
      "text/plain": [
       "   episode_number  season  episode_title  \\\n",
       "0               0       1          Pilot   \n",
       "1               1       1  Diversity Day   \n",
       "2               2       1    Health Care   \n",
       "3               3       1   The Alliance   \n",
       "4               4       1     Basketball   \n",
       "\n",
       "                                         description  ratings  votes  \\\n",
       "0  The premiere episode introduces the boss and s...      7.5   4936   \n",
       "1  Michael's off color remark puts a sensitivity ...      8.3   4801   \n",
       "2  Michael leaves Dwight in charge of picking the...      7.8   4024   \n",
       "3  Just for a laugh, Jim agrees to an alliance wi...      8.1   3915   \n",
       "4  Michael and his staff challenge the warehouse ...      8.4   4294   \n",
       "\n",
       "   viewership_mil  duration release_date guest_stars         director  \\\n",
       "0            11.2        23   2005-03-24         NaN       Ken Kwapis   \n",
       "1             6.0        23   2005-03-29         NaN       Ken Kwapis   \n",
       "2             5.8        22   2005-04-05         NaN  Ken Whittingham   \n",
       "3             5.4        23   2005-04-12         NaN     Bryan Gordon   \n",
       "4             5.0        23   2005-04-19         NaN     Greg Daniels   \n",
       "\n",
       "                                            writers  has_guests  \\\n",
       "0  Ricky Gervais |Stephen Merchant and Greg Daniels       False   \n",
       "1                                       B. J. Novak       False   \n",
       "2                                  Paul Lieberstein       False   \n",
       "3                                     Michael Schur       False   \n",
       "4                                      Greg Daniels       False   \n",
       "\n",
       "   scaled_ratings  \n",
       "0         0.28125  \n",
       "1         0.53125  \n",
       "2         0.37500  \n",
       "3         0.46875  \n",
       "4         0.56250  "
      ]
     },
     "execution_count": 17,
     "metadata": {},
     "output_type": "execute_result"
    }
   ],
   "source": [
    "office.head()"
   ]
  },
  {
   "cell_type": "code",
   "execution_count": 26,
   "id": "agricultural-arkansas",
   "metadata": {},
   "outputs": [
    {
     "data": {
      "text/plain": [
       "<matplotlib.collections.PathCollection at 0x2498dd5a9c8>"
      ]
     },
     "execution_count": 26,
     "metadata": {},
     "output_type": "execute_result"
    },
    {
     "data": {
      "image/png": "[encoded data removed]",
      "text/plain": [
       "<Figure size 1440x864 with 1 Axes>"
      ]
     },
     "metadata": {
      "needs_background": "light"
     },
     "output_type": "display_data"
    }
   ],
   "source": [
    "fig,ax = plt.subplots(figsize=(20,12))\n",
    "\n",
    "plt.scatter(x=office.episode_number,y=office.viewership_mil)"
   ]
  },
  {
   "cell_type": "code",
   "execution_count": 50,
   "id": "innovative-price",
   "metadata": {},
   "outputs": [],
   "source": [
    "office['rating_colors'] = pd.cut(office.scaled_ratings,[0,0.25,0.50,0.75,np.inf],right=False,labels=['red','orange','lightgreen','darkgreen'],ordered=False)"
   ]
  },
  {
   "cell_type": "code",
   "execution_count": 51,
   "id": "afraid-geography",
   "metadata": {},
   "outputs": [
    {
     "data": {
      "text/html": [
       "<div>\n",
       "<style scoped>\n",
       "    .dataframe tbody tr th:only-of-type {\n",
       "        vertical-align: middle;\n",
       "    }\n",
       "\n",
       "    .dataframe tbody tr th {\n",
       "        vertical-align: top;\n",
       "    }\n",
       "\n",
       "    .dataframe thead th {\n",
       "        text-align: right;\n",
       "    }\n",
       "</style>\n",
       "<table border=\"1\" class=\"dataframe\">\n",
       "  <thead>\n",
       "    <tr style=\"text-align: right;\">\n",
       "      <th></th>\n",
       "      <th>episode_number</th>\n",
       "      <th>season</th>\n",
       "      <th>episode_title</th>\n",
       "      <th>description</th>\n",
       "      <th>ratings</th>\n",
       "      <th>votes</th>\n",
       "      <th>viewership_mil</th>\n",
       "      <th>duration</th>\n",
       "      <th>release_date</th>\n",
       "      <th>guest_stars</th>\n",
       "      <th>director</th>\n",
       "      <th>writers</th>\n",
       "      <th>has_guests</th>\n",
       "      <th>scaled_ratings</th>\n",
       "      <th>rating_labels</th>\n",
       "      <th>rating_colors</th>\n",
       "    </tr>\n",
       "  </thead>\n",
       "  <tbody>\n",
       "    <tr>\n",
       "      <th>0</th>\n",
       "      <td>0</td>\n",
       "      <td>1</td>\n",
       "      <td>Pilot</td>\n",
       "      <td>The premiere episode introduces the boss and s...</td>\n",
       "      <td>7.5</td>\n",
       "      <td>4936</td>\n",
       "      <td>11.20</td>\n",
       "      <td>23</td>\n",
       "      <td>2005-03-24</td>\n",
       "      <td>NaN</td>\n",
       "      <td>Ken Kwapis</td>\n",
       "      <td>Ricky Gervais |Stephen Merchant and Greg Daniels</td>\n",
       "      <td>False</td>\n",
       "      <td>0.28125</td>\n",
       "      <td>NaN</td>\n",
       "      <td>orange</td>\n",
       "    </tr>\n",
       "    <tr>\n",
       "      <th>1</th>\n",
       "      <td>1</td>\n",
       "      <td>1</td>\n",
       "      <td>Diversity Day</td>\n",
       "      <td>Michael's off color remark puts a sensitivity ...</td>\n",
       "      <td>8.3</td>\n",
       "      <td>4801</td>\n",
       "      <td>6.00</td>\n",
       "      <td>23</td>\n",
       "      <td>2005-03-29</td>\n",
       "      <td>NaN</td>\n",
       "      <td>Ken Kwapis</td>\n",
       "      <td>B. J. Novak</td>\n",
       "      <td>False</td>\n",
       "      <td>0.53125</td>\n",
       "      <td>NaN</td>\n",
       "      <td>lightgreen</td>\n",
       "    </tr>\n",
       "    <tr>\n",
       "      <th>2</th>\n",
       "      <td>2</td>\n",
       "      <td>1</td>\n",
       "      <td>Health Care</td>\n",
       "      <td>Michael leaves Dwight in charge of picking the...</td>\n",
       "      <td>7.8</td>\n",
       "      <td>4024</td>\n",
       "      <td>5.80</td>\n",
       "      <td>22</td>\n",
       "      <td>2005-04-05</td>\n",
       "      <td>NaN</td>\n",
       "      <td>Ken Whittingham</td>\n",
       "      <td>Paul Lieberstein</td>\n",
       "      <td>False</td>\n",
       "      <td>0.37500</td>\n",
       "      <td>NaN</td>\n",
       "      <td>orange</td>\n",
       "    </tr>\n",
       "    <tr>\n",
       "      <th>3</th>\n",
       "      <td>3</td>\n",
       "      <td>1</td>\n",
       "      <td>The Alliance</td>\n",
       "      <td>Just for a laugh, Jim agrees to an alliance wi...</td>\n",
       "      <td>8.1</td>\n",
       "      <td>3915</td>\n",
       "      <td>5.40</td>\n",
       "      <td>23</td>\n",
       "      <td>2005-04-12</td>\n",
       "      <td>NaN</td>\n",
       "      <td>Bryan Gordon</td>\n",
       "      <td>Michael Schur</td>\n",
       "      <td>False</td>\n",
       "      <td>0.46875</td>\n",
       "      <td>NaN</td>\n",
       "      <td>orange</td>\n",
       "    </tr>\n",
       "    <tr>\n",
       "      <th>4</th>\n",
       "      <td>4</td>\n",
       "      <td>1</td>\n",
       "      <td>Basketball</td>\n",
       "      <td>Michael and his staff challenge the warehouse ...</td>\n",
       "      <td>8.4</td>\n",
       "      <td>4294</td>\n",
       "      <td>5.00</td>\n",
       "      <td>23</td>\n",
       "      <td>2005-04-19</td>\n",
       "      <td>NaN</td>\n",
       "      <td>Greg Daniels</td>\n",
       "      <td>Greg Daniels</td>\n",
       "      <td>False</td>\n",
       "      <td>0.56250</td>\n",
       "      <td>NaN</td>\n",
       "      <td>lightgreen</td>\n",
       "    </tr>\n",
       "    <tr>\n",
       "      <th>...</th>\n",
       "      <td>...</td>\n",
       "      <td>...</td>\n",
       "      <td>...</td>\n",
       "      <td>...</td>\n",
       "      <td>...</td>\n",
       "      <td>...</td>\n",
       "      <td>...</td>\n",
       "      <td>...</td>\n",
       "      <td>...</td>\n",
       "      <td>...</td>\n",
       "      <td>...</td>\n",
       "      <td>...</td>\n",
       "      <td>...</td>\n",
       "      <td>...</td>\n",
       "      <td>...</td>\n",
       "      <td>...</td>\n",
       "    </tr>\n",
       "    <tr>\n",
       "      <th>183</th>\n",
       "      <td>183</td>\n",
       "      <td>9</td>\n",
       "      <td>Stairmageddon</td>\n",
       "      <td>Dwight shoots Stanley with a bull tranquilizer...</td>\n",
       "      <td>8.0</td>\n",
       "      <td>1985</td>\n",
       "      <td>3.83</td>\n",
       "      <td>22</td>\n",
       "      <td>2013-04-11</td>\n",
       "      <td>NaN</td>\n",
       "      <td>Matt Sohn</td>\n",
       "      <td>Dan Sterling</td>\n",
       "      <td>False</td>\n",
       "      <td>0.43750</td>\n",
       "      <td>NaN</td>\n",
       "      <td>orange</td>\n",
       "    </tr>\n",
       "    <tr>\n",
       "      <th>184</th>\n",
       "      <td>184</td>\n",
       "      <td>9</td>\n",
       "      <td>Paper Airplane</td>\n",
       "      <td>The employees hold a paper airplane competitio...</td>\n",
       "      <td>8.0</td>\n",
       "      <td>2007</td>\n",
       "      <td>3.25</td>\n",
       "      <td>22</td>\n",
       "      <td>2013-04-25</td>\n",
       "      <td>NaN</td>\n",
       "      <td>Jesse Peretz</td>\n",
       "      <td>Halsted Sullivan | Warren Lieberstein</td>\n",
       "      <td>False</td>\n",
       "      <td>0.43750</td>\n",
       "      <td>NaN</td>\n",
       "      <td>orange</td>\n",
       "    </tr>\n",
       "    <tr>\n",
       "      <th>185</th>\n",
       "      <td>185</td>\n",
       "      <td>9</td>\n",
       "      <td>Livin' the Dream</td>\n",
       "      <td>Dwight becomes regional manager after Andy qui...</td>\n",
       "      <td>9.0</td>\n",
       "      <td>2831</td>\n",
       "      <td>3.51</td>\n",
       "      <td>42</td>\n",
       "      <td>2013-05-02</td>\n",
       "      <td>Michael Imperioli</td>\n",
       "      <td>Jeffrey Blitz</td>\n",
       "      <td>Niki Schwartz-Wright</td>\n",
       "      <td>True</td>\n",
       "      <td>0.75000</td>\n",
       "      <td>NaN</td>\n",
       "      <td>darkgreen</td>\n",
       "    </tr>\n",
       "    <tr>\n",
       "      <th>186</th>\n",
       "      <td>186</td>\n",
       "      <td>9</td>\n",
       "      <td>A.A.R.M.</td>\n",
       "      <td>Dwight prepares for a marriage proposal and hi...</td>\n",
       "      <td>9.5</td>\n",
       "      <td>3914</td>\n",
       "      <td>4.56</td>\n",
       "      <td>43</td>\n",
       "      <td>2013-05-09</td>\n",
       "      <td>NaN</td>\n",
       "      <td>David Rogers</td>\n",
       "      <td>Brent Forrester</td>\n",
       "      <td>False</td>\n",
       "      <td>0.90625</td>\n",
       "      <td>NaN</td>\n",
       "      <td>darkgreen</td>\n",
       "    </tr>\n",
       "    <tr>\n",
       "      <th>187</th>\n",
       "      <td>187</td>\n",
       "      <td>9</td>\n",
       "      <td>Finale</td>\n",
       "      <td>One year later, Dunder Mifflin employees past ...</td>\n",
       "      <td>9.8</td>\n",
       "      <td>10515</td>\n",
       "      <td>5.69</td>\n",
       "      <td>51</td>\n",
       "      <td>2013-05-16</td>\n",
       "      <td>Joan Cusack, Ed Begley Jr, Rachel Harris, Nanc...</td>\n",
       "      <td>Ken Kwapis</td>\n",
       "      <td>Greg Daniels</td>\n",
       "      <td>True</td>\n",
       "      <td>1.00000</td>\n",
       "      <td>NaN</td>\n",
       "      <td>darkgreen</td>\n",
       "    </tr>\n",
       "  </tbody>\n",
       "</table>\n",
       "<p>188 rows × 16 columns</p>\n",
       "</div>"
      ],
      "text/plain": [
       "     episode_number  season     episode_title  \\\n",
       "0                 0       1             Pilot   \n",
       "1                 1       1     Diversity Day   \n",
       "2                 2       1       Health Care   \n",
       "3                 3       1      The Alliance   \n",
       "4                 4       1        Basketball   \n",
       "..              ...     ...               ...   \n",
       "183             183       9     Stairmageddon   \n",
       "184             184       9    Paper Airplane   \n",
       "185             185       9  Livin' the Dream   \n",
       "186             186       9          A.A.R.M.   \n",
       "187             187       9            Finale   \n",
       "\n",
       "                                           description  ratings  votes  \\\n",
       "0    The premiere episode introduces the boss and s...      7.5   4936   \n",
       "1    Michael's off color remark puts a sensitivity ...      8.3   4801   \n",
       "2    Michael leaves Dwight in charge of picking the...      7.8   4024   \n",
       "3    Just for a laugh, Jim agrees to an alliance wi...      8.1   3915   \n",
       "4    Michael and his staff challenge the warehouse ...      8.4   4294   \n",
       "..                                                 ...      ...    ...   \n",
       "183  Dwight shoots Stanley with a bull tranquilizer...      8.0   1985   \n",
       "184  The employees hold a paper airplane competitio...      8.0   2007   \n",
       "185  Dwight becomes regional manager after Andy qui...      9.0   2831   \n",
       "186  Dwight prepares for a marriage proposal and hi...      9.5   3914   \n",
       "187  One year later, Dunder Mifflin employees past ...      9.8  10515   \n",
       "\n",
       "     viewership_mil  duration release_date  \\\n",
       "0             11.20        23   2005-03-24   \n",
       "1              6.00        23   2005-03-29   \n",
       "2              5.80        22   2005-04-05   \n",
       "3              5.40        23   2005-04-12   \n",
       "4              5.00        23   2005-04-19   \n",
       "..              ...       ...          ...   \n",
       "183            3.83        22   2013-04-11   \n",
       "184            3.25        22   2013-04-25   \n",
       "185            3.51        42   2013-05-02   \n",
       "186            4.56        43   2013-05-09   \n",
       "187            5.69        51   2013-05-16   \n",
       "\n",
       "                                           guest_stars         director  \\\n",
       "0                                                  NaN       Ken Kwapis   \n",
       "1                                                  NaN       Ken Kwapis   \n",
       "2                                                  NaN  Ken Whittingham   \n",
       "3                                                  NaN     Bryan Gordon   \n",
       "4                                                  NaN     Greg Daniels   \n",
       "..                                                 ...              ...   \n",
       "183                                                NaN        Matt Sohn   \n",
       "184                                                NaN     Jesse Peretz   \n",
       "185                                 Michael Imperioli     Jeffrey Blitz   \n",
       "186                                                NaN     David Rogers   \n",
       "187  Joan Cusack, Ed Begley Jr, Rachel Harris, Nanc...       Ken Kwapis   \n",
       "\n",
       "                                              writers  has_guests  \\\n",
       "0    Ricky Gervais |Stephen Merchant and Greg Daniels       False   \n",
       "1                                         B. J. Novak       False   \n",
       "2                                    Paul Lieberstein       False   \n",
       "3                                       Michael Schur       False   \n",
       "4                                        Greg Daniels       False   \n",
       "..                                                ...         ...   \n",
       "183                                      Dan Sterling       False   \n",
       "184             Halsted Sullivan | Warren Lieberstein       False   \n",
       "185                              Niki Schwartz-Wright        True   \n",
       "186                                   Brent Forrester       False   \n",
       "187                                      Greg Daniels        True   \n",
       "\n",
       "     scaled_ratings  rating_labels rating_colors  \n",
       "0           0.28125            NaN        orange  \n",
       "1           0.53125            NaN    lightgreen  \n",
       "2           0.37500            NaN        orange  \n",
       "3           0.46875            NaN        orange  \n",
       "4           0.56250            NaN    lightgreen  \n",
       "..              ...            ...           ...  \n",
       "183         0.43750            NaN        orange  \n",
       "184         0.43750            NaN        orange  \n",
       "185         0.75000            NaN     darkgreen  \n",
       "186         0.90625            NaN     darkgreen  \n",
       "187         1.00000            NaN     darkgreen  \n",
       "\n",
       "[188 rows x 16 columns]"
      ]
     },
     "execution_count": 51,
     "metadata": {},
     "output_type": "execute_result"
    }
   ],
   "source": [
    "office"
   ]
  },
  {
   "cell_type": "code",
   "execution_count": 53,
   "id": "southwest-bumper",
   "metadata": {},
   "outputs": [],
   "source": [
    "office['sizes'] = 25"
   ]
  },
  {
   "cell_type": "code",
   "execution_count": 55,
   "id": "regional-national",
   "metadata": {},
   "outputs": [],
   "source": [
    "office.loc[office.has_guests,'sizes'] = 250"
   ]
  },
  {
   "cell_type": "code",
   "execution_count": 80,
   "id": "western-orange",
   "metadata": {},
   "outputs": [],
   "source": [
    "office_2 = office.copy()"
   ]
  },
  {
   "cell_type": "code",
   "execution_count": 81,
   "id": "designed-fantasy",
   "metadata": {},
   "outputs": [
    {
     "data": {
      "text/html": [
       "<div>\n",
       "<style scoped>\n",
       "    .dataframe tbody tr th:only-of-type {\n",
       "        vertical-align: middle;\n",
       "    }\n",
       "\n",
       "    .dataframe tbody tr th {\n",
       "        vertical-align: top;\n",
       "    }\n",
       "\n",
       "    .dataframe thead th {\n",
       "        text-align: right;\n",
       "    }\n",
       "</style>\n",
       "<table border=\"1\" class=\"dataframe\">\n",
       "  <thead>\n",
       "    <tr style=\"text-align: right;\">\n",
       "      <th></th>\n",
       "      <th>episode_number</th>\n",
       "      <th>season</th>\n",
       "      <th>episode_title</th>\n",
       "      <th>description</th>\n",
       "      <th>ratings</th>\n",
       "      <th>votes</th>\n",
       "      <th>viewership_mil</th>\n",
       "      <th>duration</th>\n",
       "      <th>release_date</th>\n",
       "      <th>guest_stars</th>\n",
       "      <th>director</th>\n",
       "      <th>writers</th>\n",
       "      <th>has_guests</th>\n",
       "      <th>scaled_ratings</th>\n",
       "      <th>rating_labels</th>\n",
       "      <th>rating_colors</th>\n",
       "      <th>sizes</th>\n",
       "    </tr>\n",
       "  </thead>\n",
       "  <tbody>\n",
       "    <tr>\n",
       "      <th>0</th>\n",
       "      <td>0</td>\n",
       "      <td>1</td>\n",
       "      <td>Pilot</td>\n",
       "      <td>The premiere episode introduces the boss and s...</td>\n",
       "      <td>7.5</td>\n",
       "      <td>4936</td>\n",
       "      <td>11.20</td>\n",
       "      <td>23</td>\n",
       "      <td>2005-03-24</td>\n",
       "      <td>NaN</td>\n",
       "      <td>Ken Kwapis</td>\n",
       "      <td>Ricky Gervais |Stephen Merchant and Greg Daniels</td>\n",
       "      <td>False</td>\n",
       "      <td>0.28125</td>\n",
       "      <td>NaN</td>\n",
       "      <td>orange</td>\n",
       "      <td>25</td>\n",
       "    </tr>\n",
       "    <tr>\n",
       "      <th>1</th>\n",
       "      <td>1</td>\n",
       "      <td>1</td>\n",
       "      <td>Diversity Day</td>\n",
       "      <td>Michael's off color remark puts a sensitivity ...</td>\n",
       "      <td>8.3</td>\n",
       "      <td>4801</td>\n",
       "      <td>6.00</td>\n",
       "      <td>23</td>\n",
       "      <td>2005-03-29</td>\n",
       "      <td>NaN</td>\n",
       "      <td>Ken Kwapis</td>\n",
       "      <td>B. J. Novak</td>\n",
       "      <td>False</td>\n",
       "      <td>0.53125</td>\n",
       "      <td>NaN</td>\n",
       "      <td>lightgreen</td>\n",
       "      <td>25</td>\n",
       "    </tr>\n",
       "    <tr>\n",
       "      <th>2</th>\n",
       "      <td>2</td>\n",
       "      <td>1</td>\n",
       "      <td>Health Care</td>\n",
       "      <td>Michael leaves Dwight in charge of picking the...</td>\n",
       "      <td>7.8</td>\n",
       "      <td>4024</td>\n",
       "      <td>5.80</td>\n",
       "      <td>22</td>\n",
       "      <td>2005-04-05</td>\n",
       "      <td>NaN</td>\n",
       "      <td>Ken Whittingham</td>\n",
       "      <td>Paul Lieberstein</td>\n",
       "      <td>False</td>\n",
       "      <td>0.37500</td>\n",
       "      <td>NaN</td>\n",
       "      <td>orange</td>\n",
       "      <td>25</td>\n",
       "    </tr>\n",
       "    <tr>\n",
       "      <th>3</th>\n",
       "      <td>3</td>\n",
       "      <td>1</td>\n",
       "      <td>The Alliance</td>\n",
       "      <td>Just for a laugh, Jim agrees to an alliance wi...</td>\n",
       "      <td>8.1</td>\n",
       "      <td>3915</td>\n",
       "      <td>5.40</td>\n",
       "      <td>23</td>\n",
       "      <td>2005-04-12</td>\n",
       "      <td>NaN</td>\n",
       "      <td>Bryan Gordon</td>\n",
       "      <td>Michael Schur</td>\n",
       "      <td>False</td>\n",
       "      <td>0.46875</td>\n",
       "      <td>NaN</td>\n",
       "      <td>orange</td>\n",
       "      <td>25</td>\n",
       "    </tr>\n",
       "    <tr>\n",
       "      <th>4</th>\n",
       "      <td>4</td>\n",
       "      <td>1</td>\n",
       "      <td>Basketball</td>\n",
       "      <td>Michael and his staff challenge the warehouse ...</td>\n",
       "      <td>8.4</td>\n",
       "      <td>4294</td>\n",
       "      <td>5.00</td>\n",
       "      <td>23</td>\n",
       "      <td>2005-04-19</td>\n",
       "      <td>NaN</td>\n",
       "      <td>Greg Daniels</td>\n",
       "      <td>Greg Daniels</td>\n",
       "      <td>False</td>\n",
       "      <td>0.56250</td>\n",
       "      <td>NaN</td>\n",
       "      <td>lightgreen</td>\n",
       "      <td>25</td>\n",
       "    </tr>\n",
       "    <tr>\n",
       "      <th>...</th>\n",
       "      <td>...</td>\n",
       "      <td>...</td>\n",
       "      <td>...</td>\n",
       "      <td>...</td>\n",
       "      <td>...</td>\n",
       "      <td>...</td>\n",
       "      <td>...</td>\n",
       "      <td>...</td>\n",
       "      <td>...</td>\n",
       "      <td>...</td>\n",
       "      <td>...</td>\n",
       "      <td>...</td>\n",
       "      <td>...</td>\n",
       "      <td>...</td>\n",
       "      <td>...</td>\n",
       "      <td>...</td>\n",
       "      <td>...</td>\n",
       "    </tr>\n",
       "    <tr>\n",
       "      <th>183</th>\n",
       "      <td>183</td>\n",
       "      <td>9</td>\n",
       "      <td>Stairmageddon</td>\n",
       "      <td>Dwight shoots Stanley with a bull tranquilizer...</td>\n",
       "      <td>8.0</td>\n",
       "      <td>1985</td>\n",
       "      <td>3.83</td>\n",
       "      <td>22</td>\n",
       "      <td>2013-04-11</td>\n",
       "      <td>NaN</td>\n",
       "      <td>Matt Sohn</td>\n",
       "      <td>Dan Sterling</td>\n",
       "      <td>False</td>\n",
       "      <td>0.43750</td>\n",
       "      <td>NaN</td>\n",
       "      <td>orange</td>\n",
       "      <td>25</td>\n",
       "    </tr>\n",
       "    <tr>\n",
       "      <th>184</th>\n",
       "      <td>184</td>\n",
       "      <td>9</td>\n",
       "      <td>Paper Airplane</td>\n",
       "      <td>The employees hold a paper airplane competitio...</td>\n",
       "      <td>8.0</td>\n",
       "      <td>2007</td>\n",
       "      <td>3.25</td>\n",
       "      <td>22</td>\n",
       "      <td>2013-04-25</td>\n",
       "      <td>NaN</td>\n",
       "      <td>Jesse Peretz</td>\n",
       "      <td>Halsted Sullivan | Warren Lieberstein</td>\n",
       "      <td>False</td>\n",
       "      <td>0.43750</td>\n",
       "      <td>NaN</td>\n",
       "      <td>orange</td>\n",
       "      <td>25</td>\n",
       "    </tr>\n",
       "    <tr>\n",
       "      <th>185</th>\n",
       "      <td>185</td>\n",
       "      <td>9</td>\n",
       "      <td>Livin' the Dream</td>\n",
       "      <td>Dwight becomes regional manager after Andy qui...</td>\n",
       "      <td>9.0</td>\n",
       "      <td>2831</td>\n",
       "      <td>3.51</td>\n",
       "      <td>42</td>\n",
       "      <td>2013-05-02</td>\n",
       "      <td>Michael Imperioli</td>\n",
       "      <td>Jeffrey Blitz</td>\n",
       "      <td>Niki Schwartz-Wright</td>\n",
       "      <td>True</td>\n",
       "      <td>0.75000</td>\n",
       "      <td>NaN</td>\n",
       "      <td>darkgreen</td>\n",
       "      <td>250</td>\n",
       "    </tr>\n",
       "    <tr>\n",
       "      <th>186</th>\n",
       "      <td>186</td>\n",
       "      <td>9</td>\n",
       "      <td>A.A.R.M.</td>\n",
       "      <td>Dwight prepares for a marriage proposal and hi...</td>\n",
       "      <td>9.5</td>\n",
       "      <td>3914</td>\n",
       "      <td>4.56</td>\n",
       "      <td>43</td>\n",
       "      <td>2013-05-09</td>\n",
       "      <td>NaN</td>\n",
       "      <td>David Rogers</td>\n",
       "      <td>Brent Forrester</td>\n",
       "      <td>False</td>\n",
       "      <td>0.90625</td>\n",
       "      <td>NaN</td>\n",
       "      <td>darkgreen</td>\n",
       "      <td>25</td>\n",
       "    </tr>\n",
       "    <tr>\n",
       "      <th>187</th>\n",
       "      <td>187</td>\n",
       "      <td>9</td>\n",
       "      <td>Finale</td>\n",
       "      <td>One year later, Dunder Mifflin employees past ...</td>\n",
       "      <td>9.8</td>\n",
       "      <td>10515</td>\n",
       "      <td>5.69</td>\n",
       "      <td>51</td>\n",
       "      <td>2013-05-16</td>\n",
       "      <td>Joan Cusack, Ed Begley Jr, Rachel Harris, Nanc...</td>\n",
       "      <td>Ken Kwapis</td>\n",
       "      <td>Greg Daniels</td>\n",
       "      <td>True</td>\n",
       "      <td>1.00000</td>\n",
       "      <td>NaN</td>\n",
       "      <td>darkgreen</td>\n",
       "      <td>250</td>\n",
       "    </tr>\n",
       "  </tbody>\n",
       "</table>\n",
       "<p>188 rows × 17 columns</p>\n",
       "</div>"
      ],
      "text/plain": [
       "     episode_number  season     episode_title  \\\n",
       "0                 0       1             Pilot   \n",
       "1                 1       1     Diversity Day   \n",
       "2                 2       1       Health Care   \n",
       "3                 3       1      The Alliance   \n",
       "4                 4       1        Basketball   \n",
       "..              ...     ...               ...   \n",
       "183             183       9     Stairmageddon   \n",
       "184             184       9    Paper Airplane   \n",
       "185             185       9  Livin' the Dream   \n",
       "186             186       9          A.A.R.M.   \n",
       "187             187       9            Finale   \n",
       "\n",
       "                                           description  ratings  votes  \\\n",
       "0    The premiere episode introduces the boss and s...      7.5   4936   \n",
       "1    Michael's off color remark puts a sensitivity ...      8.3   4801   \n",
       "2    Michael leaves Dwight in charge of picking the...      7.8   4024   \n",
       "3    Just for a laugh, Jim agrees to an alliance wi...      8.1   3915   \n",
       "4    Michael and his staff challenge the warehouse ...      8.4   4294   \n",
       "..                                                 ...      ...    ...   \n",
       "183  Dwight shoots Stanley with a bull tranquilizer...      8.0   1985   \n",
       "184  The employees hold a paper airplane competitio...      8.0   2007   \n",
       "185  Dwight becomes regional manager after Andy qui...      9.0   2831   \n",
       "186  Dwight prepares for a marriage proposal and hi...      9.5   3914   \n",
       "187  One year later, Dunder Mifflin employees past ...      9.8  10515   \n",
       "\n",
       "     viewership_mil  duration release_date  \\\n",
       "0             11.20        23   2005-03-24   \n",
       "1              6.00        23   2005-03-29   \n",
       "2              5.80        22   2005-04-05   \n",
       "3              5.40        23   2005-04-12   \n",
       "4              5.00        23   2005-04-19   \n",
       "..              ...       ...          ...   \n",
       "183            3.83        22   2013-04-11   \n",
       "184            3.25        22   2013-04-25   \n",
       "185            3.51        42   2013-05-02   \n",
       "186            4.56        43   2013-05-09   \n",
       "187            5.69        51   2013-05-16   \n",
       "\n",
       "                                           guest_stars         director  \\\n",
       "0                                                  NaN       Ken Kwapis   \n",
       "1                                                  NaN       Ken Kwapis   \n",
       "2                                                  NaN  Ken Whittingham   \n",
       "3                                                  NaN     Bryan Gordon   \n",
       "4                                                  NaN     Greg Daniels   \n",
       "..                                                 ...              ...   \n",
       "183                                                NaN        Matt Sohn   \n",
       "184                                                NaN     Jesse Peretz   \n",
       "185                                 Michael Imperioli     Jeffrey Blitz   \n",
       "186                                                NaN     David Rogers   \n",
       "187  Joan Cusack, Ed Begley Jr, Rachel Harris, Nanc...       Ken Kwapis   \n",
       "\n",
       "                                              writers  has_guests  \\\n",
       "0    Ricky Gervais |Stephen Merchant and Greg Daniels       False   \n",
       "1                                         B. J. Novak       False   \n",
       "2                                    Paul Lieberstein       False   \n",
       "3                                       Michael Schur       False   \n",
       "4                                        Greg Daniels       False   \n",
       "..                                                ...         ...   \n",
       "183                                      Dan Sterling       False   \n",
       "184             Halsted Sullivan | Warren Lieberstein       False   \n",
       "185                              Niki Schwartz-Wright        True   \n",
       "186                                   Brent Forrester       False   \n",
       "187                                      Greg Daniels        True   \n",
       "\n",
       "     scaled_ratings  rating_labels rating_colors  sizes  \n",
       "0           0.28125            NaN        orange     25  \n",
       "1           0.53125            NaN    lightgreen     25  \n",
       "2           0.37500            NaN        orange     25  \n",
       "3           0.46875            NaN        orange     25  \n",
       "4           0.56250            NaN    lightgreen     25  \n",
       "..              ...            ...           ...    ...  \n",
       "183         0.43750            NaN        orange     25  \n",
       "184         0.43750            NaN        orange     25  \n",
       "185         0.75000            NaN     darkgreen    250  \n",
       "186         0.90625            NaN     darkgreen     25  \n",
       "187         1.00000            NaN     darkgreen    250  \n",
       "\n",
       "[188 rows x 17 columns]"
      ]
     },
     "execution_count": 81,
     "metadata": {},
     "output_type": "execute_result"
    }
   ],
   "source": [
    "office_2"
   ]
  },
  {
   "cell_type": "code",
   "execution_count": 82,
   "id": "forward-deputy",
   "metadata": {},
   "outputs": [],
   "source": [
    "office_2['rating_colors'] = pd.cut(office.scaled_ratings,[0,0.25,0.50,0.75,np.inf],right=False,labels=[1,2,3,4],ordered=False)"
   ]
  },
  {
   "cell_type": "code",
   "execution_count": 86,
   "id": "foreign-croatia",
   "metadata": {},
   "outputs": [],
   "source": [
    "import matplotlib.colors as colors\n",
    "cmap = colors.ListedColormap(['red','orange','lightgreen','darkgreen'])"
   ]
  },
  {
   "cell_type": "code",
   "execution_count": 103,
   "id": "persistent-enclosure",
   "metadata": {},
   "outputs": [
    {
     "data": {
      "image/png": "[encoded data removed]",
      "text/plain": [
       "<Figure size 1440x864 with 1 Axes>"
      ]
     },
     "metadata": {
      "needs_background": "light"
     },
     "output_type": "display_data"
    }
   ],
   "source": [
    "fig,ax = plt.subplots(figsize=(20,12))\n",
    "\n",
    "scatter =ax.scatter(x=office_2.episode_number,y=office_2.viewership_mil,c=office_2.rating_colors,s=office.sizes,cmap=cmap)\n",
    "ax.set_title(\"Popularity, Quality, and Guest Appearances on the Office\",fontsize=30)\n",
    "handles,labels = scatter.legend_elements()\n",
    "legend1 = ax.legend(handles,['Low','Below Average','Above Average','High'],loc='upper left',title='Rating',fontsize=10)\n",
    "ax.add_artist(legend1)\n",
    "handles, labels = scatter.legend_elements(prop=\"sizes\", alpha=0.6)\n",
    "legend2 = ax.legend(handles, ['No Guests','Guests'], loc=\"upper right\", title=\"Guest Apperances\",fontsize=10)\n",
    "ax.add_artist(legend2)\n",
    "ax.set_xlabel(\"Episode Number\",fontsize=20)\n",
    "ax.set_ylabel(\"Viewership(Millions)\",fontsize=20)\n",
    "ax.set_xlim(-2,office.episode_number.max() + 5)\n",
    "ax.tick_params(labelsize=15)"
   ]
  },
  {
   "cell_type": "code",
   "execution_count": 107,
   "id": "automotive-comment",
   "metadata": {},
   "outputs": [
    {
     "data": {
      "text/html": [
       "<div>\n",
       "<style scoped>\n",
       "    .dataframe tbody tr th:only-of-type {\n",
       "        vertical-align: middle;\n",
       "    }\n",
       "\n",
       "    .dataframe tbody tr th {\n",
       "        vertical-align: top;\n",
       "    }\n",
       "\n",
       "    .dataframe thead th {\n",
       "        text-align: right;\n",
       "    }\n",
       "</style>\n",
       "<table border=\"1\" class=\"dataframe\">\n",
       "  <thead>\n",
       "    <tr style=\"text-align: right;\">\n",
       "      <th></th>\n",
       "      <th>episode_number</th>\n",
       "      <th>season</th>\n",
       "      <th>episode_title</th>\n",
       "      <th>description</th>\n",
       "      <th>ratings</th>\n",
       "      <th>votes</th>\n",
       "      <th>viewership_mil</th>\n",
       "      <th>duration</th>\n",
       "      <th>release_date</th>\n",
       "      <th>guest_stars</th>\n",
       "      <th>director</th>\n",
       "      <th>writers</th>\n",
       "      <th>has_guests</th>\n",
       "      <th>scaled_ratings</th>\n",
       "      <th>rating_labels</th>\n",
       "      <th>rating_colors</th>\n",
       "      <th>sizes</th>\n",
       "    </tr>\n",
       "  </thead>\n",
       "  <tbody>\n",
       "    <tr>\n",
       "      <th>77</th>\n",
       "      <td>77</td>\n",
       "      <td>5</td>\n",
       "      <td>Stress Relief</td>\n",
       "      <td>Dwight's too-realistic fire alarm gives Stanle...</td>\n",
       "      <td>9.7</td>\n",
       "      <td>8170</td>\n",
       "      <td>22.91</td>\n",
       "      <td>60</td>\n",
       "      <td>2009-02-01</td>\n",
       "      <td>Cloris Leachman, Jack Black, Jessica Alba</td>\n",
       "      <td>Jeffrey Blitz</td>\n",
       "      <td>Paul Lieberstein</td>\n",
       "      <td>True</td>\n",
       "      <td>0.96875</td>\n",
       "      <td>NaN</td>\n",
       "      <td>darkgreen</td>\n",
       "      <td>250</td>\n",
       "    </tr>\n",
       "  </tbody>\n",
       "</table>\n",
       "</div>"
      ],
      "text/plain": [
       "    episode_number  season  episode_title  \\\n",
       "77              77       5  Stress Relief   \n",
       "\n",
       "                                          description  ratings  votes  \\\n",
       "77  Dwight's too-realistic fire alarm gives Stanle...      9.7   8170   \n",
       "\n",
       "    viewership_mil  duration release_date  \\\n",
       "77           22.91        60   2009-02-01   \n",
       "\n",
       "                                  guest_stars       director  \\\n",
       "77  Cloris Leachman, Jack Black, Jessica Alba  Jeffrey Blitz   \n",
       "\n",
       "             writers  has_guests  scaled_ratings  rating_labels rating_colors  \\\n",
       "77  Paul Lieberstein        True         0.96875            NaN     darkgreen   \n",
       "\n",
       "    sizes  \n",
       "77    250  "
      ]
     },
     "execution_count": 107,
     "metadata": {},
     "output_type": "execute_result"
    }
   ],
   "source": [
    "office.nlargest(1,'viewership_mil')"
   ]
  },
  {
   "cell_type": "markdown",
   "id": "selected-plaintiff",
   "metadata": {},
   "source": [
    "# Investigate top writers"
   ]
  },
  {
   "cell_type": "code",
   "execution_count": 121,
   "id": "hollow-rates",
   "metadata": {},
   "outputs": [],
   "source": [
    "x = office.writers.str.split('|')"
   ]
  },
  {
   "cell_type": "code",
   "execution_count": 120,
   "id": "stuffed-factory",
   "metadata": {},
   "outputs": [
    {
     "data": {
      "text/html": [
       "<div>\n",
       "<style scoped>\n",
       "    .dataframe tbody tr th:only-of-type {\n",
       "        vertical-align: middle;\n",
       "    }\n",
       "\n",
       "    .dataframe tbody tr th {\n",
       "        vertical-align: top;\n",
       "    }\n",
       "\n",
       "    .dataframe thead th {\n",
       "        text-align: right;\n",
       "    }\n",
       "</style>\n",
       "<table border=\"1\" class=\"dataframe\">\n",
       "  <thead>\n",
       "    <tr style=\"text-align: right;\">\n",
       "      <th></th>\n",
       "      <th>episode_number</th>\n",
       "      <th>season</th>\n",
       "      <th>episode_title</th>\n",
       "      <th>description</th>\n",
       "      <th>ratings</th>\n",
       "      <th>votes</th>\n",
       "      <th>viewership_mil</th>\n",
       "      <th>duration</th>\n",
       "      <th>release_date</th>\n",
       "      <th>guest_stars</th>\n",
       "      <th>director</th>\n",
       "      <th>writers</th>\n",
       "      <th>has_guests</th>\n",
       "      <th>scaled_ratings</th>\n",
       "      <th>rating_labels</th>\n",
       "      <th>rating_colors</th>\n",
       "      <th>sizes</th>\n",
       "    </tr>\n",
       "  </thead>\n",
       "  <tbody>\n",
       "    <tr>\n",
       "      <th>0</th>\n",
       "      <td>0</td>\n",
       "      <td>1</td>\n",
       "      <td>Pilot</td>\n",
       "      <td>The premiere episode introduces the boss and s...</td>\n",
       "      <td>7.5</td>\n",
       "      <td>4936</td>\n",
       "      <td>11.2</td>\n",
       "      <td>23</td>\n",
       "      <td>2005-03-24</td>\n",
       "      <td>NaN</td>\n",
       "      <td>Ken Kwapis</td>\n",
       "      <td>Ricky Gervais |Stephen Merchant and Greg Daniels</td>\n",
       "      <td>False</td>\n",
       "      <td>0.28125</td>\n",
       "      <td>NaN</td>\n",
       "      <td>orange</td>\n",
       "      <td>25</td>\n",
       "    </tr>\n",
       "  </tbody>\n",
       "</table>\n",
       "</div>"
      ],
      "text/plain": [
       "   episode_number  season episode_title  \\\n",
       "0               0       1         Pilot   \n",
       "\n",
       "                                         description  ratings  votes  \\\n",
       "0  The premiere episode introduces the boss and s...      7.5   4936   \n",
       "\n",
       "   viewership_mil  duration release_date guest_stars    director  \\\n",
       "0            11.2        23   2005-03-24         NaN  Ken Kwapis   \n",
       "\n",
       "                                            writers  has_guests  \\\n",
       "0  Ricky Gervais |Stephen Merchant and Greg Daniels       False   \n",
       "\n",
       "   scaled_ratings  rating_labels rating_colors  sizes  \n",
       "0         0.28125            NaN        orange     25  "
      ]
     },
     "execution_count": 120,
     "metadata": {},
     "output_type": "execute_result"
    }
   ],
   "source": [
    "office[office.writers.str.contains(r'\\band\\b')] # single anomaly"
   ]
  },
  {
   "cell_type": "code",
   "execution_count": 127,
   "id": "recovered-highway",
   "metadata": {},
   "outputs": [],
   "source": [
    "office.writers = office.writers.str.split('|')    \n",
    "    "
   ]
  },
  {
   "cell_type": "code",
   "execution_count": 131,
   "id": "finished-storm",
   "metadata": {},
   "outputs": [],
   "source": [
    "office.at[0,'writers'] = ['Ricky Gervais','Stephen Merchant','Greg Daniels'] # fix single anomaly where vertical lines do not separate all writers(includes 'and')"
   ]
  },
  {
   "cell_type": "code",
   "execution_count": 167,
   "id": "introductory-oracle",
   "metadata": {},
   "outputs": [
    {
     "data": {
      "text/html": [
       "<div>\n",
       "<style scoped>\n",
       "    .dataframe tbody tr th:only-of-type {\n",
       "        vertical-align: middle;\n",
       "    }\n",
       "\n",
       "    .dataframe tbody tr th {\n",
       "        vertical-align: top;\n",
       "    }\n",
       "\n",
       "    .dataframe thead th {\n",
       "        text-align: right;\n",
       "    }\n",
       "</style>\n",
       "<table border=\"1\" class=\"dataframe\">\n",
       "  <thead>\n",
       "    <tr style=\"text-align: right;\">\n",
       "      <th></th>\n",
       "      <th>episode_number</th>\n",
       "      <th>season</th>\n",
       "      <th>episode_title</th>\n",
       "      <th>description</th>\n",
       "      <th>ratings</th>\n",
       "      <th>votes</th>\n",
       "      <th>viewership_mil</th>\n",
       "      <th>duration</th>\n",
       "      <th>release_date</th>\n",
       "      <th>guest_stars</th>\n",
       "      <th>director</th>\n",
       "      <th>writers</th>\n",
       "      <th>has_guests</th>\n",
       "      <th>scaled_ratings</th>\n",
       "      <th>rating_labels</th>\n",
       "      <th>rating_colors</th>\n",
       "      <th>sizes</th>\n",
       "      <th>multiple_writers</th>\n",
       "    </tr>\n",
       "  </thead>\n",
       "  <tbody>\n",
       "    <tr>\n",
       "      <th>0</th>\n",
       "      <td>0</td>\n",
       "      <td>1</td>\n",
       "      <td>Pilot</td>\n",
       "      <td>The premiere episode introduces the boss and s...</td>\n",
       "      <td>7.5</td>\n",
       "      <td>4936</td>\n",
       "      <td>11.20</td>\n",
       "      <td>23</td>\n",
       "      <td>2005-03-24</td>\n",
       "      <td>NaN</td>\n",
       "      <td>Ken Kwapis</td>\n",
       "      <td>[Ricky Gervais, Stephen Merchant, Greg Daniels]</td>\n",
       "      <td>False</td>\n",
       "      <td>0.28125</td>\n",
       "      <td>NaN</td>\n",
       "      <td>orange</td>\n",
       "      <td>25</td>\n",
       "      <td>True</td>\n",
       "    </tr>\n",
       "    <tr>\n",
       "      <th>1</th>\n",
       "      <td>1</td>\n",
       "      <td>1</td>\n",
       "      <td>Diversity Day</td>\n",
       "      <td>Michael's off color remark puts a sensitivity ...</td>\n",
       "      <td>8.3</td>\n",
       "      <td>4801</td>\n",
       "      <td>6.00</td>\n",
       "      <td>23</td>\n",
       "      <td>2005-03-29</td>\n",
       "      <td>NaN</td>\n",
       "      <td>Ken Kwapis</td>\n",
       "      <td>[B. J. Novak]</td>\n",
       "      <td>False</td>\n",
       "      <td>0.53125</td>\n",
       "      <td>NaN</td>\n",
       "      <td>lightgreen</td>\n",
       "      <td>25</td>\n",
       "      <td>False</td>\n",
       "    </tr>\n",
       "    <tr>\n",
       "      <th>2</th>\n",
       "      <td>2</td>\n",
       "      <td>1</td>\n",
       "      <td>Health Care</td>\n",
       "      <td>Michael leaves Dwight in charge of picking the...</td>\n",
       "      <td>7.8</td>\n",
       "      <td>4024</td>\n",
       "      <td>5.80</td>\n",
       "      <td>22</td>\n",
       "      <td>2005-04-05</td>\n",
       "      <td>NaN</td>\n",
       "      <td>Ken Whittingham</td>\n",
       "      <td>[Paul Lieberstein]</td>\n",
       "      <td>False</td>\n",
       "      <td>0.37500</td>\n",
       "      <td>NaN</td>\n",
       "      <td>orange</td>\n",
       "      <td>25</td>\n",
       "      <td>False</td>\n",
       "    </tr>\n",
       "    <tr>\n",
       "      <th>3</th>\n",
       "      <td>3</td>\n",
       "      <td>1</td>\n",
       "      <td>The Alliance</td>\n",
       "      <td>Just for a laugh, Jim agrees to an alliance wi...</td>\n",
       "      <td>8.1</td>\n",
       "      <td>3915</td>\n",
       "      <td>5.40</td>\n",
       "      <td>23</td>\n",
       "      <td>2005-04-12</td>\n",
       "      <td>NaN</td>\n",
       "      <td>Bryan Gordon</td>\n",
       "      <td>[Michael Schur]</td>\n",
       "      <td>False</td>\n",
       "      <td>0.46875</td>\n",
       "      <td>NaN</td>\n",
       "      <td>orange</td>\n",
       "      <td>25</td>\n",
       "      <td>False</td>\n",
       "    </tr>\n",
       "    <tr>\n",
       "      <th>4</th>\n",
       "      <td>4</td>\n",
       "      <td>1</td>\n",
       "      <td>Basketball</td>\n",
       "      <td>Michael and his staff challenge the warehouse ...</td>\n",
       "      <td>8.4</td>\n",
       "      <td>4294</td>\n",
       "      <td>5.00</td>\n",
       "      <td>23</td>\n",
       "      <td>2005-04-19</td>\n",
       "      <td>NaN</td>\n",
       "      <td>Greg Daniels</td>\n",
       "      <td>[Greg Daniels]</td>\n",
       "      <td>False</td>\n",
       "      <td>0.56250</td>\n",
       "      <td>NaN</td>\n",
       "      <td>lightgreen</td>\n",
       "      <td>25</td>\n",
       "      <td>False</td>\n",
       "    </tr>\n",
       "    <tr>\n",
       "      <th>...</th>\n",
       "      <td>...</td>\n",
       "      <td>...</td>\n",
       "      <td>...</td>\n",
       "      <td>...</td>\n",
       "      <td>...</td>\n",
       "      <td>...</td>\n",
       "      <td>...</td>\n",
       "      <td>...</td>\n",
       "      <td>...</td>\n",
       "      <td>...</td>\n",
       "      <td>...</td>\n",
       "      <td>...</td>\n",
       "      <td>...</td>\n",
       "      <td>...</td>\n",
       "      <td>...</td>\n",
       "      <td>...</td>\n",
       "      <td>...</td>\n",
       "      <td>...</td>\n",
       "    </tr>\n",
       "    <tr>\n",
       "      <th>183</th>\n",
       "      <td>183</td>\n",
       "      <td>9</td>\n",
       "      <td>Stairmageddon</td>\n",
       "      <td>Dwight shoots Stanley with a bull tranquilizer...</td>\n",
       "      <td>8.0</td>\n",
       "      <td>1985</td>\n",
       "      <td>3.83</td>\n",
       "      <td>22</td>\n",
       "      <td>2013-04-11</td>\n",
       "      <td>NaN</td>\n",
       "      <td>Matt Sohn</td>\n",
       "      <td>[Dan Sterling]</td>\n",
       "      <td>False</td>\n",
       "      <td>0.43750</td>\n",
       "      <td>NaN</td>\n",
       "      <td>orange</td>\n",
       "      <td>25</td>\n",
       "      <td>False</td>\n",
       "    </tr>\n",
       "    <tr>\n",
       "      <th>184</th>\n",
       "      <td>184</td>\n",
       "      <td>9</td>\n",
       "      <td>Paper Airplane</td>\n",
       "      <td>The employees hold a paper airplane competitio...</td>\n",
       "      <td>8.0</td>\n",
       "      <td>2007</td>\n",
       "      <td>3.25</td>\n",
       "      <td>22</td>\n",
       "      <td>2013-04-25</td>\n",
       "      <td>NaN</td>\n",
       "      <td>Jesse Peretz</td>\n",
       "      <td>[Halsted Sullivan ,  Warren Lieberstein]</td>\n",
       "      <td>False</td>\n",
       "      <td>0.43750</td>\n",
       "      <td>NaN</td>\n",
       "      <td>orange</td>\n",
       "      <td>25</td>\n",
       "      <td>True</td>\n",
       "    </tr>\n",
       "    <tr>\n",
       "      <th>185</th>\n",
       "      <td>185</td>\n",
       "      <td>9</td>\n",
       "      <td>Livin' the Dream</td>\n",
       "      <td>Dwight becomes regional manager after Andy qui...</td>\n",
       "      <td>9.0</td>\n",
       "      <td>2831</td>\n",
       "      <td>3.51</td>\n",
       "      <td>42</td>\n",
       "      <td>2013-05-02</td>\n",
       "      <td>Michael Imperioli</td>\n",
       "      <td>Jeffrey Blitz</td>\n",
       "      <td>[Niki Schwartz-Wright]</td>\n",
       "      <td>True</td>\n",
       "      <td>0.75000</td>\n",
       "      <td>NaN</td>\n",
       "      <td>darkgreen</td>\n",
       "      <td>250</td>\n",
       "      <td>False</td>\n",
       "    </tr>\n",
       "    <tr>\n",
       "      <th>186</th>\n",
       "      <td>186</td>\n",
       "      <td>9</td>\n",
       "      <td>A.A.R.M.</td>\n",
       "      <td>Dwight prepares for a marriage proposal and hi...</td>\n",
       "      <td>9.5</td>\n",
       "      <td>3914</td>\n",
       "      <td>4.56</td>\n",
       "      <td>43</td>\n",
       "      <td>2013-05-09</td>\n",
       "      <td>NaN</td>\n",
       "      <td>David Rogers</td>\n",
       "      <td>[Brent Forrester]</td>\n",
       "      <td>False</td>\n",
       "      <td>0.90625</td>\n",
       "      <td>NaN</td>\n",
       "      <td>darkgreen</td>\n",
       "      <td>25</td>\n",
       "      <td>False</td>\n",
       "    </tr>\n",
       "    <tr>\n",
       "      <th>187</th>\n",
       "      <td>187</td>\n",
       "      <td>9</td>\n",
       "      <td>Finale</td>\n",
       "      <td>One year later, Dunder Mifflin employees past ...</td>\n",
       "      <td>9.8</td>\n",
       "      <td>10515</td>\n",
       "      <td>5.69</td>\n",
       "      <td>51</td>\n",
       "      <td>2013-05-16</td>\n",
       "      <td>Joan Cusack, Ed Begley Jr, Rachel Harris, Nanc...</td>\n",
       "      <td>Ken Kwapis</td>\n",
       "      <td>[Greg Daniels]</td>\n",
       "      <td>True</td>\n",
       "      <td>1.00000</td>\n",
       "      <td>NaN</td>\n",
       "      <td>darkgreen</td>\n",
       "      <td>250</td>\n",
       "      <td>False</td>\n",
       "    </tr>\n",
       "  </tbody>\n",
       "</table>\n",
       "<p>188 rows × 18 columns</p>\n",
       "</div>"
      ],
      "text/plain": [
       "     episode_number  season     episode_title  \\\n",
       "0                 0       1             Pilot   \n",
       "1                 1       1     Diversity Day   \n",
       "2                 2       1       Health Care   \n",
       "3                 3       1      The Alliance   \n",
       "4                 4       1        Basketball   \n",
       "..              ...     ...               ...   \n",
       "183             183       9     Stairmageddon   \n",
       "184             184       9    Paper Airplane   \n",
       "185             185       9  Livin' the Dream   \n",
       "186             186       9          A.A.R.M.   \n",
       "187             187       9            Finale   \n",
       "\n",
       "                                           description  ratings  votes  \\\n",
       "0    The premiere episode introduces the boss and s...      7.5   4936   \n",
       "1    Michael's off color remark puts a sensitivity ...      8.3   4801   \n",
       "2    Michael leaves Dwight in charge of picking the...      7.8   4024   \n",
       "3    Just for a laugh, Jim agrees to an alliance wi...      8.1   3915   \n",
       "4    Michael and his staff challenge the warehouse ...      8.4   4294   \n",
       "..                                                 ...      ...    ...   \n",
       "183  Dwight shoots Stanley with a bull tranquilizer...      8.0   1985   \n",
       "184  The employees hold a paper airplane competitio...      8.0   2007   \n",
       "185  Dwight becomes regional manager after Andy qui...      9.0   2831   \n",
       "186  Dwight prepares for a marriage proposal and hi...      9.5   3914   \n",
       "187  One year later, Dunder Mifflin employees past ...      9.8  10515   \n",
       "\n",
       "     viewership_mil  duration release_date  \\\n",
       "0             11.20        23   2005-03-24   \n",
       "1              6.00        23   2005-03-29   \n",
       "2              5.80        22   2005-04-05   \n",
       "3              5.40        23   2005-04-12   \n",
       "4              5.00        23   2005-04-19   \n",
       "..              ...       ...          ...   \n",
       "183            3.83        22   2013-04-11   \n",
       "184            3.25        22   2013-04-25   \n",
       "185            3.51        42   2013-05-02   \n",
       "186            4.56        43   2013-05-09   \n",
       "187            5.69        51   2013-05-16   \n",
       "\n",
       "                                           guest_stars         director  \\\n",
       "0                                                  NaN       Ken Kwapis   \n",
       "1                                                  NaN       Ken Kwapis   \n",
       "2                                                  NaN  Ken Whittingham   \n",
       "3                                                  NaN     Bryan Gordon   \n",
       "4                                                  NaN     Greg Daniels   \n",
       "..                                                 ...              ...   \n",
       "183                                                NaN        Matt Sohn   \n",
       "184                                                NaN     Jesse Peretz   \n",
       "185                                 Michael Imperioli     Jeffrey Blitz   \n",
       "186                                                NaN     David Rogers   \n",
       "187  Joan Cusack, Ed Begley Jr, Rachel Harris, Nanc...       Ken Kwapis   \n",
       "\n",
       "                                             writers  has_guests  \\\n",
       "0    [Ricky Gervais, Stephen Merchant, Greg Daniels]       False   \n",
       "1                                      [B. J. Novak]       False   \n",
       "2                                 [Paul Lieberstein]       False   \n",
       "3                                    [Michael Schur]       False   \n",
       "4                                     [Greg Daniels]       False   \n",
       "..                                               ...         ...   \n",
       "183                                   [Dan Sterling]       False   \n",
       "184         [Halsted Sullivan ,  Warren Lieberstein]       False   \n",
       "185                           [Niki Schwartz-Wright]        True   \n",
       "186                                [Brent Forrester]       False   \n",
       "187                                   [Greg Daniels]        True   \n",
       "\n",
       "     scaled_ratings  rating_labels rating_colors  sizes  multiple_writers  \n",
       "0           0.28125            NaN        orange     25              True  \n",
       "1           0.53125            NaN    lightgreen     25             False  \n",
       "2           0.37500            NaN        orange     25             False  \n",
       "3           0.46875            NaN        orange     25             False  \n",
       "4           0.56250            NaN    lightgreen     25             False  \n",
       "..              ...            ...           ...    ...               ...  \n",
       "183         0.43750            NaN        orange     25             False  \n",
       "184         0.43750            NaN        orange     25              True  \n",
       "185         0.75000            NaN     darkgreen    250             False  \n",
       "186         0.90625            NaN     darkgreen     25             False  \n",
       "187         1.00000            NaN     darkgreen    250             False  \n",
       "\n",
       "[188 rows x 18 columns]"
      ]
     },
     "execution_count": 167,
     "metadata": {},
     "output_type": "execute_result"
    }
   ],
   "source": [
    "office"
   ]
  },
  {
   "cell_type": "code",
   "execution_count": 145,
   "id": "raised-associate",
   "metadata": {},
   "outputs": [
    {
     "data": {
      "image/png": "[encoded data removed]",
      "text/plain": [
       "<Figure size 864x576 with 1 Axes>"
      ]
     },
     "metadata": {
      "needs_background": "light"
     },
     "output_type": "display_data"
    }
   ],
   "source": [
    "fig,ax = plt.subplots(figsize=(12,8))\n",
    "office.writers.apply(lambda x: len(x) > 1).value_counts().plot(kind='bar',color=['red','blue'],ax=ax)\n",
    "ax.set_xticklabels(['One Writer','Multiple Writers'])\n",
    "ax.tick_params(rotation=0)"
   ]
  },
  {
   "cell_type": "code",
   "execution_count": 146,
   "id": "reasonable-temple",
   "metadata": {},
   "outputs": [
    {
     "data": {
      "text/plain": [
       "False    154\n",
       "True      34\n",
       "Name: writers, dtype: int64"
      ]
     },
     "execution_count": 146,
     "metadata": {},
     "output_type": "execute_result"
    }
   ],
   "source": [
    "counts = office.writers.apply(lambda x: len(x) > 1).value_counts()\n",
    "counts"
   ]
  },
  {
   "cell_type": "code",
   "execution_count": 153,
   "id": "functioning-hometown",
   "metadata": {},
   "outputs": [
    {
     "data": {
      "text/plain": [
       "<AxesSubplot:ylabel='writers'>"
      ]
     },
     "execution_count": 153,
     "metadata": {},
     "output_type": "execute_result"
    },
    {
     "data": {
      "image/png": "[encoded data removed]",
      "text/plain": [
       "<Figure size 432x288 with 1 Axes>"
      ]
     },
     "metadata": {},
     "output_type": "display_data"
    }
   ],
   "source": [
    "counts.plot(kind='pie',labels=['One Writer','Multiple Writers'],autopct='%.0f%%')"
   ]
  },
  {
   "cell_type": "code",
   "execution_count": 156,
   "id": "stretch-stand",
   "metadata": {},
   "outputs": [],
   "source": [
    "office['multiple_writers'] = office.writers.apply(lambda x: len(x) > 1)"
   ]
  },
  {
   "cell_type": "code",
   "execution_count": 169,
   "id": "theoretical-roulette",
   "metadata": {},
   "outputs": [
    {
     "data": {
      "text/plain": [
       "multiple_writers\n",
       "False    7.158182\n",
       "True     7.645588\n",
       "Name: viewership_mil, dtype: float64"
      ]
     },
     "execution_count": 169,
     "metadata": {},
     "output_type": "execute_result"
    }
   ],
   "source": [
    "office.groupby('multiple_writers').viewership_mil.mean()"
   ]
  },
  {
   "cell_type": "code",
   "execution_count": 161,
   "id": "applied-swing",
   "metadata": {},
   "outputs": [
    {
     "data": {
      "text/plain": [
       "multiple_writers\n",
       "False    0.496347\n",
       "True     0.580882\n",
       "Name: scaled_ratings, dtype: float64"
      ]
     },
     "execution_count": 161,
     "metadata": {},
     "output_type": "execute_result"
    }
   ],
   "source": [
    "office.groupby('multiple_writers').scaled_ratings.mean()"
   ]
  },
  {
   "cell_type": "code",
   "execution_count": 166,
   "id": "accurate-vampire",
   "metadata": {},
   "outputs": [
    {
     "data": {
      "text/plain": [
       "<AxesSubplot:xlabel='season'>"
      ]
     },
     "execution_count": 166,
     "metadata": {},
     "output_type": "execute_result"
    },
    {
     "data": {
      "image/png": "[encoded data removed]",
      "text/plain": [
       "<Figure size 432x288 with 1 Axes>"
      ]
     },
     "metadata": {
      "needs_background": "light"
     },
     "output_type": "display_data"
    }
   ],
   "source": [
    "office.groupby('season').multiple_writers.sum().plot(marker='x')"
   ]
  },
  {
   "cell_type": "markdown",
   "id": "adult-cyprus",
   "metadata": {},
   "source": [
    "# Episodes with multiple writers tend to have higher average ratings as well as viewed slightly more often"
   ]
  },
  {
   "cell_type": "code",
   "execution_count": 192,
   "id": "plain-smooth",
   "metadata": {},
   "outputs": [
    {
     "data": {
      "text/plain": [
       "225"
      ]
     },
     "execution_count": 192,
     "metadata": {},
     "output_type": "execute_result"
    }
   ],
   "source": [
    "office.writers.apply(len).sum()"
   ]
  },
  {
   "cell_type": "code",
   "execution_count": 196,
   "id": "assigned-concentrate",
   "metadata": {},
   "outputs": [],
   "source": [
    "def create_rows(row):\n",
    "    \n",
    "    writers = []\n",
    "    for writer in row['writers']:\n",
    "        writers.append(writer.strip())\n",
    "    \n",
    "    data = pd.DataFrame([row for _ in range(len(writers))],columns=office.columns)\n",
    "    data.writers = writers\n",
    "    return data"
   ]
  },
  {
   "cell_type": "code",
   "execution_count": null,
   "id": "statistical-concentrate",
   "metadata": {},
   "outputs": [],
   "source": []
  },
  {
   "cell_type": "code",
   "execution_count": 182,
   "id": "several-population",
   "metadata": {},
   "outputs": [
    {
     "data": {
      "text/html": [
       "<div>\n",
       "<style scoped>\n",
       "    .dataframe tbody tr th:only-of-type {\n",
       "        vertical-align: middle;\n",
       "    }\n",
       "\n",
       "    .dataframe tbody tr th {\n",
       "        vertical-align: top;\n",
       "    }\n",
       "\n",
       "    .dataframe thead th {\n",
       "        text-align: right;\n",
       "    }\n",
       "</style>\n",
       "<table border=\"1\" class=\"dataframe\">\n",
       "  <thead>\n",
       "    <tr style=\"text-align: right;\">\n",
       "      <th></th>\n",
       "      <th>episode_number</th>\n",
       "      <th>season</th>\n",
       "      <th>episode_title</th>\n",
       "      <th>description</th>\n",
       "      <th>ratings</th>\n",
       "      <th>votes</th>\n",
       "      <th>viewership_mil</th>\n",
       "      <th>duration</th>\n",
       "      <th>release_date</th>\n",
       "      <th>guest_stars</th>\n",
       "      <th>director</th>\n",
       "      <th>writers</th>\n",
       "      <th>has_guests</th>\n",
       "      <th>scaled_ratings</th>\n",
       "      <th>rating_labels</th>\n",
       "      <th>rating_colors</th>\n",
       "      <th>sizes</th>\n",
       "      <th>multiple_writers</th>\n",
       "    </tr>\n",
       "  </thead>\n",
       "  <tbody>\n",
       "    <tr>\n",
       "      <th>0</th>\n",
       "      <td>0</td>\n",
       "      <td>1</td>\n",
       "      <td>Pilot</td>\n",
       "      <td>The premiere episode introduces the boss and s...</td>\n",
       "      <td>7.5</td>\n",
       "      <td>4936</td>\n",
       "      <td>11.2</td>\n",
       "      <td>23</td>\n",
       "      <td>2005-03-24</td>\n",
       "      <td>NaN</td>\n",
       "      <td>Ken Kwapis</td>\n",
       "      <td>Ricky Gervais</td>\n",
       "      <td>False</td>\n",
       "      <td>0.28125</td>\n",
       "      <td>NaN</td>\n",
       "      <td>orange</td>\n",
       "      <td>25</td>\n",
       "      <td>True</td>\n",
       "    </tr>\n",
       "    <tr>\n",
       "      <th>0</th>\n",
       "      <td>0</td>\n",
       "      <td>1</td>\n",
       "      <td>Pilot</td>\n",
       "      <td>The premiere episode introduces the boss and s...</td>\n",
       "      <td>7.5</td>\n",
       "      <td>4936</td>\n",
       "      <td>11.2</td>\n",
       "      <td>23</td>\n",
       "      <td>2005-03-24</td>\n",
       "      <td>NaN</td>\n",
       "      <td>Ken Kwapis</td>\n",
       "      <td>Stephen Merchant</td>\n",
       "      <td>False</td>\n",
       "      <td>0.28125</td>\n",
       "      <td>NaN</td>\n",
       "      <td>orange</td>\n",
       "      <td>25</td>\n",
       "      <td>True</td>\n",
       "    </tr>\n",
       "    <tr>\n",
       "      <th>0</th>\n",
       "      <td>0</td>\n",
       "      <td>1</td>\n",
       "      <td>Pilot</td>\n",
       "      <td>The premiere episode introduces the boss and s...</td>\n",
       "      <td>7.5</td>\n",
       "      <td>4936</td>\n",
       "      <td>11.2</td>\n",
       "      <td>23</td>\n",
       "      <td>2005-03-24</td>\n",
       "      <td>NaN</td>\n",
       "      <td>Ken Kwapis</td>\n",
       "      <td>Greg Daniels</td>\n",
       "      <td>False</td>\n",
       "      <td>0.28125</td>\n",
       "      <td>NaN</td>\n",
       "      <td>orange</td>\n",
       "      <td>25</td>\n",
       "      <td>True</td>\n",
       "    </tr>\n",
       "  </tbody>\n",
       "</table>\n",
       "</div>"
      ],
      "text/plain": [
       "   episode_number  season episode_title  \\\n",
       "0               0       1         Pilot   \n",
       "0               0       1         Pilot   \n",
       "0               0       1         Pilot   \n",
       "\n",
       "                                         description  ratings  votes  \\\n",
       "0  The premiere episode introduces the boss and s...      7.5   4936   \n",
       "0  The premiere episode introduces the boss and s...      7.5   4936   \n",
       "0  The premiere episode introduces the boss and s...      7.5   4936   \n",
       "\n",
       "   viewership_mil  duration release_date  guest_stars    director  \\\n",
       "0            11.2        23   2005-03-24          NaN  Ken Kwapis   \n",
       "0            11.2        23   2005-03-24          NaN  Ken Kwapis   \n",
       "0            11.2        23   2005-03-24          NaN  Ken Kwapis   \n",
       "\n",
       "            writers  has_guests  scaled_ratings  rating_labels rating_colors  \\\n",
       "0     Ricky Gervais       False         0.28125            NaN        orange   \n",
       "0  Stephen Merchant       False         0.28125            NaN        orange   \n",
       "0      Greg Daniels       False         0.28125            NaN        orange   \n",
       "\n",
       "   sizes  multiple_writers  \n",
       "0     25              True  \n",
       "0     25              True  \n",
       "0     25              True  "
      ]
     },
     "execution_count": 182,
     "metadata": {},
     "output_type": "execute_result"
    }
   ],
   "source": [
    "create_rows(office.iloc[0])\n"
   ]
  },
  {
   "cell_type": "code",
   "execution_count": 197,
   "id": "finnish-register",
   "metadata": {},
   "outputs": [],
   "source": [
    "d = pd.concat((create_rows(row) for _,row in office.iterrows()),ignore_index=True)\n",
    "    "
   ]
  },
  {
   "cell_type": "code",
   "execution_count": 210,
   "id": "demographic-wrist",
   "metadata": {},
   "outputs": [
    {
     "data": {
      "text/plain": [
       "<AxesSubplot:ylabel='writers'>"
      ]
     },
     "execution_count": 210,
     "metadata": {},
     "output_type": "execute_result"
    },
    {
     "data": {
      "image/png": "[encoded data removed]",
      "text/plain": [
       "<Figure size 1440x864 with 1 Axes>"
      ]
     },
     "metadata": {
      "needs_background": "light"
     },
     "output_type": "display_data"
    }
   ],
   "source": [
    "d.groupby('writers').size().sort_values().tail(10).plot(kind='barh',figsize=(20,12),color=sns.color_palette('Reds',10))"
   ]
  },
  {
   "cell_type": "code",
   "execution_count": 212,
   "id": "worthy-olympus",
   "metadata": {},
   "outputs": [
    {
     "data": {
      "text/html": [
       "<div>\n",
       "<style scoped>\n",
       "    .dataframe tbody tr th:only-of-type {\n",
       "        vertical-align: middle;\n",
       "    }\n",
       "\n",
       "    .dataframe tbody tr th {\n",
       "        vertical-align: top;\n",
       "    }\n",
       "\n",
       "    .dataframe thead th {\n",
       "        text-align: right;\n",
       "    }\n",
       "</style>\n",
       "<table border=\"1\" class=\"dataframe\">\n",
       "  <thead>\n",
       "    <tr style=\"text-align: right;\">\n",
       "      <th></th>\n",
       "      <th>writers</th>\n",
       "      <th>size</th>\n",
       "    </tr>\n",
       "  </thead>\n",
       "  <tbody>\n",
       "    <tr>\n",
       "      <th>0</th>\n",
       "      <td>Aaron Shure</td>\n",
       "      <td>6</td>\n",
       "    </tr>\n",
       "    <tr>\n",
       "      <th>1</th>\n",
       "      <td>Allison Silverman</td>\n",
       "      <td>3</td>\n",
       "    </tr>\n",
       "    <tr>\n",
       "      <th>2</th>\n",
       "      <td>Amelie Gillette</td>\n",
       "      <td>2</td>\n",
       "    </tr>\n",
       "    <tr>\n",
       "      <th>3</th>\n",
       "      <td>Anthony Q. Farrell</td>\n",
       "      <td>2</td>\n",
       "    </tr>\n",
       "    <tr>\n",
       "      <th>4</th>\n",
       "      <td>B. J. Novak</td>\n",
       "      <td>15</td>\n",
       "    </tr>\n",
       "  </tbody>\n",
       "</table>\n",
       "</div>"
      ],
      "text/plain": [
       "              writers  size\n",
       "0         Aaron Shure     6\n",
       "1   Allison Silverman     3\n",
       "2     Amelie Gillette     2\n",
       "3  Anthony Q. Farrell     2\n",
       "4         B. J. Novak    15"
      ]
     },
     "execution_count": 212,
     "metadata": {},
     "output_type": "execute_result"
    }
   ],
   "source": [
    "writer_counts = d.groupby('writers',as_index=False).size()\n",
    "writer_counts.head()"
   ]
  },
  {
   "cell_type": "code",
   "execution_count": 215,
   "id": "going-balance",
   "metadata": {},
   "outputs": [
    {
     "data": {
      "text/html": [
       "<div>\n",
       "<style scoped>\n",
       "    .dataframe tbody tr th:only-of-type {\n",
       "        vertical-align: middle;\n",
       "    }\n",
       "\n",
       "    .dataframe tbody tr th {\n",
       "        vertical-align: top;\n",
       "    }\n",
       "\n",
       "    .dataframe thead th {\n",
       "        text-align: right;\n",
       "    }\n",
       "</style>\n",
       "<table border=\"1\" class=\"dataframe\">\n",
       "  <thead>\n",
       "    <tr style=\"text-align: right;\">\n",
       "      <th></th>\n",
       "      <th>writers</th>\n",
       "      <th>size</th>\n",
       "    </tr>\n",
       "  </thead>\n",
       "  <tbody>\n",
       "    <tr>\n",
       "      <th>27</th>\n",
       "      <td>Mindy Kaling</td>\n",
       "      <td>22</td>\n",
       "    </tr>\n",
       "    <tr>\n",
       "      <th>30</th>\n",
       "      <td>Paul Lieberstein</td>\n",
       "      <td>16</td>\n",
       "    </tr>\n",
       "    <tr>\n",
       "      <th>4</th>\n",
       "      <td>B. J. Novak</td>\n",
       "      <td>15</td>\n",
       "    </tr>\n",
       "    <tr>\n",
       "      <th>24</th>\n",
       "      <td>Lee Eisenberg</td>\n",
       "      <td>15</td>\n",
       "    </tr>\n",
       "    <tr>\n",
       "      <th>13</th>\n",
       "      <td>Gene Stupnitsky</td>\n",
       "      <td>15</td>\n",
       "    </tr>\n",
       "    <tr>\n",
       "      <th>15</th>\n",
       "      <td>Greg Daniels</td>\n",
       "      <td>13</td>\n",
       "    </tr>\n",
       "    <tr>\n",
       "      <th>5</th>\n",
       "      <td>Brent Forrester</td>\n",
       "      <td>11</td>\n",
       "    </tr>\n",
       "    <tr>\n",
       "      <th>22</th>\n",
       "      <td>Justin Spitzer</td>\n",
       "      <td>11</td>\n",
       "    </tr>\n",
       "    <tr>\n",
       "      <th>18</th>\n",
       "      <td>Jennifer Celotta</td>\n",
       "      <td>11</td>\n",
       "    </tr>\n",
       "    <tr>\n",
       "      <th>26</th>\n",
       "      <td>Michael Schur</td>\n",
       "      <td>10</td>\n",
       "    </tr>\n",
       "  </tbody>\n",
       "</table>\n",
       "</div>"
      ],
      "text/plain": [
       "             writers  size\n",
       "27      Mindy Kaling    22\n",
       "30  Paul Lieberstein    16\n",
       "4        B. J. Novak    15\n",
       "24     Lee Eisenberg    15\n",
       "13   Gene Stupnitsky    15\n",
       "15      Greg Daniels    13\n",
       "5    Brent Forrester    11\n",
       "22    Justin Spitzer    11\n",
       "18  Jennifer Celotta    11\n",
       "26     Michael Schur    10"
      ]
     },
     "execution_count": 215,
     "metadata": {},
     "output_type": "execute_result"
    }
   ],
   "source": [
    "writer_counts.sort_values(by='size',ascending=False,inplace=True)\n",
    "writer_counts.head(10)"
   ]
  },
  {
   "cell_type": "code",
   "execution_count": 235,
   "id": "banned-alarm",
   "metadata": {},
   "outputs": [
    {
     "data": {
      "application/vnd.plotly.v1+json": {
       "config": {
        "plotlyServerURL": "https://plot.ly"
       },
       "data": [
        {
         "alignmentgroup": "True",
         "hovertemplate": "<b>%{hovertext}</b><br><br># of episodes a writer=%{marker.color}<br>writers=%{y}<extra></extra>",
         "hovertext": [
          22,
          16,
          15,
          15,
          15,
          13,
          11,
          11,
          11,
          10
         ],
         "legendgroup": "",
         "marker": {
          "color": [
           22,
           16,
           15,
           15,
           15,
           13,
           11,
           11,
           11,
           10
          ],
          "coloraxis": "coloraxis"
         },
         "name": "",
         "offsetgroup": "",
         "orientation": "h",
         "showlegend": false,
         "text": [
          22,
          16,
          15,
          15,
          15,
          13,
          11,
          11,
          11,
          10
         ],
         "textposition": "auto",
         "type": "bar",
         "x": [
          22,
          16,
          15,
          15,
          15,
          13,
          11,
          11,
          11,
          10
         ],
         "xaxis": "x",
         "y": [
          "Mindy Kaling",
          "Paul Lieberstein",
          "B. J. Novak",
          "Lee Eisenberg",
          "Gene Stupnitsky",
          "Greg Daniels",
          "Brent Forrester",
          "Justin Spitzer",
          "Jennifer Celotta",
          "Michael Schur"
         ],
         "yaxis": "y"
        }
       ],
       "layout": {
        "autosize": true,
        "barmode": "relative",
        "coloraxis": {
         "colorbar": {
          "title": {
           "text": "# of episodes a writer"
          }
         },
         "colorscale": [
          [
           0,
           "rgb(255,245,240)"
          ],
          [
           0.125,
           "rgb(254,224,210)"
          ],
          [
           0.25,
           "rgb(252,187,161)"
          ],
          [
           0.375,
           "rgb(252,146,114)"
          ],
          [
           0.5,
           "rgb(251,106,74)"
          ],
          [
           0.625,
           "rgb(239,59,44)"
          ],
          [
           0.75,
           "rgb(203,24,29)"
          ],
          [
           0.875,
           "rgb(165,15,21)"
          ],
          [
           1,
           "rgb(103,0,13)"
          ]
         ],
         "showscale": false
        },
        "legend": {
         "tracegroupgap": 0
        },
        "margin": {
         "t": 60
        },
        "template": {
         "data": {
          "bar": [
           {
            "error_x": {
             "color": "#2a3f5f"
            },
            "error_y": {
             "color": "#2a3f5f"
            },
            "marker": {
             "line": {
              "color": "#E5ECF6",
              "width": 0.5
             }
            },
            "type": "bar"
           }
          ],
          "barpolar": [
           {
            "marker": {
             "line": {
              "color": "#E5ECF6",
              "width": 0.5
             }
            },
            "type": "barpolar"
           }
          ],
          "carpet": [
           {
            "aaxis": {
             "endlinecolor": "#2a3f5f",
             "gridcolor": "white",
             "linecolor": "white",
             "minorgridcolor": "white",
             "startlinecolor": "#2a3f5f"
            },
            "baxis": {
             "endlinecolor": "#2a3f5f",
             "gridcolor": "white",
             "linecolor": "white",
             "minorgridcolor": "white",
             "startlinecolor": "#2a3f5f"
            },
            "type": "carpet"
           }
          ],
          "choropleth": [
           {
            "colorbar": {
             "outlinewidth": 0,
             "ticks": ""
            },
            "type": "choropleth"
           }
          ],
          "contour": [
           {
            "colorbar": {
             "outlinewidth": 0,
             "ticks": ""
            },
            "colorscale": [
             [
              0,
              "#0d0887"
             ],
             [
              0.1111111111111111,
              "#46039f"
             ],
             [
              0.2222222222222222,
              "#7201a8"
             ],
             [
              0.3333333333333333,
              "#9c179e"
             ],
             [
              0.4444444444444444,
              "#bd3786"
             ],
             [
              0.5555555555555556,
              "#d8576b"
             ],
             [
              0.6666666666666666,
              "#ed7953"
             ],
             [
              0.7777777777777778,
              "#fb9f3a"
             ],
             [
              0.8888888888888888,
              "#fdca26"
             ],
             [
              1,
              "#f0f921"
             ]
            ],
            "type": "contour"
           }
          ],
          "contourcarpet": [
           {
            "colorbar": {
             "outlinewidth": 0,
             "ticks": ""
            },
            "type": "contourcarpet"
           }
          ],
          "heatmap": [
           {
            "colorbar": {
             "outlinewidth": 0,
             "ticks": ""
            },
            "colorscale": [
             [
              0,
              "#0d0887"
             ],
             [
              0.1111111111111111,
              "#46039f"
             ],
             [
              0.2222222222222222,
              "#7201a8"
             ],
             [
              0.3333333333333333,
              "#9c179e"
             ],
             [
              0.4444444444444444,
              "#bd3786"
             ],
             [
              0.5555555555555556,
              "#d8576b"
             ],
             [
              0.6666666666666666,
              "#ed7953"
             ],
             [
              0.7777777777777778,
              "#fb9f3a"
             ],
             [
              0.8888888888888888,
              "#fdca26"
             ],
             [
              1,
              "#f0f921"
             ]
            ],
            "type": "heatmap"
           }
          ],
          "heatmapgl": [
           {
            "colorbar": {
             "outlinewidth": 0,
             "ticks": ""
            },
            "colorscale": [
             [
              0,
              "#0d0887"
             ],
             [
              0.1111111111111111,
              "#46039f"
             ],
             [
              0.2222222222222222,
              "#7201a8"
             ],
             [
              0.3333333333333333,
              "#9c179e"
             ],
             [
              0.4444444444444444,
              "#bd3786"
             ],
             [
              0.5555555555555556,
              "#d8576b"
             ],
             [
              0.6666666666666666,
              "#ed7953"
             ],
             [
              0.7777777777777778,
              "#fb9f3a"
             ],
             [
              0.8888888888888888,
              "#fdca26"
             ],
             [
              1,
              "#f0f921"
             ]
            ],
            "type": "heatmapgl"
           }
          ],
          "histogram": [
           {
            "marker": {
             "colorbar": {
              "outlinewidth": 0,
              "ticks": ""
             }
            },
            "type": "histogram"
           }
          ],
          "histogram2d": [
           {
            "colorbar": {
             "outlinewidth": 0,
             "ticks": ""
            },
            "colorscale": [
             [
              0,
              "#0d0887"
             ],
             [
              0.1111111111111111,
              "#46039f"
             ],
             [
              0.2222222222222222,
              "#7201a8"
             ],
             [
              0.3333333333333333,
              "#9c179e"
             ],
             [
              0.4444444444444444,
              "#bd3786"
             ],
             [
              0.5555555555555556,
              "#d8576b"
             ],
             [
              0.6666666666666666,
              "#ed7953"
             ],
             [
              0.7777777777777778,
              "#fb9f3a"
             ],
             [
              0.8888888888888888,
              "#fdca26"
             ],
             [
              1,
              "#f0f921"
             ]
            ],
            "type": "histogram2d"
           }
          ],
          "histogram2dcontour": [
           {
            "colorbar": {
             "outlinewidth": 0,
             "ticks": ""
            },
            "colorscale": [
             [
              0,
              "#0d0887"
             ],
             [
              0.1111111111111111,
              "#46039f"
             ],
             [
              0.2222222222222222,
              "#7201a8"
             ],
             [
              0.3333333333333333,
              "#9c179e"
             ],
             [
              0.4444444444444444,
              "#bd3786"
             ],
             [
              0.5555555555555556,
              "#d8576b"
             ],
             [
              0.6666666666666666,
              "#ed7953"
             ],
             [
              0.7777777777777778,
              "#fb9f3a"
             ],
             [
              0.8888888888888888,
              "#fdca26"
             ],
             [
              1,
              "#f0f921"
             ]
            ],
            "type": "histogram2dcontour"
           }
          ],
          "mesh3d": [
           {
            "colorbar": {
             "outlinewidth": 0,
             "ticks": ""
            },
            "type": "mesh3d"
           }
          ],
          "parcoords": [
           {
            "line": {
             "colorbar": {
              "outlinewidth": 0,
              "ticks": ""
             }
            },
            "type": "parcoords"
           }
          ],
          "pie": [
           {
            "automargin": true,
            "type": "pie"
           }
          ],
          "scatter": [
           {
            "marker": {
             "colorbar": {
              "outlinewidth": 0,
              "ticks": ""
             }
            },
            "type": "scatter"
           }
          ],
          "scatter3d": [
           {
            "line": {
             "colorbar": {
              "outlinewidth": 0,
              "ticks": ""
             }
            },
            "marker": {
             "colorbar": {
              "outlinewidth": 0,
              "ticks": ""
             }
            },
            "type": "scatter3d"
           }
          ],
          "scattercarpet": [
           {
            "marker": {
             "colorbar": {
              "outlinewidth": 0,
              "ticks": ""
             }
            },
            "type": "scattercarpet"
           }
          ],
          "scattergeo": [
           {
            "marker": {
             "colorbar": {
              "outlinewidth": 0,
              "ticks": ""
             }
            },
            "type": "scattergeo"
           }
          ],
          "scattergl": [
           {
            "marker": {
             "colorbar": {
              "outlinewidth": 0,
              "ticks": ""
             }
            },
            "type": "scattergl"
           }
          ],
          "scattermapbox": [
           {
            "marker": {
             "colorbar": {
              "outlinewidth": 0,
              "ticks": ""
             }
            },
            "type": "scattermapbox"
           }
          ],
          "scatterpolar": [
           {
            "marker": {
             "colorbar": {
              "outlinewidth": 0,
              "ticks": ""
             }
            },
            "type": "scatterpolar"
           }
          ],
          "scatterpolargl": [
           {
            "marker": {
             "colorbar": {
              "outlinewidth": 0,
              "ticks": ""
             }
            },
            "type": "scatterpolargl"
           }
          ],
          "scatterternary": [
           {
            "marker": {
             "colorbar": {
              "outlinewidth": 0,
              "ticks": ""
             }
            },
            "type": "scatterternary"
           }
          ],
          "surface": [
           {
            "colorbar": {
             "outlinewidth": 0,
             "ticks": ""
            },
            "colorscale": [
             [
              0,
              "#0d0887"
             ],
             [
              0.1111111111111111,
              "#46039f"
             ],
             [
              0.2222222222222222,
              "#7201a8"
             ],
             [
              0.3333333333333333,
              "#9c179e"
             ],
             [
              0.4444444444444444,
              "#bd3786"
             ],
             [
              0.5555555555555556,
              "#d8576b"
             ],
             [
              0.6666666666666666,
              "#ed7953"
             ],
             [
              0.7777777777777778,
              "#fb9f3a"
             ],
             [
              0.8888888888888888,
              "#fdca26"
             ],
             [
              1,
              "#f0f921"
             ]
            ],
            "type": "surface"
           }
          ],
          "table": [
           {
            "cells": {
             "fill": {
              "color": "#EBF0F8"
             },
             "line": {
              "color": "white"
             }
            },
            "header": {
             "fill": {
              "color": "#C8D4E3"
             },
             "line": {
              "color": "white"
             }
            },
            "type": "table"
           }
          ]
         },
         "layout": {
          "annotationdefaults": {
           "arrowcolor": "#2a3f5f",
           "arrowhead": 0,
           "arrowwidth": 1
          },
          "autotypenumbers": "strict",
          "coloraxis": {
           "colorbar": {
            "outlinewidth": 0,
            "ticks": ""
           }
          },
          "colorscale": {
           "diverging": [
            [
             0,
             "#8e0152"
            ],
            [
             0.1,
             "#c51b7d"
            ],
            [
             0.2,
             "#de77ae"
            ],
            [
             0.3,
             "#f1b6da"
            ],
            [
             0.4,
             "#fde0ef"
            ],
            [
             0.5,
             "#f7f7f7"
            ],
            [
             0.6,
             "#e6f5d0"
            ],
            [
             0.7,
             "#b8e186"
            ],
            [
             0.8,
             "#7fbc41"
            ],
            [
             0.9,
             "#4d9221"
            ],
            [
             1,
             "#276419"
            ]
           ],
           "sequential": [
            [
             0,
             "#0d0887"
            ],
            [
             0.1111111111111111,
             "#46039f"
            ],
            [
             0.2222222222222222,
             "#7201a8"
            ],
            [
             0.3333333333333333,
             "#9c179e"
            ],
            [
             0.4444444444444444,
             "#bd3786"
            ],
            [
             0.5555555555555556,
             "#d8576b"
            ],
            [
             0.6666666666666666,
             "#ed7953"
            ],
            [
             0.7777777777777778,
             "#fb9f3a"
            ],
            [
             0.8888888888888888,
             "#fdca26"
            ],
            [
             1,
             "#f0f921"
            ]
           ],
           "sequentialminus": [
            [
             0,
             "#0d0887"
            ],
            [
             0.1111111111111111,
             "#46039f"
            ],
            [
             0.2222222222222222,
             "#7201a8"
            ],
            [
             0.3333333333333333,
             "#9c179e"
            ],
            [
             0.4444444444444444,
             "#bd3786"
            ],
            [
             0.5555555555555556,
             "#d8576b"
            ],
            [
             0.6666666666666666,
             "#ed7953"
            ],
            [
             0.7777777777777778,
             "#fb9f3a"
            ],
            [
             0.8888888888888888,
             "#fdca26"
            ],
            [
             1,
             "#f0f921"
            ]
           ]
          },
          "colorway": [
           "#636efa",
           "#EF553B",
           "#00cc96",
           "#ab63fa",
           "#FFA15A",
           "#19d3f3",
           "#FF6692",
           "#B6E880",
           "#FF97FF",
           "#FECB52"
          ],
          "font": {
           "color": "#2a3f5f"
          },
          "geo": {
           "bgcolor": "white",
           "lakecolor": "white",
           "landcolor": "#E5ECF6",
           "showlakes": true,
           "showland": true,
           "subunitcolor": "white"
          },
          "hoverlabel": {
           "align": "left"
          },
          "hovermode": "closest",
          "mapbox": {
           "style": "light"
          },
          "paper_bgcolor": "white",
          "plot_bgcolor": "#E5ECF6",
          "polar": {
           "angularaxis": {
            "gridcolor": "white",
            "linecolor": "white",
            "ticks": ""
           },
           "bgcolor": "#E5ECF6",
           "radialaxis": {
            "gridcolor": "white",
            "linecolor": "white",
            "ticks": ""
           }
          },
          "scene": {
           "xaxis": {
            "backgroundcolor": "#E5ECF6",
            "gridcolor": "white",
            "gridwidth": 2,
            "linecolor": "white",
            "showbackground": true,
            "ticks": "",
            "zerolinecolor": "white"
           },
           "yaxis": {
            "backgroundcolor": "#E5ECF6",
            "gridcolor": "white",
            "gridwidth": 2,
            "linecolor": "white",
            "showbackground": true,
            "ticks": "",
            "zerolinecolor": "white"
           },
           "zaxis": {
            "backgroundcolor": "#E5ECF6",
            "gridcolor": "white",
            "gridwidth": 2,
            "linecolor": "white",
            "showbackground": true,
            "ticks": "",
            "zerolinecolor": "white"
           }
          },
          "shapedefaults": {
           "line": {
            "color": "#2a3f5f"
           }
          },
          "ternary": {
           "aaxis": {
            "gridcolor": "white",
            "linecolor": "white",
            "ticks": ""
           },
           "baxis": {
            "gridcolor": "white",
            "linecolor": "white",
            "ticks": ""
           },
           "bgcolor": "#E5ECF6",
           "caxis": {
            "gridcolor": "white",
            "linecolor": "white",
            "ticks": ""
           }
          },
          "title": {
           "x": 0.05
          },
          "xaxis": {
           "automargin": true,
           "gridcolor": "white",
           "linecolor": "white",
           "ticks": "",
           "title": {
            "standoff": 15
           },
           "zerolinecolor": "white",
           "zerolinewidth": 2
          },
          "yaxis": {
           "automargin": true,
           "gridcolor": "white",
           "linecolor": "white",
           "ticks": "",
           "title": {
            "standoff": 15
           },
           "zerolinecolor": "white",
           "zerolinewidth": 2
          }
         }
        },
        "xaxis": {
         "anchor": "y",
         "autorange": true,
         "domain": [
          0,
          1
         ],
         "range": [
          0,
          23.157894736842106
         ],
         "title": {
          "text": "# of episodes a writer"
         },
         "type": "linear"
        },
        "yaxis": {
         "anchor": "x",
         "autorange": true,
         "categoryorder": "total ascending",
         "domain": [
          0,
          1
         ],
         "range": [
          -0.5,
          9.5
         ],
         "title": {
          "text": "writers"
         },
         "type": "category"
        }
       }
      },
      "image/png": "[encoded data removed]",
      "text/html": [
       "<div>                            <div id=\"19527cff-33cc-4771-aa49-0d9f33013916\" class=\"plotly-graph-div\" style=\"height:525px; width:100%;\"></div>            <script type=\"text/javascript\">                require([\"plotly\"], function(Plotly) {                    window.PLOTLYENV=window.PLOTLYENV || {};                                    if (document.getElementById(\"19527cff-33cc-4771-aa49-0d9f33013916\")) {                    Plotly.newPlot(                        \"19527cff-33cc-4771-aa49-0d9f33013916\",                        [{\"alignmentgroup\": \"True\", \"hovertemplate\": \"<b>%{hovertext}</b><br><br># of episodes a writer=%{marker.color}<br>writers=%{y}<extra></extra>\", \"hovertext\": [22.0, 16.0, 15.0, 15.0, 15.0, 13.0, 11.0, 11.0, 11.0, 10.0], \"legendgroup\": \"\", \"marker\": {\"color\": [22, 16, 15, 15, 15, 13, 11, 11, 11, 10], \"coloraxis\": \"coloraxis\"}, \"name\": \"\", \"offsetgroup\": \"\", \"orientation\": \"h\", \"showlegend\": false, \"text\": [22.0, 16.0, 15.0, 15.0, 15.0, 13.0, 11.0, 11.0, 11.0, 10.0], \"textposition\": \"auto\", \"type\": \"bar\", \"x\": [22, 16, 15, 15, 15, 13, 11, 11, 11, 10], \"xaxis\": \"x\", \"y\": [\"Mindy Kaling\", \"Paul Lieberstein\", \"B. J. Novak\", \"Lee Eisenberg\", \"Gene Stupnitsky\", \"Greg Daniels\", \"Brent Forrester\", \"Justin Spitzer\", \"Jennifer Celotta\", \"Michael Schur\"], \"yaxis\": \"y\"}],                        {\"barmode\": \"relative\", \"coloraxis\": {\"colorbar\": {\"title\": {\"text\": \"# of episodes a writer\"}}, \"colorscale\": [[0.0, \"rgb(255,245,240)\"], [0.125, \"rgb(254,224,210)\"], [0.25, \"rgb(252,187,161)\"], [0.375, \"rgb(252,146,114)\"], [0.5, \"rgb(251,106,74)\"], [0.625, \"rgb(239,59,44)\"], [0.75, \"rgb(203,24,29)\"], [0.875, \"rgb(165,15,21)\"], [1.0, \"rgb(103,0,13)\"]], \"showscale\": false}, \"legend\": {\"tracegroupgap\": 0}, \"margin\": {\"t\": 60}, \"template\": {\"data\": {\"bar\": [{\"error_x\": {\"color\": \"#2a3f5f\"}, \"error_y\": {\"color\": \"#2a3f5f\"}, \"marker\": {\"line\": {\"color\": \"#E5ECF6\", \"width\": 0.5}}, \"type\": \"bar\"}], \"barpolar\": [{\"marker\": {\"line\": {\"color\": \"#E5ECF6\", \"width\": 0.5}}, \"type\": \"barpolar\"}], \"carpet\": [{\"aaxis\": {\"endlinecolor\": \"#2a3f5f\", \"gridcolor\": \"white\", \"linecolor\": \"white\", \"minorgridcolor\": \"white\", \"startlinecolor\": \"#2a3f5f\"}, \"baxis\": {\"endlinecolor\": \"#2a3f5f\", \"gridcolor\": \"white\", \"linecolor\": \"white\", \"minorgridcolor\": \"white\", \"startlinecolor\": \"#2a3f5f\"}, \"type\": \"carpet\"}], \"choropleth\": [{\"colorbar\": {\"outlinewidth\": 0, \"ticks\": \"\"}, \"type\": \"choropleth\"}], \"contour\": [{\"colorbar\": {\"outlinewidth\": 0, \"ticks\": \"\"}, \"colorscale\": [[0.0, \"#0d0887\"], [0.1111111111111111, \"#46039f\"], [0.2222222222222222, \"#7201a8\"], [0.3333333333333333, \"#9c179e\"], [0.4444444444444444, \"#bd3786\"], [0.5555555555555556, \"#d8576b\"], [0.6666666666666666, \"#ed7953\"], [0.7777777777777778, \"#fb9f3a\"], [0.8888888888888888, \"#fdca26\"], [1.0, \"#f0f921\"]], \"type\": \"contour\"}], \"contourcarpet\": [{\"colorbar\": {\"outlinewidth\": 0, \"ticks\": \"\"}, \"type\": \"contourcarpet\"}], \"heatmap\": [{\"colorbar\": {\"outlinewidth\": 0, \"ticks\": \"\"}, \"colorscale\": [[0.0, \"#0d0887\"], [0.1111111111111111, \"#46039f\"], [0.2222222222222222, \"#7201a8\"], [0.3333333333333333, \"#9c179e\"], [0.4444444444444444, \"#bd3786\"], [0.5555555555555556, \"#d8576b\"], [0.6666666666666666, \"#ed7953\"], [0.7777777777777778, \"#fb9f3a\"], [0.8888888888888888, \"#fdca26\"], [1.0, \"#f0f921\"]], \"type\": \"heatmap\"}], \"heatmapgl\": [{\"colorbar\": {\"outlinewidth\": 0, \"ticks\": \"\"}, \"colorscale\": [[0.0, \"#0d0887\"], [0.1111111111111111, \"#46039f\"], [0.2222222222222222, \"#7201a8\"], [0.3333333333333333, \"#9c179e\"], [0.4444444444444444, \"#bd3786\"], [0.5555555555555556, \"#d8576b\"], [0.6666666666666666, \"#ed7953\"], [0.7777777777777778, \"#fb9f3a\"], [0.8888888888888888, \"#fdca26\"], [1.0, \"#f0f921\"]], \"type\": \"heatmapgl\"}], \"histogram\": [{\"marker\": {\"colorbar\": {\"outlinewidth\": 0, \"ticks\": \"\"}}, \"type\": \"histogram\"}], \"histogram2d\": [{\"colorbar\": {\"outlinewidth\": 0, \"ticks\": \"\"}, \"colorscale\": [[0.0, \"#0d0887\"], [0.1111111111111111, \"#46039f\"], [0.2222222222222222, \"#7201a8\"], [0.3333333333333333, \"#9c179e\"], [0.4444444444444444, \"#bd3786\"], [0.5555555555555556, \"#d8576b\"], [0.6666666666666666, \"#ed7953\"], [0.7777777777777778, \"#fb9f3a\"], [0.8888888888888888, \"#fdca26\"], [1.0, \"#f0f921\"]], \"type\": \"histogram2d\"}], \"histogram2dcontour\": [{\"colorbar\": {\"outlinewidth\": 0, \"ticks\": \"\"}, \"colorscale\": [[0.0, \"#0d0887\"], [0.1111111111111111, \"#46039f\"], [0.2222222222222222, \"#7201a8\"], [0.3333333333333333, \"#9c179e\"], [0.4444444444444444, \"#bd3786\"], [0.5555555555555556, \"#d8576b\"], [0.6666666666666666, \"#ed7953\"], [0.7777777777777778, \"#fb9f3a\"], [0.8888888888888888, \"#fdca26\"], [1.0, \"#f0f921\"]], \"type\": \"histogram2dcontour\"}], \"mesh3d\": [{\"colorbar\": {\"outlinewidth\": 0, \"ticks\": \"\"}, \"type\": \"mesh3d\"}], \"parcoords\": [{\"line\": {\"colorbar\": {\"outlinewidth\": 0, \"ticks\": \"\"}}, \"type\": \"parcoords\"}], \"pie\": [{\"automargin\": true, \"type\": \"pie\"}], \"scatter\": [{\"marker\": {\"colorbar\": {\"outlinewidth\": 0, \"ticks\": \"\"}}, \"type\": \"scatter\"}], \"scatter3d\": [{\"line\": {\"colorbar\": {\"outlinewidth\": 0, \"ticks\": \"\"}}, \"marker\": {\"colorbar\": {\"outlinewidth\": 0, \"ticks\": \"\"}}, \"type\": \"scatter3d\"}], \"scattercarpet\": [{\"marker\": {\"colorbar\": {\"outlinewidth\": 0, \"ticks\": \"\"}}, \"type\": \"scattercarpet\"}], \"scattergeo\": [{\"marker\": {\"colorbar\": {\"outlinewidth\": 0, \"ticks\": \"\"}}, \"type\": \"scattergeo\"}], \"scattergl\": [{\"marker\": {\"colorbar\": {\"outlinewidth\": 0, \"ticks\": \"\"}}, \"type\": \"scattergl\"}], \"scattermapbox\": [{\"marker\": {\"colorbar\": {\"outlinewidth\": 0, \"ticks\": \"\"}}, \"type\": \"scattermapbox\"}], \"scatterpolar\": [{\"marker\": {\"colorbar\": {\"outlinewidth\": 0, \"ticks\": \"\"}}, \"type\": \"scatterpolar\"}], \"scatterpolargl\": [{\"marker\": {\"colorbar\": {\"outlinewidth\": 0, \"ticks\": \"\"}}, \"type\": \"scatterpolargl\"}], \"scatterternary\": [{\"marker\": {\"colorbar\": {\"outlinewidth\": 0, \"ticks\": \"\"}}, \"type\": \"scatterternary\"}], \"surface\": [{\"colorbar\": {\"outlinewidth\": 0, \"ticks\": \"\"}, \"colorscale\": [[0.0, \"#0d0887\"], [0.1111111111111111, \"#46039f\"], [0.2222222222222222, \"#7201a8\"], [0.3333333333333333, \"#9c179e\"], [0.4444444444444444, \"#bd3786\"], [0.5555555555555556, \"#d8576b\"], [0.6666666666666666, \"#ed7953\"], [0.7777777777777778, \"#fb9f3a\"], [0.8888888888888888, \"#fdca26\"], [1.0, \"#f0f921\"]], \"type\": \"surface\"}], \"table\": [{\"cells\": {\"fill\": {\"color\": \"#EBF0F8\"}, \"line\": {\"color\": \"white\"}}, \"header\": {\"fill\": {\"color\": \"#C8D4E3\"}, \"line\": {\"color\": \"white\"}}, \"type\": \"table\"}]}, \"layout\": {\"annotationdefaults\": {\"arrowcolor\": \"#2a3f5f\", \"arrowhead\": 0, \"arrowwidth\": 1}, \"autotypenumbers\": \"strict\", \"coloraxis\": {\"colorbar\": {\"outlinewidth\": 0, \"ticks\": \"\"}}, \"colorscale\": {\"diverging\": [[0, \"#8e0152\"], [0.1, \"#c51b7d\"], [0.2, \"#de77ae\"], [0.3, \"#f1b6da\"], [0.4, \"#fde0ef\"], [0.5, \"#f7f7f7\"], [0.6, \"#e6f5d0\"], [0.7, \"#b8e186\"], [0.8, \"#7fbc41\"], [0.9, \"#4d9221\"], [1, \"#276419\"]], \"sequential\": [[0.0, \"#0d0887\"], [0.1111111111111111, \"#46039f\"], [0.2222222222222222, \"#7201a8\"], [0.3333333333333333, \"#9c179e\"], [0.4444444444444444, \"#bd3786\"], [0.5555555555555556, \"#d8576b\"], [0.6666666666666666, \"#ed7953\"], [0.7777777777777778, \"#fb9f3a\"], [0.8888888888888888, \"#fdca26\"], [1.0, \"#f0f921\"]], \"sequentialminus\": [[0.0, \"#0d0887\"], [0.1111111111111111, \"#46039f\"], [0.2222222222222222, \"#7201a8\"], [0.3333333333333333, \"#9c179e\"], [0.4444444444444444, \"#bd3786\"], [0.5555555555555556, \"#d8576b\"], [0.6666666666666666, \"#ed7953\"], [0.7777777777777778, \"#fb9f3a\"], [0.8888888888888888, \"#fdca26\"], [1.0, \"#f0f921\"]]}, \"colorway\": [\"#636efa\", \"#EF553B\", \"#00cc96\", \"#ab63fa\", \"#FFA15A\", \"#19d3f3\", \"#FF6692\", \"#B6E880\", \"#FF97FF\", \"#FECB52\"], \"font\": {\"color\": \"#2a3f5f\"}, \"geo\": {\"bgcolor\": \"white\", \"lakecolor\": \"white\", \"landcolor\": \"#E5ECF6\", \"showlakes\": true, \"showland\": true, \"subunitcolor\": \"white\"}, \"hoverlabel\": {\"align\": \"left\"}, \"hovermode\": \"closest\", \"mapbox\": {\"style\": \"light\"}, \"paper_bgcolor\": \"white\", \"plot_bgcolor\": \"#E5ECF6\", \"polar\": {\"angularaxis\": {\"gridcolor\": \"white\", \"linecolor\": \"white\", \"ticks\": \"\"}, \"bgcolor\": \"#E5ECF6\", \"radialaxis\": {\"gridcolor\": \"white\", \"linecolor\": \"white\", \"ticks\": \"\"}}, \"scene\": {\"xaxis\": {\"backgroundcolor\": \"#E5ECF6\", \"gridcolor\": \"white\", \"gridwidth\": 2, \"linecolor\": \"white\", \"showbackground\": true, \"ticks\": \"\", \"zerolinecolor\": \"white\"}, \"yaxis\": {\"backgroundcolor\": \"#E5ECF6\", \"gridcolor\": \"white\", \"gridwidth\": 2, \"linecolor\": \"white\", \"showbackground\": true, \"ticks\": \"\", \"zerolinecolor\": \"white\"}, \"zaxis\": {\"backgroundcolor\": \"#E5ECF6\", \"gridcolor\": \"white\", \"gridwidth\": 2, \"linecolor\": \"white\", \"showbackground\": true, \"ticks\": \"\", \"zerolinecolor\": \"white\"}}, \"shapedefaults\": {\"line\": {\"color\": \"#2a3f5f\"}}, \"ternary\": {\"aaxis\": {\"gridcolor\": \"white\", \"linecolor\": \"white\", \"ticks\": \"\"}, \"baxis\": {\"gridcolor\": \"white\", \"linecolor\": \"white\", \"ticks\": \"\"}, \"bgcolor\": \"#E5ECF6\", \"caxis\": {\"gridcolor\": \"white\", \"linecolor\": \"white\", \"ticks\": \"\"}}, \"title\": {\"x\": 0.05}, \"xaxis\": {\"automargin\": true, \"gridcolor\": \"white\", \"linecolor\": \"white\", \"ticks\": \"\", \"title\": {\"standoff\": 15}, \"zerolinecolor\": \"white\", \"zerolinewidth\": 2}, \"yaxis\": {\"automargin\": true, \"gridcolor\": \"white\", \"linecolor\": \"white\", \"ticks\": \"\", \"title\": {\"standoff\": 15}, \"zerolinecolor\": \"white\", \"zerolinewidth\": 2}}}, \"xaxis\": {\"anchor\": \"y\", \"domain\": [0.0, 1.0], \"title\": {\"text\": \"# of episodes a writer\"}}, \"yaxis\": {\"anchor\": \"x\", \"categoryorder\": \"total ascending\", \"domain\": [0.0, 1.0], \"title\": {\"text\": \"writers\"}}},                        {\"responsive\": true}                    ).then(function(){\n",
       "                            \n",
       "var gd = document.getElementById('19527cff-33cc-4771-aa49-0d9f33013916');\n",
       "var x = new MutationObserver(function (mutations, observer) {{\n",
       "        var display = window.getComputedStyle(gd).display;\n",
       "        if (!display || display === 'none') {{\n",
       "            console.log([gd, 'removed!']);\n",
       "            Plotly.purge(gd);\n",
       "            observer.disconnect();\n",
       "        }}\n",
       "}});\n",
       "\n",
       "// Listen for the removal of the full notebook cells\n",
       "var notebookContainer = gd.closest('#notebook-container');\n",
       "if (notebookContainer) {{\n",
       "    x.observe(notebookContainer, {childList: true});\n",
       "}}\n",
       "\n",
       "// Listen for the clearing of the current output cell\n",
       "var outputEl = gd.closest('.output');\n",
       "if (outputEl) {{\n",
       "    x.observe(outputEl, {childList: true});\n",
       "}}\n",
       "\n",
       "                        })                };                });            </script>        </div>"
      ]
     },
     "metadata": {},
     "output_type": "display_data"
    }
   ],
   "source": [
    "top_10 = writer_counts.head(10)\n",
    "fig = px.bar(data_frame=top_10,y='writers',x='size',color='size',color_continuous_scale='reds',text='size',labels={'size': '# of episodes a writer'},hover_name='size')\n",
    "fig.update_layout(yaxis=dict(categoryorder='total ascending'),coloraxis=dict(showscale=False))"
   ]
  },
  {
   "cell_type": "code",
   "execution_count": 240,
   "id": "funded-theater",
   "metadata": {},
   "outputs": [
    {
     "data": {
      "text/plain": [
       "<AxesSubplot:xlabel='size', ylabel='writers'>"
      ]
     },
     "execution_count": 240,
     "metadata": {},
     "output_type": "execute_result"
    },
    {
     "data": {
      "image/png": "[encoded data removed]",
      "text/plain": [
       "<Figure size 432x288 with 1 Axes>"
      ]
     },
     "metadata": {
      "needs_background": "light"
     },
     "output_type": "display_data"
    }
   ],
   "source": [
    "sns.barplot(data=top_10,y='writers',x='size',palette=sns.color_palette('Greens_r',10))"
   ]
  },
  {
   "cell_type": "markdown",
   "id": "confused-cargo",
   "metadata": {},
   "source": [
    "# See which writers have highest average IMDB ratings"
   ]
  },
  {
   "cell_type": "code",
   "execution_count": 244,
   "id": "color-execution",
   "metadata": {},
   "outputs": [
    {
     "data": {
      "text/plain": [
       "<AxesSubplot:ylabel='writers'>"
      ]
     },
     "execution_count": 244,
     "metadata": {},
     "output_type": "execute_result"
    },
    {
     "data": {
      "image/png": "[encoded data removed]",
      "text/plain": [
       "<Figure size 432x288 with 1 Axes>"
      ]
     },
     "metadata": {
      "needs_background": "light"
     },
     "output_type": "display_data"
    }
   ],
   "source": [
    "d.groupby('writers').ratings.mean().sort_values(ascending=False).head(10).plot(kind='barh')"
   ]
  },
  {
   "cell_type": "code",
   "execution_count": 245,
   "id": "democratic-bicycle",
   "metadata": {},
   "outputs": [],
   "source": [
    "at_least_10_episodes = d.groupby('writers').filter(lambda group: group.writers.count() >= 10)"
   ]
  },
  {
   "cell_type": "code",
   "execution_count": 253,
   "id": "yellow-gregory",
   "metadata": {},
   "outputs": [
    {
     "data": {
      "text/plain": [
       "<AxesSubplot:ylabel='writers'>"
      ]
     },
     "execution_count": 253,
     "metadata": {},
     "output_type": "execute_result"
    },
    {
     "data": {
      "image/png": "[encoded data removed]",
      "text/plain": [
       "<Figure size 432x288 with 1 Axes>"
      ]
     },
     "metadata": {
      "needs_background": "light"
     },
     "output_type": "display_data"
    }
   ],
   "source": [
    "at_least_10_episodes.groupby('writers').ratings.mean().sort_values().tail(10).plot(kind='barh',color=sns.color_palette('Reds',10))"
   ]
  },
  {
   "cell_type": "code",
   "execution_count": 255,
   "id": "functioning-snapshot",
   "metadata": {},
   "outputs": [
    {
     "data": {
      "text/plain": [
       "<AxesSubplot:ylabel='writers'>"
      ]
     },
     "execution_count": 255,
     "metadata": {},
     "output_type": "execute_result"
    },
    {
     "data": {
      "image/png": "[encoded data removed]",
      "text/plain": [
       "<Figure size 432x288 with 1 Axes>"
      ]
     },
     "metadata": {
      "needs_background": "light"
     },
     "output_type": "display_data"
    }
   ],
   "source": [
    "at_least_10_episodes.groupby('writers').scaled_ratings.mean().sort_values().tail(10).plot(kind='barh')"
   ]
  },
  {
   "cell_type": "markdown",
   "id": "motivated-performance",
   "metadata": {},
   "source": [
    "# look at seasonality "
   ]
  },
  {
   "cell_type": "code",
   "execution_count": 257,
   "id": "mathematical-victoria",
   "metadata": {},
   "outputs": [],
   "source": [
    "office.release_date =pd.to_datetime(office.release_date)"
   ]
  },
  {
   "cell_type": "code",
   "execution_count": 258,
   "id": "biblical-registrar",
   "metadata": {},
   "outputs": [
    {
     "data": {
      "text/html": [
       "<div>\n",
       "<style scoped>\n",
       "    .dataframe tbody tr th:only-of-type {\n",
       "        vertical-align: middle;\n",
       "    }\n",
       "\n",
       "    .dataframe tbody tr th {\n",
       "        vertical-align: top;\n",
       "    }\n",
       "\n",
       "    .dataframe thead th {\n",
       "        text-align: right;\n",
       "    }\n",
       "</style>\n",
       "<table border=\"1\" class=\"dataframe\">\n",
       "  <thead>\n",
       "    <tr style=\"text-align: right;\">\n",
       "      <th></th>\n",
       "      <th>episode_number</th>\n",
       "      <th>season</th>\n",
       "      <th>episode_title</th>\n",
       "      <th>description</th>\n",
       "      <th>ratings</th>\n",
       "      <th>votes</th>\n",
       "      <th>viewership_mil</th>\n",
       "      <th>duration</th>\n",
       "      <th>release_date</th>\n",
       "      <th>guest_stars</th>\n",
       "      <th>director</th>\n",
       "      <th>writers</th>\n",
       "      <th>has_guests</th>\n",
       "      <th>scaled_ratings</th>\n",
       "      <th>rating_labels</th>\n",
       "      <th>rating_colors</th>\n",
       "      <th>sizes</th>\n",
       "      <th>multiple_writers</th>\n",
       "    </tr>\n",
       "  </thead>\n",
       "  <tbody>\n",
       "    <tr>\n",
       "      <th>0</th>\n",
       "      <td>0</td>\n",
       "      <td>1</td>\n",
       "      <td>Pilot</td>\n",
       "      <td>The premiere episode introduces the boss and s...</td>\n",
       "      <td>7.5</td>\n",
       "      <td>4936</td>\n",
       "      <td>11.20</td>\n",
       "      <td>23</td>\n",
       "      <td>2005-03-24</td>\n",
       "      <td>NaN</td>\n",
       "      <td>Ken Kwapis</td>\n",
       "      <td>[Ricky Gervais, Stephen Merchant, Greg Daniels]</td>\n",
       "      <td>False</td>\n",
       "      <td>0.28125</td>\n",
       "      <td>NaN</td>\n",
       "      <td>orange</td>\n",
       "      <td>25</td>\n",
       "      <td>True</td>\n",
       "    </tr>\n",
       "    <tr>\n",
       "      <th>1</th>\n",
       "      <td>1</td>\n",
       "      <td>1</td>\n",
       "      <td>Diversity Day</td>\n",
       "      <td>Michael's off color remark puts a sensitivity ...</td>\n",
       "      <td>8.3</td>\n",
       "      <td>4801</td>\n",
       "      <td>6.00</td>\n",
       "      <td>23</td>\n",
       "      <td>2005-03-29</td>\n",
       "      <td>NaN</td>\n",
       "      <td>Ken Kwapis</td>\n",
       "      <td>[B. J. Novak]</td>\n",
       "      <td>False</td>\n",
       "      <td>0.53125</td>\n",
       "      <td>NaN</td>\n",
       "      <td>lightgreen</td>\n",
       "      <td>25</td>\n",
       "      <td>False</td>\n",
       "    </tr>\n",
       "    <tr>\n",
       "      <th>2</th>\n",
       "      <td>2</td>\n",
       "      <td>1</td>\n",
       "      <td>Health Care</td>\n",
       "      <td>Michael leaves Dwight in charge of picking the...</td>\n",
       "      <td>7.8</td>\n",
       "      <td>4024</td>\n",
       "      <td>5.80</td>\n",
       "      <td>22</td>\n",
       "      <td>2005-04-05</td>\n",
       "      <td>NaN</td>\n",
       "      <td>Ken Whittingham</td>\n",
       "      <td>[Paul Lieberstein]</td>\n",
       "      <td>False</td>\n",
       "      <td>0.37500</td>\n",
       "      <td>NaN</td>\n",
       "      <td>orange</td>\n",
       "      <td>25</td>\n",
       "      <td>False</td>\n",
       "    </tr>\n",
       "    <tr>\n",
       "      <th>3</th>\n",
       "      <td>3</td>\n",
       "      <td>1</td>\n",
       "      <td>The Alliance</td>\n",
       "      <td>Just for a laugh, Jim agrees to an alliance wi...</td>\n",
       "      <td>8.1</td>\n",
       "      <td>3915</td>\n",
       "      <td>5.40</td>\n",
       "      <td>23</td>\n",
       "      <td>2005-04-12</td>\n",
       "      <td>NaN</td>\n",
       "      <td>Bryan Gordon</td>\n",
       "      <td>[Michael Schur]</td>\n",
       "      <td>False</td>\n",
       "      <td>0.46875</td>\n",
       "      <td>NaN</td>\n",
       "      <td>orange</td>\n",
       "      <td>25</td>\n",
       "      <td>False</td>\n",
       "    </tr>\n",
       "    <tr>\n",
       "      <th>4</th>\n",
       "      <td>4</td>\n",
       "      <td>1</td>\n",
       "      <td>Basketball</td>\n",
       "      <td>Michael and his staff challenge the warehouse ...</td>\n",
       "      <td>8.4</td>\n",
       "      <td>4294</td>\n",
       "      <td>5.00</td>\n",
       "      <td>23</td>\n",
       "      <td>2005-04-19</td>\n",
       "      <td>NaN</td>\n",
       "      <td>Greg Daniels</td>\n",
       "      <td>[Greg Daniels]</td>\n",
       "      <td>False</td>\n",
       "      <td>0.56250</td>\n",
       "      <td>NaN</td>\n",
       "      <td>lightgreen</td>\n",
       "      <td>25</td>\n",
       "      <td>False</td>\n",
       "    </tr>\n",
       "    <tr>\n",
       "      <th>...</th>\n",
       "      <td>...</td>\n",
       "      <td>...</td>\n",
       "      <td>...</td>\n",
       "      <td>...</td>\n",
       "      <td>...</td>\n",
       "      <td>...</td>\n",
       "      <td>...</td>\n",
       "      <td>...</td>\n",
       "      <td>...</td>\n",
       "      <td>...</td>\n",
       "      <td>...</td>\n",
       "      <td>...</td>\n",
       "      <td>...</td>\n",
       "      <td>...</td>\n",
       "      <td>...</td>\n",
       "      <td>...</td>\n",
       "      <td>...</td>\n",
       "      <td>...</td>\n",
       "    </tr>\n",
       "    <tr>\n",
       "      <th>183</th>\n",
       "      <td>183</td>\n",
       "      <td>9</td>\n",
       "      <td>Stairmageddon</td>\n",
       "      <td>Dwight shoots Stanley with a bull tranquilizer...</td>\n",
       "      <td>8.0</td>\n",
       "      <td>1985</td>\n",
       "      <td>3.83</td>\n",
       "      <td>22</td>\n",
       "      <td>2013-04-11</td>\n",
       "      <td>NaN</td>\n",
       "      <td>Matt Sohn</td>\n",
       "      <td>[Dan Sterling]</td>\n",
       "      <td>False</td>\n",
       "      <td>0.43750</td>\n",
       "      <td>NaN</td>\n",
       "      <td>orange</td>\n",
       "      <td>25</td>\n",
       "      <td>False</td>\n",
       "    </tr>\n",
       "    <tr>\n",
       "      <th>184</th>\n",
       "      <td>184</td>\n",
       "      <td>9</td>\n",
       "      <td>Paper Airplane</td>\n",
       "      <td>The employees hold a paper airplane competitio...</td>\n",
       "      <td>8.0</td>\n",
       "      <td>2007</td>\n",
       "      <td>3.25</td>\n",
       "      <td>22</td>\n",
       "      <td>2013-04-25</td>\n",
       "      <td>NaN</td>\n",
       "      <td>Jesse Peretz</td>\n",
       "      <td>[Halsted Sullivan ,  Warren Lieberstein]</td>\n",
       "      <td>False</td>\n",
       "      <td>0.43750</td>\n",
       "      <td>NaN</td>\n",
       "      <td>orange</td>\n",
       "      <td>25</td>\n",
       "      <td>True</td>\n",
       "    </tr>\n",
       "    <tr>\n",
       "      <th>185</th>\n",
       "      <td>185</td>\n",
       "      <td>9</td>\n",
       "      <td>Livin' the Dream</td>\n",
       "      <td>Dwight becomes regional manager after Andy qui...</td>\n",
       "      <td>9.0</td>\n",
       "      <td>2831</td>\n",
       "      <td>3.51</td>\n",
       "      <td>42</td>\n",
       "      <td>2013-05-02</td>\n",
       "      <td>Michael Imperioli</td>\n",
       "      <td>Jeffrey Blitz</td>\n",
       "      <td>[Niki Schwartz-Wright]</td>\n",
       "      <td>True</td>\n",
       "      <td>0.75000</td>\n",
       "      <td>NaN</td>\n",
       "      <td>darkgreen</td>\n",
       "      <td>250</td>\n",
       "      <td>False</td>\n",
       "    </tr>\n",
       "    <tr>\n",
       "      <th>186</th>\n",
       "      <td>186</td>\n",
       "      <td>9</td>\n",
       "      <td>A.A.R.M.</td>\n",
       "      <td>Dwight prepares for a marriage proposal and hi...</td>\n",
       "      <td>9.5</td>\n",
       "      <td>3914</td>\n",
       "      <td>4.56</td>\n",
       "      <td>43</td>\n",
       "      <td>2013-05-09</td>\n",
       "      <td>NaN</td>\n",
       "      <td>David Rogers</td>\n",
       "      <td>[Brent Forrester]</td>\n",
       "      <td>False</td>\n",
       "      <td>0.90625</td>\n",
       "      <td>NaN</td>\n",
       "      <td>darkgreen</td>\n",
       "      <td>25</td>\n",
       "      <td>False</td>\n",
       "    </tr>\n",
       "    <tr>\n",
       "      <th>187</th>\n",
       "      <td>187</td>\n",
       "      <td>9</td>\n",
       "      <td>Finale</td>\n",
       "      <td>One year later, Dunder Mifflin employees past ...</td>\n",
       "      <td>9.8</td>\n",
       "      <td>10515</td>\n",
       "      <td>5.69</td>\n",
       "      <td>51</td>\n",
       "      <td>2013-05-16</td>\n",
       "      <td>Joan Cusack, Ed Begley Jr, Rachel Harris, Nanc...</td>\n",
       "      <td>Ken Kwapis</td>\n",
       "      <td>[Greg Daniels]</td>\n",
       "      <td>True</td>\n",
       "      <td>1.00000</td>\n",
       "      <td>NaN</td>\n",
       "      <td>darkgreen</td>\n",
       "      <td>250</td>\n",
       "      <td>False</td>\n",
       "    </tr>\n",
       "  </tbody>\n",
       "</table>\n",
       "<p>188 rows × 18 columns</p>\n",
       "</div>"
      ],
      "text/plain": [
       "     episode_number  season     episode_title  \\\n",
       "0                 0       1             Pilot   \n",
       "1                 1       1     Diversity Day   \n",
       "2                 2       1       Health Care   \n",
       "3                 3       1      The Alliance   \n",
       "4                 4       1        Basketball   \n",
       "..              ...     ...               ...   \n",
       "183             183       9     Stairmageddon   \n",
       "184             184       9    Paper Airplane   \n",
       "185             185       9  Livin' the Dream   \n",
       "186             186       9          A.A.R.M.   \n",
       "187             187       9            Finale   \n",
       "\n",
       "                                           description  ratings  votes  \\\n",
       "0    The premiere episode introduces the boss and s...      7.5   4936   \n",
       "1    Michael's off color remark puts a sensitivity ...      8.3   4801   \n",
       "2    Michael leaves Dwight in charge of picking the...      7.8   4024   \n",
       "3    Just for a laugh, Jim agrees to an alliance wi...      8.1   3915   \n",
       "4    Michael and his staff challenge the warehouse ...      8.4   4294   \n",
       "..                                                 ...      ...    ...   \n",
       "183  Dwight shoots Stanley with a bull tranquilizer...      8.0   1985   \n",
       "184  The employees hold a paper airplane competitio...      8.0   2007   \n",
       "185  Dwight becomes regional manager after Andy qui...      9.0   2831   \n",
       "186  Dwight prepares for a marriage proposal and hi...      9.5   3914   \n",
       "187  One year later, Dunder Mifflin employees past ...      9.8  10515   \n",
       "\n",
       "     viewership_mil  duration release_date  \\\n",
       "0             11.20        23   2005-03-24   \n",
       "1              6.00        23   2005-03-29   \n",
       "2              5.80        22   2005-04-05   \n",
       "3              5.40        23   2005-04-12   \n",
       "4              5.00        23   2005-04-19   \n",
       "..              ...       ...          ...   \n",
       "183            3.83        22   2013-04-11   \n",
       "184            3.25        22   2013-04-25   \n",
       "185            3.51        42   2013-05-02   \n",
       "186            4.56        43   2013-05-09   \n",
       "187            5.69        51   2013-05-16   \n",
       "\n",
       "                                           guest_stars         director  \\\n",
       "0                                                  NaN       Ken Kwapis   \n",
       "1                                                  NaN       Ken Kwapis   \n",
       "2                                                  NaN  Ken Whittingham   \n",
       "3                                                  NaN     Bryan Gordon   \n",
       "4                                                  NaN     Greg Daniels   \n",
       "..                                                 ...              ...   \n",
       "183                                                NaN        Matt Sohn   \n",
       "184                                                NaN     Jesse Peretz   \n",
       "185                                 Michael Imperioli     Jeffrey Blitz   \n",
       "186                                                NaN     David Rogers   \n",
       "187  Joan Cusack, Ed Begley Jr, Rachel Harris, Nanc...       Ken Kwapis   \n",
       "\n",
       "                                             writers  has_guests  \\\n",
       "0    [Ricky Gervais, Stephen Merchant, Greg Daniels]       False   \n",
       "1                                      [B. J. Novak]       False   \n",
       "2                                 [Paul Lieberstein]       False   \n",
       "3                                    [Michael Schur]       False   \n",
       "4                                     [Greg Daniels]       False   \n",
       "..                                               ...         ...   \n",
       "183                                   [Dan Sterling]       False   \n",
       "184         [Halsted Sullivan ,  Warren Lieberstein]       False   \n",
       "185                           [Niki Schwartz-Wright]        True   \n",
       "186                                [Brent Forrester]       False   \n",
       "187                                   [Greg Daniels]        True   \n",
       "\n",
       "     scaled_ratings  rating_labels rating_colors  sizes  multiple_writers  \n",
       "0           0.28125            NaN        orange     25              True  \n",
       "1           0.53125            NaN    lightgreen     25             False  \n",
       "2           0.37500            NaN        orange     25             False  \n",
       "3           0.46875            NaN        orange     25             False  \n",
       "4           0.56250            NaN    lightgreen     25             False  \n",
       "..              ...            ...           ...    ...               ...  \n",
       "183         0.43750            NaN        orange     25             False  \n",
       "184         0.43750            NaN        orange     25              True  \n",
       "185         0.75000            NaN     darkgreen    250             False  \n",
       "186         0.90625            NaN     darkgreen     25             False  \n",
       "187         1.00000            NaN     darkgreen    250             False  \n",
       "\n",
       "[188 rows x 18 columns]"
      ]
     },
     "execution_count": 258,
     "metadata": {},
     "output_type": "execute_result"
    }
   ],
   "source": [
    "office"
   ]
  },
  {
   "cell_type": "code",
   "execution_count": 260,
   "id": "searching-potato",
   "metadata": {},
   "outputs": [],
   "source": [
    "office_dates = office.set_index('release_date')"
   ]
  },
  {
   "cell_type": "code",
   "execution_count": 261,
   "id": "empirical-money",
   "metadata": {},
   "outputs": [
    {
     "data": {
      "text/html": [
       "<div>\n",
       "<style scoped>\n",
       "    .dataframe tbody tr th:only-of-type {\n",
       "        vertical-align: middle;\n",
       "    }\n",
       "\n",
       "    .dataframe tbody tr th {\n",
       "        vertical-align: top;\n",
       "    }\n",
       "\n",
       "    .dataframe thead th {\n",
       "        text-align: right;\n",
       "    }\n",
       "</style>\n",
       "<table border=\"1\" class=\"dataframe\">\n",
       "  <thead>\n",
       "    <tr style=\"text-align: right;\">\n",
       "      <th></th>\n",
       "      <th>episode_number</th>\n",
       "      <th>season</th>\n",
       "      <th>episode_title</th>\n",
       "      <th>description</th>\n",
       "      <th>ratings</th>\n",
       "      <th>votes</th>\n",
       "      <th>viewership_mil</th>\n",
       "      <th>duration</th>\n",
       "      <th>guest_stars</th>\n",
       "      <th>director</th>\n",
       "      <th>writers</th>\n",
       "      <th>has_guests</th>\n",
       "      <th>scaled_ratings</th>\n",
       "      <th>rating_labels</th>\n",
       "      <th>rating_colors</th>\n",
       "      <th>sizes</th>\n",
       "      <th>multiple_writers</th>\n",
       "    </tr>\n",
       "    <tr>\n",
       "      <th>release_date</th>\n",
       "      <th></th>\n",
       "      <th></th>\n",
       "      <th></th>\n",
       "      <th></th>\n",
       "      <th></th>\n",
       "      <th></th>\n",
       "      <th></th>\n",
       "      <th></th>\n",
       "      <th></th>\n",
       "      <th></th>\n",
       "      <th></th>\n",
       "      <th></th>\n",
       "      <th></th>\n",
       "      <th></th>\n",
       "      <th></th>\n",
       "      <th></th>\n",
       "      <th></th>\n",
       "    </tr>\n",
       "  </thead>\n",
       "  <tbody>\n",
       "    <tr>\n",
       "      <th>2005-03-24</th>\n",
       "      <td>0</td>\n",
       "      <td>1</td>\n",
       "      <td>Pilot</td>\n",
       "      <td>The premiere episode introduces the boss and s...</td>\n",
       "      <td>7.5</td>\n",
       "      <td>4936</td>\n",
       "      <td>11.20</td>\n",
       "      <td>23</td>\n",
       "      <td>NaN</td>\n",
       "      <td>Ken Kwapis</td>\n",
       "      <td>[Ricky Gervais, Stephen Merchant, Greg Daniels]</td>\n",
       "      <td>False</td>\n",
       "      <td>0.28125</td>\n",
       "      <td>NaN</td>\n",
       "      <td>orange</td>\n",
       "      <td>25</td>\n",
       "      <td>True</td>\n",
       "    </tr>\n",
       "    <tr>\n",
       "      <th>2005-03-29</th>\n",
       "      <td>1</td>\n",
       "      <td>1</td>\n",
       "      <td>Diversity Day</td>\n",
       "      <td>Michael's off color remark puts a sensitivity ...</td>\n",
       "      <td>8.3</td>\n",
       "      <td>4801</td>\n",
       "      <td>6.00</td>\n",
       "      <td>23</td>\n",
       "      <td>NaN</td>\n",
       "      <td>Ken Kwapis</td>\n",
       "      <td>[B. J. Novak]</td>\n",
       "      <td>False</td>\n",
       "      <td>0.53125</td>\n",
       "      <td>NaN</td>\n",
       "      <td>lightgreen</td>\n",
       "      <td>25</td>\n",
       "      <td>False</td>\n",
       "    </tr>\n",
       "    <tr>\n",
       "      <th>2005-04-05</th>\n",
       "      <td>2</td>\n",
       "      <td>1</td>\n",
       "      <td>Health Care</td>\n",
       "      <td>Michael leaves Dwight in charge of picking the...</td>\n",
       "      <td>7.8</td>\n",
       "      <td>4024</td>\n",
       "      <td>5.80</td>\n",
       "      <td>22</td>\n",
       "      <td>NaN</td>\n",
       "      <td>Ken Whittingham</td>\n",
       "      <td>[Paul Lieberstein]</td>\n",
       "      <td>False</td>\n",
       "      <td>0.37500</td>\n",
       "      <td>NaN</td>\n",
       "      <td>orange</td>\n",
       "      <td>25</td>\n",
       "      <td>False</td>\n",
       "    </tr>\n",
       "    <tr>\n",
       "      <th>2005-04-12</th>\n",
       "      <td>3</td>\n",
       "      <td>1</td>\n",
       "      <td>The Alliance</td>\n",
       "      <td>Just for a laugh, Jim agrees to an alliance wi...</td>\n",
       "      <td>8.1</td>\n",
       "      <td>3915</td>\n",
       "      <td>5.40</td>\n",
       "      <td>23</td>\n",
       "      <td>NaN</td>\n",
       "      <td>Bryan Gordon</td>\n",
       "      <td>[Michael Schur]</td>\n",
       "      <td>False</td>\n",
       "      <td>0.46875</td>\n",
       "      <td>NaN</td>\n",
       "      <td>orange</td>\n",
       "      <td>25</td>\n",
       "      <td>False</td>\n",
       "    </tr>\n",
       "    <tr>\n",
       "      <th>2005-04-19</th>\n",
       "      <td>4</td>\n",
       "      <td>1</td>\n",
       "      <td>Basketball</td>\n",
       "      <td>Michael and his staff challenge the warehouse ...</td>\n",
       "      <td>8.4</td>\n",
       "      <td>4294</td>\n",
       "      <td>5.00</td>\n",
       "      <td>23</td>\n",
       "      <td>NaN</td>\n",
       "      <td>Greg Daniels</td>\n",
       "      <td>[Greg Daniels]</td>\n",
       "      <td>False</td>\n",
       "      <td>0.56250</td>\n",
       "      <td>NaN</td>\n",
       "      <td>lightgreen</td>\n",
       "      <td>25</td>\n",
       "      <td>False</td>\n",
       "    </tr>\n",
       "    <tr>\n",
       "      <th>...</th>\n",
       "      <td>...</td>\n",
       "      <td>...</td>\n",
       "      <td>...</td>\n",
       "      <td>...</td>\n",
       "      <td>...</td>\n",
       "      <td>...</td>\n",
       "      <td>...</td>\n",
       "      <td>...</td>\n",
       "      <td>...</td>\n",
       "      <td>...</td>\n",
       "      <td>...</td>\n",
       "      <td>...</td>\n",
       "      <td>...</td>\n",
       "      <td>...</td>\n",
       "      <td>...</td>\n",
       "      <td>...</td>\n",
       "      <td>...</td>\n",
       "    </tr>\n",
       "    <tr>\n",
       "      <th>2013-04-11</th>\n",
       "      <td>183</td>\n",
       "      <td>9</td>\n",
       "      <td>Stairmageddon</td>\n",
       "      <td>Dwight shoots Stanley with a bull tranquilizer...</td>\n",
       "      <td>8.0</td>\n",
       "      <td>1985</td>\n",
       "      <td>3.83</td>\n",
       "      <td>22</td>\n",
       "      <td>NaN</td>\n",
       "      <td>Matt Sohn</td>\n",
       "      <td>[Dan Sterling]</td>\n",
       "      <td>False</td>\n",
       "      <td>0.43750</td>\n",
       "      <td>NaN</td>\n",
       "      <td>orange</td>\n",
       "      <td>25</td>\n",
       "      <td>False</td>\n",
       "    </tr>\n",
       "    <tr>\n",
       "      <th>2013-04-25</th>\n",
       "      <td>184</td>\n",
       "      <td>9</td>\n",
       "      <td>Paper Airplane</td>\n",
       "      <td>The employees hold a paper airplane competitio...</td>\n",
       "      <td>8.0</td>\n",
       "      <td>2007</td>\n",
       "      <td>3.25</td>\n",
       "      <td>22</td>\n",
       "      <td>NaN</td>\n",
       "      <td>Jesse Peretz</td>\n",
       "      <td>[Halsted Sullivan ,  Warren Lieberstein]</td>\n",
       "      <td>False</td>\n",
       "      <td>0.43750</td>\n",
       "      <td>NaN</td>\n",
       "      <td>orange</td>\n",
       "      <td>25</td>\n",
       "      <td>True</td>\n",
       "    </tr>\n",
       "    <tr>\n",
       "      <th>2013-05-02</th>\n",
       "      <td>185</td>\n",
       "      <td>9</td>\n",
       "      <td>Livin' the Dream</td>\n",
       "      <td>Dwight becomes regional manager after Andy qui...</td>\n",
       "      <td>9.0</td>\n",
       "      <td>2831</td>\n",
       "      <td>3.51</td>\n",
       "      <td>42</td>\n",
       "      <td>Michael Imperioli</td>\n",
       "      <td>Jeffrey Blitz</td>\n",
       "      <td>[Niki Schwartz-Wright]</td>\n",
       "      <td>True</td>\n",
       "      <td>0.75000</td>\n",
       "      <td>NaN</td>\n",
       "      <td>darkgreen</td>\n",
       "      <td>250</td>\n",
       "      <td>False</td>\n",
       "    </tr>\n",
       "    <tr>\n",
       "      <th>2013-05-09</th>\n",
       "      <td>186</td>\n",
       "      <td>9</td>\n",
       "      <td>A.A.R.M.</td>\n",
       "      <td>Dwight prepares for a marriage proposal and hi...</td>\n",
       "      <td>9.5</td>\n",
       "      <td>3914</td>\n",
       "      <td>4.56</td>\n",
       "      <td>43</td>\n",
       "      <td>NaN</td>\n",
       "      <td>David Rogers</td>\n",
       "      <td>[Brent Forrester]</td>\n",
       "      <td>False</td>\n",
       "      <td>0.90625</td>\n",
       "      <td>NaN</td>\n",
       "      <td>darkgreen</td>\n",
       "      <td>25</td>\n",
       "      <td>False</td>\n",
       "    </tr>\n",
       "    <tr>\n",
       "      <th>2013-05-16</th>\n",
       "      <td>187</td>\n",
       "      <td>9</td>\n",
       "      <td>Finale</td>\n",
       "      <td>One year later, Dunder Mifflin employees past ...</td>\n",
       "      <td>9.8</td>\n",
       "      <td>10515</td>\n",
       "      <td>5.69</td>\n",
       "      <td>51</td>\n",
       "      <td>Joan Cusack, Ed Begley Jr, Rachel Harris, Nanc...</td>\n",
       "      <td>Ken Kwapis</td>\n",
       "      <td>[Greg Daniels]</td>\n",
       "      <td>True</td>\n",
       "      <td>1.00000</td>\n",
       "      <td>NaN</td>\n",
       "      <td>darkgreen</td>\n",
       "      <td>250</td>\n",
       "      <td>False</td>\n",
       "    </tr>\n",
       "  </tbody>\n",
       "</table>\n",
       "<p>188 rows × 17 columns</p>\n",
       "</div>"
      ],
      "text/plain": [
       "              episode_number  season     episode_title  \\\n",
       "release_date                                             \n",
       "2005-03-24                 0       1             Pilot   \n",
       "2005-03-29                 1       1     Diversity Day   \n",
       "2005-04-05                 2       1       Health Care   \n",
       "2005-04-12                 3       1      The Alliance   \n",
       "2005-04-19                 4       1        Basketball   \n",
       "...                      ...     ...               ...   \n",
       "2013-04-11               183       9     Stairmageddon   \n",
       "2013-04-25               184       9    Paper Airplane   \n",
       "2013-05-02               185       9  Livin' the Dream   \n",
       "2013-05-09               186       9          A.A.R.M.   \n",
       "2013-05-16               187       9            Finale   \n",
       "\n",
       "                                                    description  ratings  \\\n",
       "release_date                                                               \n",
       "2005-03-24    The premiere episode introduces the boss and s...      7.5   \n",
       "2005-03-29    Michael's off color remark puts a sensitivity ...      8.3   \n",
       "2005-04-05    Michael leaves Dwight in charge of picking the...      7.8   \n",
       "2005-04-12    Just for a laugh, Jim agrees to an alliance wi...      8.1   \n",
       "2005-04-19    Michael and his staff challenge the warehouse ...      8.4   \n",
       "...                                                         ...      ...   \n",
       "2013-04-11    Dwight shoots Stanley with a bull tranquilizer...      8.0   \n",
       "2013-04-25    The employees hold a paper airplane competitio...      8.0   \n",
       "2013-05-02    Dwight becomes regional manager after Andy qui...      9.0   \n",
       "2013-05-09    Dwight prepares for a marriage proposal and hi...      9.5   \n",
       "2013-05-16    One year later, Dunder Mifflin employees past ...      9.8   \n",
       "\n",
       "              votes  viewership_mil  duration  \\\n",
       "release_date                                    \n",
       "2005-03-24     4936           11.20        23   \n",
       "2005-03-29     4801            6.00        23   \n",
       "2005-04-05     4024            5.80        22   \n",
       "2005-04-12     3915            5.40        23   \n",
       "2005-04-19     4294            5.00        23   \n",
       "...             ...             ...       ...   \n",
       "2013-04-11     1985            3.83        22   \n",
       "2013-04-25     2007            3.25        22   \n",
       "2013-05-02     2831            3.51        42   \n",
       "2013-05-09     3914            4.56        43   \n",
       "2013-05-16    10515            5.69        51   \n",
       "\n",
       "                                                    guest_stars  \\\n",
       "release_date                                                      \n",
       "2005-03-24                                                  NaN   \n",
       "2005-03-29                                                  NaN   \n",
       "2005-04-05                                                  NaN   \n",
       "2005-04-12                                                  NaN   \n",
       "2005-04-19                                                  NaN   \n",
       "...                                                         ...   \n",
       "2013-04-11                                                  NaN   \n",
       "2013-04-25                                                  NaN   \n",
       "2013-05-02                                   Michael Imperioli    \n",
       "2013-05-09                                                  NaN   \n",
       "2013-05-16    Joan Cusack, Ed Begley Jr, Rachel Harris, Nanc...   \n",
       "\n",
       "                     director  \\\n",
       "release_date                    \n",
       "2005-03-24         Ken Kwapis   \n",
       "2005-03-29         Ken Kwapis   \n",
       "2005-04-05    Ken Whittingham   \n",
       "2005-04-12       Bryan Gordon   \n",
       "2005-04-19       Greg Daniels   \n",
       "...                       ...   \n",
       "2013-04-11          Matt Sohn   \n",
       "2013-04-25       Jesse Peretz   \n",
       "2013-05-02      Jeffrey Blitz   \n",
       "2013-05-09       David Rogers   \n",
       "2013-05-16         Ken Kwapis   \n",
       "\n",
       "                                                      writers  has_guests  \\\n",
       "release_date                                                                \n",
       "2005-03-24    [Ricky Gervais, Stephen Merchant, Greg Daniels]       False   \n",
       "2005-03-29                                      [B. J. Novak]       False   \n",
       "2005-04-05                                 [Paul Lieberstein]       False   \n",
       "2005-04-12                                    [Michael Schur]       False   \n",
       "2005-04-19                                     [Greg Daniels]       False   \n",
       "...                                                       ...         ...   \n",
       "2013-04-11                                     [Dan Sterling]       False   \n",
       "2013-04-25           [Halsted Sullivan ,  Warren Lieberstein]       False   \n",
       "2013-05-02                             [Niki Schwartz-Wright]        True   \n",
       "2013-05-09                                  [Brent Forrester]       False   \n",
       "2013-05-16                                     [Greg Daniels]        True   \n",
       "\n",
       "              scaled_ratings  rating_labels rating_colors  sizes  \\\n",
       "release_date                                                       \n",
       "2005-03-24           0.28125            NaN        orange     25   \n",
       "2005-03-29           0.53125            NaN    lightgreen     25   \n",
       "2005-04-05           0.37500            NaN        orange     25   \n",
       "2005-04-12           0.46875            NaN        orange     25   \n",
       "2005-04-19           0.56250            NaN    lightgreen     25   \n",
       "...                      ...            ...           ...    ...   \n",
       "2013-04-11           0.43750            NaN        orange     25   \n",
       "2013-04-25           0.43750            NaN        orange     25   \n",
       "2013-05-02           0.75000            NaN     darkgreen    250   \n",
       "2013-05-09           0.90625            NaN     darkgreen     25   \n",
       "2013-05-16           1.00000            NaN     darkgreen    250   \n",
       "\n",
       "              multiple_writers  \n",
       "release_date                    \n",
       "2005-03-24                True  \n",
       "2005-03-29               False  \n",
       "2005-04-05               False  \n",
       "2005-04-12               False  \n",
       "2005-04-19               False  \n",
       "...                        ...  \n",
       "2013-04-11               False  \n",
       "2013-04-25                True  \n",
       "2013-05-02               False  \n",
       "2013-05-09               False  \n",
       "2013-05-16               False  \n",
       "\n",
       "[188 rows x 17 columns]"
      ]
     },
     "execution_count": 261,
     "metadata": {},
     "output_type": "execute_result"
    }
   ],
   "source": [
    "office_dates"
   ]
  },
  {
   "cell_type": "code",
   "execution_count": 273,
   "id": "adjustable-discretion",
   "metadata": {},
   "outputs": [],
   "source": [
    "import matplotlib.dates as dates"
   ]
  },
  {
   "cell_type": "code",
   "execution_count": 275,
   "id": "checked-basis",
   "metadata": {},
   "outputs": [],
   "source": [
    "quarter_counts = office_dates.resample('Q',kind='period').size()#.plot()"
   ]
  },
  {
   "cell_type": "code",
   "execution_count": 282,
   "id": "apart-tenant",
   "metadata": {},
   "outputs": [],
   "source": [
    "quarter_counts.index = quarter_counts.index.astype('str')"
   ]
  },
  {
   "cell_type": "code",
   "execution_count": 280,
   "id": "surprised-beijing",
   "metadata": {},
   "outputs": [
    {
     "data": {
      "text/plain": [
       "<AxesSubplot:xlabel='release_date'>"
      ]
     },
     "execution_count": 280,
     "metadata": {},
     "output_type": "execute_result"
    },
    {
     "data": {
      "image/png": "[encoded data removed]",
      "text/plain": [
       "<Figure size 432x288 with 1 Axes>"
      ]
     },
     "metadata": {
      "needs_background": "light"
     },
     "output_type": "display_data"
    }
   ],
   "source": []
  },
  {
   "cell_type": "code",
   "execution_count": 293,
   "id": "cosmetic-headquarters",
   "metadata": {},
   "outputs": [
    {
     "data": {
      "image/png": "[encoded data removed]",
      "text/plain": [
       "<Figure size 1440x864 with 1 Axes>"
      ]
     },
     "metadata": {
      "needs_background": "light"
     },
     "output_type": "display_data"
    }
   ],
   "source": [
    "fig,ax = plt.subplots(figsize=(20,12))\n",
    "quarter_counts.plot(marker='o')\n",
    "ax.set_xticks([i for i in range(0,len(quarter_counts),4)])\n",
    "ax.set_xticklabels([quarter_counts.index[i] for i in range(0,len(quarter_counts),4)])\n",
    "ax.set_xticks([i for i in range(len(quarter_counts))],minor=True)\n",
    "ax.set_xticks\n",
    "ax.grid()"
   ]
  },
  {
   "cell_type": "code",
   "execution_count": 286,
   "id": "oriented-cameroon",
   "metadata": {},
   "outputs": [
    {
     "data": {
      "text/plain": [
       "release_date\n",
       "2005Q1     2\n",
       "2005Q2     4\n",
       "2005Q3     2\n",
       "2005Q4     8\n",
       "2006Q1     9\n",
       "2006Q2     3\n",
       "2006Q3     2\n",
       "2006Q4     8\n",
       "2007Q1     7\n",
       "2007Q2     6\n",
       "2007Q3     1\n",
       "2007Q4     7\n",
       "2008Q1     0\n",
       "2008Q2     6\n",
       "2008Q3     1\n",
       "2008Q4     9\n",
       "2009Q1     9\n",
       "2009Q2     7\n",
       "2009Q3     2\n",
       "2009Q4    11\n",
       "2010Q1     8\n",
       "2010Q2     5\n",
       "2010Q3     2\n",
       "2010Q4     9\n",
       "2011Q1     7\n",
       "2011Q2     6\n",
       "2011Q3     2\n",
       "2011Q4     8\n",
       "2012Q1     9\n",
       "2012Q2     5\n",
       "2012Q3     2\n",
       "2012Q4     7\n",
       "2013Q1     8\n",
       "2013Q2     6\n",
       "dtype: int64"
      ]
     },
     "execution_count": 286,
     "metadata": {},
     "output_type": "execute_result"
    }
   ],
   "source": [
    "quarter_counts"
   ]
  },
  {
   "cell_type": "code",
   "execution_count": 297,
   "id": "handmade-macintosh",
   "metadata": {},
   "outputs": [
    {
     "data": {
      "text/plain": [
       "<AxesSubplot:>"
      ]
     },
     "execution_count": 297,
     "metadata": {},
     "output_type": "execute_result"
    },
    {
     "data": {
      "image/png": "[encoded data removed]",
      "text/plain": [
       "<Figure size 432x288 with 1 Axes>"
      ]
     },
     "metadata": {
      "needs_background": "light"
     },
     "output_type": "display_data"
    }
   ],
   "source": [
    "office.release_date.dt.month_name().value_counts().plot(kind='bar')"
   ]
  },
  {
   "cell_type": "code",
   "execution_count": 304,
   "id": "precious-biography",
   "metadata": {},
   "outputs": [],
   "source": [
    "writer_counts = d.groupby('writers').size()"
   ]
  },
  {
   "cell_type": "code",
   "execution_count": 308,
   "id": "corrected-acquisition",
   "metadata": {},
   "outputs": [
    {
     "data": {
      "application/vnd.plotly.v1+json": {
       "config": {
        "plotlyServerURL": "https://plot.ly"
       },
       "data": [
        {
         "alignmentgroup": "True",
         "hovertemplate": "y=%{y}<extra></extra>",
         "legendgroup": "",
         "marker": {
          "color": "#636efa"
         },
         "name": "",
         "notched": false,
         "offsetgroup": "",
         "orientation": "v",
         "showlegend": false,
         "type": "box",
         "x0": " ",
         "xaxis": "x",
         "y": [
          6,
          3,
          2,
          2,
          15,
          11,
          1,
          4,
          7,
          2,
          2,
          7,
          2,
          15,
          2,
          13,
          7,
          1,
          11,
          2,
          2,
          1,
          11,
          1,
          15,
          2,
          10,
          22,
          2,
          4,
          16,
          1,
          2,
          4,
          2,
          2,
          2,
          3,
          1,
          7
         ],
         "y0": " ",
         "yaxis": "y"
        }
       ],
       "layout": {
        "autosize": true,
        "boxmode": "group",
        "legend": {
         "tracegroupgap": 0
        },
        "margin": {
         "t": 60
        },
        "template": {
         "data": {
          "bar": [
           {
            "error_x": {
             "color": "#2a3f5f"
            },
            "error_y": {
             "color": "#2a3f5f"
            },
            "marker": {
             "line": {
              "color": "#E5ECF6",
              "width": 0.5
             }
            },
            "type": "bar"
           }
          ],
          "barpolar": [
           {
            "marker": {
             "line": {
              "color": "#E5ECF6",
              "width": 0.5
             }
            },
            "type": "barpolar"
           }
          ],
          "carpet": [
           {
            "aaxis": {
             "endlinecolor": "#2a3f5f",
             "gridcolor": "white",
             "linecolor": "white",
             "minorgridcolor": "white",
             "startlinecolor": "#2a3f5f"
            },
            "baxis": {
             "endlinecolor": "#2a3f5f",
             "gridcolor": "white",
             "linecolor": "white",
             "minorgridcolor": "white",
             "startlinecolor": "#2a3f5f"
            },
            "type": "carpet"
           }
          ],
          "choropleth": [
           {
            "colorbar": {
             "outlinewidth": 0,
             "ticks": ""
            },
            "type": "choropleth"
           }
          ],
          "contour": [
           {
            "colorbar": {
             "outlinewidth": 0,
             "ticks": ""
            },
            "colorscale": [
             [
              0,
              "#0d0887"
             ],
             [
              0.1111111111111111,
              "#46039f"
             ],
             [
              0.2222222222222222,
              "#7201a8"
             ],
             [
              0.3333333333333333,
              "#9c179e"
             ],
             [
              0.4444444444444444,
              "#bd3786"
             ],
             [
              0.5555555555555556,
              "#d8576b"
             ],
             [
              0.6666666666666666,
              "#ed7953"
             ],
             [
              0.7777777777777778,
              "#fb9f3a"
             ],
             [
              0.8888888888888888,
              "#fdca26"
             ],
             [
              1,
              "#f0f921"
             ]
            ],
            "type": "contour"
           }
          ],
          "contourcarpet": [
           {
            "colorbar": {
             "outlinewidth": 0,
             "ticks": ""
            },
            "type": "contourcarpet"
           }
          ],
          "heatmap": [
           {
            "colorbar": {
             "outlinewidth": 0,
             "ticks": ""
            },
            "colorscale": [
             [
              0,
              "#0d0887"
             ],
             [
              0.1111111111111111,
              "#46039f"
             ],
             [
              0.2222222222222222,
              "#7201a8"
             ],
             [
              0.3333333333333333,
              "#9c179e"
             ],
             [
              0.4444444444444444,
              "#bd3786"
             ],
             [
              0.5555555555555556,
              "#d8576b"
             ],
             [
              0.6666666666666666,
              "#ed7953"
             ],
             [
              0.7777777777777778,
              "#fb9f3a"
             ],
             [
              0.8888888888888888,
              "#fdca26"
             ],
             [
              1,
              "#f0f921"
             ]
            ],
            "type": "heatmap"
           }
          ],
          "heatmapgl": [
           {
            "colorbar": {
             "outlinewidth": 0,
             "ticks": ""
            },
            "colorscale": [
             [
              0,
              "#0d0887"
             ],
             [
              0.1111111111111111,
              "#46039f"
             ],
             [
              0.2222222222222222,
              "#7201a8"
             ],
             [
              0.3333333333333333,
              "#9c179e"
             ],
             [
              0.4444444444444444,
              "#bd3786"
             ],
             [
              0.5555555555555556,
              "#d8576b"
             ],
             [
              0.6666666666666666,
              "#ed7953"
             ],
             [
              0.7777777777777778,
              "#fb9f3a"
             ],
             [
              0.8888888888888888,
              "#fdca26"
             ],
             [
              1,
              "#f0f921"
             ]
            ],
            "type": "heatmapgl"
           }
          ],
          "histogram": [
           {
            "marker": {
             "colorbar": {
              "outlinewidth": 0,
              "ticks": ""
             }
            },
            "type": "histogram"
           }
          ],
          "histogram2d": [
           {
            "colorbar": {
             "outlinewidth": 0,
             "ticks": ""
            },
            "colorscale": [
             [
              0,
              "#0d0887"
             ],
             [
              0.1111111111111111,
              "#46039f"
             ],
             [
              0.2222222222222222,
              "#7201a8"
             ],
             [
              0.3333333333333333,
              "#9c179e"
             ],
             [
              0.4444444444444444,
              "#bd3786"
             ],
             [
              0.5555555555555556,
              "#d8576b"
             ],
             [
              0.6666666666666666,
              "#ed7953"
             ],
             [
              0.7777777777777778,
              "#fb9f3a"
             ],
             [
              0.8888888888888888,
              "#fdca26"
             ],
             [
              1,
              "#f0f921"
             ]
            ],
            "type": "histogram2d"
           }
          ],
          "histogram2dcontour": [
           {
            "colorbar": {
             "outlinewidth": 0,
             "ticks": ""
            },
            "colorscale": [
             [
              0,
              "#0d0887"
             ],
             [
              0.1111111111111111,
              "#46039f"
             ],
             [
              0.2222222222222222,
              "#7201a8"
             ],
             [
              0.3333333333333333,
              "#9c179e"
             ],
             [
              0.4444444444444444,
              "#bd3786"
             ],
             [
              0.5555555555555556,
              "#d8576b"
             ],
             [
              0.6666666666666666,
              "#ed7953"
             ],
             [
              0.7777777777777778,
              "#fb9f3a"
             ],
             [
              0.8888888888888888,
              "#fdca26"
             ],
             [
              1,
              "#f0f921"
             ]
            ],
            "type": "histogram2dcontour"
           }
          ],
          "mesh3d": [
           {
            "colorbar": {
             "outlinewidth": 0,
             "ticks": ""
            },
            "type": "mesh3d"
           }
          ],
          "parcoords": [
           {
            "line": {
             "colorbar": {
              "outlinewidth": 0,
              "ticks": ""
             }
            },
            "type": "parcoords"
           }
          ],
          "pie": [
           {
            "automargin": true,
            "type": "pie"
           }
          ],
          "scatter": [
           {
            "marker": {
             "colorbar": {
              "outlinewidth": 0,
              "ticks": ""
             }
            },
            "type": "scatter"
           }
          ],
          "scatter3d": [
           {
            "line": {
             "colorbar": {
              "outlinewidth": 0,
              "ticks": ""
             }
            },
            "marker": {
             "colorbar": {
              "outlinewidth": 0,
              "ticks": ""
             }
            },
            "type": "scatter3d"
           }
          ],
          "scattercarpet": [
           {
            "marker": {
             "colorbar": {
              "outlinewidth": 0,
              "ticks": ""
             }
            },
            "type": "scattercarpet"
           }
          ],
          "scattergeo": [
           {
            "marker": {
             "colorbar": {
              "outlinewidth": 0,
              "ticks": ""
             }
            },
            "type": "scattergeo"
           }
          ],
          "scattergl": [
           {
            "marker": {
             "colorbar": {
              "outlinewidth": 0,
              "ticks": ""
             }
            },
            "type": "scattergl"
           }
          ],
          "scattermapbox": [
           {
            "marker": {
             "colorbar": {
              "outlinewidth": 0,
              "ticks": ""
             }
            },
            "type": "scattermapbox"
           }
          ],
          "scatterpolar": [
           {
            "marker": {
             "colorbar": {
              "outlinewidth": 0,
              "ticks": ""
             }
            },
            "type": "scatterpolar"
           }
          ],
          "scatterpolargl": [
           {
            "marker": {
             "colorbar": {
              "outlinewidth": 0,
              "ticks": ""
             }
            },
            "type": "scatterpolargl"
           }
          ],
          "scatterternary": [
           {
            "marker": {
             "colorbar": {
              "outlinewidth": 0,
              "ticks": ""
             }
            },
            "type": "scatterternary"
           }
          ],
          "surface": [
           {
            "colorbar": {
             "outlinewidth": 0,
             "ticks": ""
            },
            "colorscale": [
             [
              0,
              "#0d0887"
             ],
             [
              0.1111111111111111,
              "#46039f"
             ],
             [
              0.2222222222222222,
              "#7201a8"
             ],
             [
              0.3333333333333333,
              "#9c179e"
             ],
             [
              0.4444444444444444,
              "#bd3786"
             ],
             [
              0.5555555555555556,
              "#d8576b"
             ],
             [
              0.6666666666666666,
              "#ed7953"
             ],
             [
              0.7777777777777778,
              "#fb9f3a"
             ],
             [
              0.8888888888888888,
              "#fdca26"
             ],
             [
              1,
              "#f0f921"
             ]
            ],
            "type": "surface"
           }
          ],
          "table": [
           {
            "cells": {
             "fill": {
              "color": "#EBF0F8"
             },
             "line": {
              "color": "white"
             }
            },
            "header": {
             "fill": {
              "color": "#C8D4E3"
             },
             "line": {
              "color": "white"
             }
            },
            "type": "table"
           }
          ]
         },
         "layout": {
          "annotationdefaults": {
           "arrowcolor": "#2a3f5f",
           "arrowhead": 0,
           "arrowwidth": 1
          },
          "autotypenumbers": "strict",
          "coloraxis": {
           "colorbar": {
            "outlinewidth": 0,
            "ticks": ""
           }
          },
          "colorscale": {
           "diverging": [
            [
             0,
             "#8e0152"
            ],
            [
             0.1,
             "#c51b7d"
            ],
            [
             0.2,
             "#de77ae"
            ],
            [
             0.3,
             "#f1b6da"
            ],
            [
             0.4,
             "#fde0ef"
            ],
            [
             0.5,
             "#f7f7f7"
            ],
            [
             0.6,
             "#e6f5d0"
            ],
            [
             0.7,
             "#b8e186"
            ],
            [
             0.8,
             "#7fbc41"
            ],
            [
             0.9,
             "#4d9221"
            ],
            [
             1,
             "#276419"
            ]
           ],
           "sequential": [
            [
             0,
             "#0d0887"
            ],
            [
             0.1111111111111111,
             "#46039f"
            ],
            [
             0.2222222222222222,
             "#7201a8"
            ],
            [
             0.3333333333333333,
             "#9c179e"
            ],
            [
             0.4444444444444444,
             "#bd3786"
            ],
            [
             0.5555555555555556,
             "#d8576b"
            ],
            [
             0.6666666666666666,
             "#ed7953"
            ],
            [
             0.7777777777777778,
             "#fb9f3a"
            ],
            [
             0.8888888888888888,
             "#fdca26"
            ],
            [
             1,
             "#f0f921"
            ]
           ],
           "sequentialminus": [
            [
             0,
             "#0d0887"
            ],
            [
             0.1111111111111111,
             "#46039f"
            ],
            [
             0.2222222222222222,
             "#7201a8"
            ],
            [
             0.3333333333333333,
             "#9c179e"
            ],
            [
             0.4444444444444444,
             "#bd3786"
            ],
            [
             0.5555555555555556,
             "#d8576b"
            ],
            [
             0.6666666666666666,
             "#ed7953"
            ],
            [
             0.7777777777777778,
             "#fb9f3a"
            ],
            [
             0.8888888888888888,
             "#fdca26"
            ],
            [
             1,
             "#f0f921"
            ]
           ]
          },
          "colorway": [
           "#636efa",
           "#EF553B",
           "#00cc96",
           "#ab63fa",
           "#FFA15A",
           "#19d3f3",
           "#FF6692",
           "#B6E880",
           "#FF97FF",
           "#FECB52"
          ],
          "font": {
           "color": "#2a3f5f"
          },
          "geo": {
           "bgcolor": "white",
           "lakecolor": "white",
           "landcolor": "#E5ECF6",
           "showlakes": true,
           "showland": true,
           "subunitcolor": "white"
          },
          "hoverlabel": {
           "align": "left"
          },
          "hovermode": "closest",
          "mapbox": {
           "style": "light"
          },
          "paper_bgcolor": "white",
          "plot_bgcolor": "#E5ECF6",
          "polar": {
           "angularaxis": {
            "gridcolor": "white",
            "linecolor": "white",
            "ticks": ""
           },
           "bgcolor": "#E5ECF6",
           "radialaxis": {
            "gridcolor": "white",
            "linecolor": "white",
            "ticks": ""
           }
          },
          "scene": {
           "xaxis": {
            "backgroundcolor": "#E5ECF6",
            "gridcolor": "white",
            "gridwidth": 2,
            "linecolor": "white",
            "showbackground": true,
            "ticks": "",
            "zerolinecolor": "white"
           },
           "yaxis": {
            "backgroundcolor": "#E5ECF6",
            "gridcolor": "white",
            "gridwidth": 2,
            "linecolor": "white",
            "showbackground": true,
            "ticks": "",
            "zerolinecolor": "white"
           },
           "zaxis": {
            "backgroundcolor": "#E5ECF6",
            "gridcolor": "white",
            "gridwidth": 2,
            "linecolor": "white",
            "showbackground": true,
            "ticks": "",
            "zerolinecolor": "white"
           }
          },
          "shapedefaults": {
           "line": {
            "color": "#2a3f5f"
           }
          },
          "ternary": {
           "aaxis": {
            "gridcolor": "white",
            "linecolor": "white",
            "ticks": ""
           },
           "baxis": {
            "gridcolor": "white",
            "linecolor": "white",
            "ticks": ""
           },
           "bgcolor": "#E5ECF6",
           "caxis": {
            "gridcolor": "white",
            "linecolor": "white",
            "ticks": ""
           }
          },
          "title": {
           "x": 0.05
          },
          "xaxis": {
           "automargin": true,
           "gridcolor": "white",
           "linecolor": "white",
           "ticks": "",
           "title": {
            "standoff": 15
           },
           "zerolinecolor": "white",
           "zerolinewidth": 2
          },
          "yaxis": {
           "automargin": true,
           "gridcolor": "white",
           "linecolor": "white",
           "ticks": "",
           "title": {
            "standoff": 15
           },
           "zerolinecolor": "white",
           "zerolinewidth": 2
          }
         }
        },
        "xaxis": {
         "anchor": "y",
         "autorange": true,
         "domain": [
          0,
          1
         ],
         "range": [
          -0.5,
          0.5
         ],
         "type": "category"
        },
        "yaxis": {
         "anchor": "x",
         "autorange": true,
         "domain": [
          0,
          1
         ],
         "range": [
          -0.16666666666666674,
          23.166666666666668
         ],
         "title": {
          "text": "y"
         },
         "type": "linear"
        }
       }
      },
      "image/png": "[encoded data removed]",
      "text/html": [
       "<div>                            <div id=\"74f68867-fc4f-4aa4-b4b9-3f28b571ac34\" class=\"plotly-graph-div\" style=\"height:525px; width:100%;\"></div>            <script type=\"text/javascript\">                require([\"plotly\"], function(Plotly) {                    window.PLOTLYENV=window.PLOTLYENV || {};                                    if (document.getElementById(\"74f68867-fc4f-4aa4-b4b9-3f28b571ac34\")) {                    Plotly.newPlot(                        \"74f68867-fc4f-4aa4-b4b9-3f28b571ac34\",                        [{\"alignmentgroup\": \"True\", \"hovertemplate\": \"y=%{y}<extra></extra>\", \"legendgroup\": \"\", \"marker\": {\"color\": \"#636efa\"}, \"name\": \"\", \"notched\": false, \"offsetgroup\": \"\", \"orientation\": \"v\", \"showlegend\": false, \"type\": \"box\", \"x0\": \" \", \"xaxis\": \"x\", \"y\": [6, 3, 2, 2, 15, 11, 1, 4, 7, 2, 2, 7, 2, 15, 2, 13, 7, 1, 11, 2, 2, 1, 11, 1, 15, 2, 10, 22, 2, 4, 16, 1, 2, 4, 2, 2, 2, 3, 1, 7], \"y0\": \" \", \"yaxis\": \"y\"}],                        {\"boxmode\": \"group\", \"legend\": {\"tracegroupgap\": 0}, \"margin\": {\"t\": 60}, \"template\": {\"data\": {\"bar\": [{\"error_x\": {\"color\": \"#2a3f5f\"}, \"error_y\": {\"color\": \"#2a3f5f\"}, \"marker\": {\"line\": {\"color\": \"#E5ECF6\", \"width\": 0.5}}, \"type\": \"bar\"}], \"barpolar\": [{\"marker\": {\"line\": {\"color\": \"#E5ECF6\", \"width\": 0.5}}, \"type\": \"barpolar\"}], \"carpet\": [{\"aaxis\": {\"endlinecolor\": \"#2a3f5f\", \"gridcolor\": \"white\", \"linecolor\": \"white\", \"minorgridcolor\": \"white\", \"startlinecolor\": \"#2a3f5f\"}, \"baxis\": {\"endlinecolor\": \"#2a3f5f\", \"gridcolor\": \"white\", \"linecolor\": \"white\", \"minorgridcolor\": \"white\", \"startlinecolor\": \"#2a3f5f\"}, \"type\": \"carpet\"}], \"choropleth\": [{\"colorbar\": {\"outlinewidth\": 0, \"ticks\": \"\"}, \"type\": \"choropleth\"}], \"contour\": [{\"colorbar\": {\"outlinewidth\": 0, \"ticks\": \"\"}, \"colorscale\": [[0.0, \"#0d0887\"], [0.1111111111111111, \"#46039f\"], [0.2222222222222222, \"#7201a8\"], [0.3333333333333333, \"#9c179e\"], [0.4444444444444444, \"#bd3786\"], [0.5555555555555556, \"#d8576b\"], [0.6666666666666666, \"#ed7953\"], [0.7777777777777778, \"#fb9f3a\"], [0.8888888888888888, \"#fdca26\"], [1.0, \"#f0f921\"]], \"type\": \"contour\"}], \"contourcarpet\": [{\"colorbar\": {\"outlinewidth\": 0, \"ticks\": \"\"}, \"type\": \"contourcarpet\"}], \"heatmap\": [{\"colorbar\": {\"outlinewidth\": 0, \"ticks\": \"\"}, \"colorscale\": [[0.0, \"#0d0887\"], [0.1111111111111111, \"#46039f\"], [0.2222222222222222, \"#7201a8\"], [0.3333333333333333, \"#9c179e\"], [0.4444444444444444, \"#bd3786\"], [0.5555555555555556, \"#d8576b\"], [0.6666666666666666, \"#ed7953\"], [0.7777777777777778, \"#fb9f3a\"], [0.8888888888888888, \"#fdca26\"], [1.0, \"#f0f921\"]], \"type\": \"heatmap\"}], \"heatmapgl\": [{\"colorbar\": {\"outlinewidth\": 0, \"ticks\": \"\"}, \"colorscale\": [[0.0, \"#0d0887\"], [0.1111111111111111, \"#46039f\"], [0.2222222222222222, \"#7201a8\"], [0.3333333333333333, \"#9c179e\"], [0.4444444444444444, \"#bd3786\"], [0.5555555555555556, \"#d8576b\"], [0.6666666666666666, \"#ed7953\"], [0.7777777777777778, \"#fb9f3a\"], [0.8888888888888888, \"#fdca26\"], [1.0, \"#f0f921\"]], \"type\": \"heatmapgl\"}], \"histogram\": [{\"marker\": {\"colorbar\": {\"outlinewidth\": 0, \"ticks\": \"\"}}, \"type\": \"histogram\"}], \"histogram2d\": [{\"colorbar\": {\"outlinewidth\": 0, \"ticks\": \"\"}, \"colorscale\": [[0.0, \"#0d0887\"], [0.1111111111111111, \"#46039f\"], [0.2222222222222222, \"#7201a8\"], [0.3333333333333333, \"#9c179e\"], [0.4444444444444444, \"#bd3786\"], [0.5555555555555556, \"#d8576b\"], [0.6666666666666666, \"#ed7953\"], [0.7777777777777778, \"#fb9f3a\"], [0.8888888888888888, \"#fdca26\"], [1.0, \"#f0f921\"]], \"type\": \"histogram2d\"}], \"histogram2dcontour\": [{\"colorbar\": {\"outlinewidth\": 0, \"ticks\": \"\"}, \"colorscale\": [[0.0, \"#0d0887\"], [0.1111111111111111, \"#46039f\"], [0.2222222222222222, \"#7201a8\"], [0.3333333333333333, \"#9c179e\"], [0.4444444444444444, \"#bd3786\"], [0.5555555555555556, \"#d8576b\"], [0.6666666666666666, \"#ed7953\"], [0.7777777777777778, \"#fb9f3a\"], [0.8888888888888888, \"#fdca26\"], [1.0, \"#f0f921\"]], \"type\": \"histogram2dcontour\"}], \"mesh3d\": [{\"colorbar\": {\"outlinewidth\": 0, \"ticks\": \"\"}, \"type\": \"mesh3d\"}], \"parcoords\": [{\"line\": {\"colorbar\": {\"outlinewidth\": 0, \"ticks\": \"\"}}, \"type\": \"parcoords\"}], \"pie\": [{\"automargin\": true, \"type\": \"pie\"}], \"scatter\": [{\"marker\": {\"colorbar\": {\"outlinewidth\": 0, \"ticks\": \"\"}}, \"type\": \"scatter\"}], \"scatter3d\": [{\"line\": {\"colorbar\": {\"outlinewidth\": 0, \"ticks\": \"\"}}, \"marker\": {\"colorbar\": {\"outlinewidth\": 0, \"ticks\": \"\"}}, \"type\": \"scatter3d\"}], \"scattercarpet\": [{\"marker\": {\"colorbar\": {\"outlinewidth\": 0, \"ticks\": \"\"}}, \"type\": \"scattercarpet\"}], \"scattergeo\": [{\"marker\": {\"colorbar\": {\"outlinewidth\": 0, \"ticks\": \"\"}}, \"type\": \"scattergeo\"}], \"scattergl\": [{\"marker\": {\"colorbar\": {\"outlinewidth\": 0, \"ticks\": \"\"}}, \"type\": \"scattergl\"}], \"scattermapbox\": [{\"marker\": {\"colorbar\": {\"outlinewidth\": 0, \"ticks\": \"\"}}, \"type\": \"scattermapbox\"}], \"scatterpolar\": [{\"marker\": {\"colorbar\": {\"outlinewidth\": 0, \"ticks\": \"\"}}, \"type\": \"scatterpolar\"}], \"scatterpolargl\": [{\"marker\": {\"colorbar\": {\"outlinewidth\": 0, \"ticks\": \"\"}}, \"type\": \"scatterpolargl\"}], \"scatterternary\": [{\"marker\": {\"colorbar\": {\"outlinewidth\": 0, \"ticks\": \"\"}}, \"type\": \"scatterternary\"}], \"surface\": [{\"colorbar\": {\"outlinewidth\": 0, \"ticks\": \"\"}, \"colorscale\": [[0.0, \"#0d0887\"], [0.1111111111111111, \"#46039f\"], [0.2222222222222222, \"#7201a8\"], [0.3333333333333333, \"#9c179e\"], [0.4444444444444444, \"#bd3786\"], [0.5555555555555556, \"#d8576b\"], [0.6666666666666666, \"#ed7953\"], [0.7777777777777778, \"#fb9f3a\"], [0.8888888888888888, \"#fdca26\"], [1.0, \"#f0f921\"]], \"type\": \"surface\"}], \"table\": [{\"cells\": {\"fill\": {\"color\": \"#EBF0F8\"}, \"line\": {\"color\": \"white\"}}, \"header\": {\"fill\": {\"color\": \"#C8D4E3\"}, \"line\": {\"color\": \"white\"}}, \"type\": \"table\"}]}, \"layout\": {\"annotationdefaults\": {\"arrowcolor\": \"#2a3f5f\", \"arrowhead\": 0, \"arrowwidth\": 1}, \"autotypenumbers\": \"strict\", \"coloraxis\": {\"colorbar\": {\"outlinewidth\": 0, \"ticks\": \"\"}}, \"colorscale\": {\"diverging\": [[0, \"#8e0152\"], [0.1, \"#c51b7d\"], [0.2, \"#de77ae\"], [0.3, \"#f1b6da\"], [0.4, \"#fde0ef\"], [0.5, \"#f7f7f7\"], [0.6, \"#e6f5d0\"], [0.7, \"#b8e186\"], [0.8, \"#7fbc41\"], [0.9, \"#4d9221\"], [1, \"#276419\"]], \"sequential\": [[0.0, \"#0d0887\"], [0.1111111111111111, \"#46039f\"], [0.2222222222222222, \"#7201a8\"], [0.3333333333333333, \"#9c179e\"], [0.4444444444444444, \"#bd3786\"], [0.5555555555555556, \"#d8576b\"], [0.6666666666666666, \"#ed7953\"], [0.7777777777777778, \"#fb9f3a\"], [0.8888888888888888, \"#fdca26\"], [1.0, \"#f0f921\"]], \"sequentialminus\": [[0.0, \"#0d0887\"], [0.1111111111111111, \"#46039f\"], [0.2222222222222222, \"#7201a8\"], [0.3333333333333333, \"#9c179e\"], [0.4444444444444444, \"#bd3786\"], [0.5555555555555556, \"#d8576b\"], [0.6666666666666666, \"#ed7953\"], [0.7777777777777778, \"#fb9f3a\"], [0.8888888888888888, \"#fdca26\"], [1.0, \"#f0f921\"]]}, \"colorway\": [\"#636efa\", \"#EF553B\", \"#00cc96\", \"#ab63fa\", \"#FFA15A\", \"#19d3f3\", \"#FF6692\", \"#B6E880\", \"#FF97FF\", \"#FECB52\"], \"font\": {\"color\": \"#2a3f5f\"}, \"geo\": {\"bgcolor\": \"white\", \"lakecolor\": \"white\", \"landcolor\": \"#E5ECF6\", \"showlakes\": true, \"showland\": true, \"subunitcolor\": \"white\"}, \"hoverlabel\": {\"align\": \"left\"}, \"hovermode\": \"closest\", \"mapbox\": {\"style\": \"light\"}, \"paper_bgcolor\": \"white\", \"plot_bgcolor\": \"#E5ECF6\", \"polar\": {\"angularaxis\": {\"gridcolor\": \"white\", \"linecolor\": \"white\", \"ticks\": \"\"}, \"bgcolor\": \"#E5ECF6\", \"radialaxis\": {\"gridcolor\": \"white\", \"linecolor\": \"white\", \"ticks\": \"\"}}, \"scene\": {\"xaxis\": {\"backgroundcolor\": \"#E5ECF6\", \"gridcolor\": \"white\", \"gridwidth\": 2, \"linecolor\": \"white\", \"showbackground\": true, \"ticks\": \"\", \"zerolinecolor\": \"white\"}, \"yaxis\": {\"backgroundcolor\": \"#E5ECF6\", \"gridcolor\": \"white\", \"gridwidth\": 2, \"linecolor\": \"white\", \"showbackground\": true, \"ticks\": \"\", \"zerolinecolor\": \"white\"}, \"zaxis\": {\"backgroundcolor\": \"#E5ECF6\", \"gridcolor\": \"white\", \"gridwidth\": 2, \"linecolor\": \"white\", \"showbackground\": true, \"ticks\": \"\", \"zerolinecolor\": \"white\"}}, \"shapedefaults\": {\"line\": {\"color\": \"#2a3f5f\"}}, \"ternary\": {\"aaxis\": {\"gridcolor\": \"white\", \"linecolor\": \"white\", \"ticks\": \"\"}, \"baxis\": {\"gridcolor\": \"white\", \"linecolor\": \"white\", \"ticks\": \"\"}, \"bgcolor\": \"#E5ECF6\", \"caxis\": {\"gridcolor\": \"white\", \"linecolor\": \"white\", \"ticks\": \"\"}}, \"title\": {\"x\": 0.05}, \"xaxis\": {\"automargin\": true, \"gridcolor\": \"white\", \"linecolor\": \"white\", \"ticks\": \"\", \"title\": {\"standoff\": 15}, \"zerolinecolor\": \"white\", \"zerolinewidth\": 2}, \"yaxis\": {\"automargin\": true, \"gridcolor\": \"white\", \"linecolor\": \"white\", \"ticks\": \"\", \"title\": {\"standoff\": 15}, \"zerolinecolor\": \"white\", \"zerolinewidth\": 2}}}, \"xaxis\": {\"anchor\": \"y\", \"domain\": [0.0, 1.0]}, \"yaxis\": {\"anchor\": \"x\", \"domain\": [0.0, 1.0], \"title\": {\"text\": \"y\"}}},                        {\"responsive\": true}                    ).then(function(){\n",
       "                            \n",
       "var gd = document.getElementById('74f68867-fc4f-4aa4-b4b9-3f28b571ac34');\n",
       "var x = new MutationObserver(function (mutations, observer) {{\n",
       "        var display = window.getComputedStyle(gd).display;\n",
       "        if (!display || display === 'none') {{\n",
       "            console.log([gd, 'removed!']);\n",
       "            Plotly.purge(gd);\n",
       "            observer.disconnect();\n",
       "        }}\n",
       "}});\n",
       "\n",
       "// Listen for the removal of the full notebook cells\n",
       "var notebookContainer = gd.closest('#notebook-container');\n",
       "if (notebookContainer) {{\n",
       "    x.observe(notebookContainer, {childList: true});\n",
       "}}\n",
       "\n",
       "// Listen for the clearing of the current output cell\n",
       "var outputEl = gd.closest('.output');\n",
       "if (outputEl) {{\n",
       "    x.observe(outputEl, {childList: true});\n",
       "}}\n",
       "\n",
       "                        })                };                });            </script>        </div>"
      ]
     },
     "metadata": {},
     "output_type": "display_data"
    }
   ],
   "source": [
    "px.box(y=writer_counts)"
   ]
  },
  {
   "cell_type": "code",
   "execution_count": 311,
   "id": "atlantic-upgrade",
   "metadata": {},
   "outputs": [
    {
     "data": {
      "text/plain": [
       "<AxesSubplot:>"
      ]
     },
     "execution_count": 311,
     "metadata": {},
     "output_type": "execute_result"
    },
    {
     "data": {
      "image/png": "[encoded data removed]",
      "text/plain": [
       "<Figure size 432x288 with 1 Axes>"
      ]
     },
     "metadata": {
      "needs_background": "light"
     },
     "output_type": "display_data"
    }
   ],
   "source": [
    "sns.violinplot(y=writer_counts)\n",
    "sns.swarmplot(y=writer_counts,color='black')"
   ]
  },
  {
   "cell_type": "code",
   "execution_count": 320,
   "id": "reserved-bicycle",
   "metadata": {},
   "outputs": [
    {
     "data": {
      "text/plain": [
       "1     0.150\n",
       "2     0.500\n",
       "3     0.550\n",
       "4     0.625\n",
       "6     0.650\n",
       "7     0.750\n",
       "10    0.775\n",
       "11    0.850\n",
       "13    0.875\n",
       "15    0.950\n",
       "16    0.975\n",
       "22    1.000\n",
       "dtype: float64"
      ]
     },
     "execution_count": 320,
     "metadata": {},
     "output_type": "execute_result"
    }
   ],
   "source": [
    "writer_counts.value_counts(normalize=True).sort_index().cumsum()"
   ]
  },
  {
   "cell_type": "code",
   "execution_count": 317,
   "id": "involved-gilbert",
   "metadata": {},
   "outputs": [],
   "source": [
    "from scipy.stats import percentileofscore"
   ]
  },
  {
   "cell_type": "code",
   "execution_count": 323,
   "id": "informed-munich",
   "metadata": {},
   "outputs": [
    {
     "data": {
      "text/plain": [
       "77.5"
      ]
     },
     "execution_count": 323,
     "metadata": {},
     "output_type": "execute_result"
    }
   ],
   "source": [
    "percentileofscore(writer_counts,10)"
   ]
  },
  {
   "cell_type": "code",
   "execution_count": null,
   "id": "optical-eight",
   "metadata": {},
   "outputs": [],
   "source": []
  }
 ],
 "metadata": {
  "kernelspec": {
   "display_name": "Python 3",
   "language": "python",
   "name": "python3"
  },
  "language_info": {
   "codemirror_mode": {
    "name": "ipython",
    "version": 3
   },
   "file_extension": ".py",
   "mimetype": "text/x-python",
   "name": "python",
   "nbconvert_exporter": "python",
   "pygments_lexer": "ipython3",
   "version": "3.7.9"
  }
 },
 "nbformat": 4,
 "nbformat_minor": 5
}
